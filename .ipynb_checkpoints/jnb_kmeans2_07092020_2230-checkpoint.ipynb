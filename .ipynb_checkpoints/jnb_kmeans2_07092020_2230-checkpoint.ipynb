{
 "cells": [
  {
   "cell_type": "code",
   "execution_count": 1,
   "metadata": {},
   "outputs": [],
   "source": [
    "from sklearn.datasets import make_blobs\n",
    "from sklearn.cluster import KMeans\n",
    "import pandas as pd\n",
    "import matplotlib.pyplot as plt\n",
    "import numpy as np"
   ]
  },
  {
   "cell_type": "code",
   "execution_count": 82,
   "metadata": {},
   "outputs": [],
   "source": [
    "ds1 = make_blobs(n_samples = 100, n_features = 5, centers = 5, random_state = 50)"
   ]
  },
  {
   "cell_type": "code",
   "execution_count": 83,
   "metadata": {},
   "outputs": [
    {
     "data": {
      "text/plain": [
       "(array([[ 9.32605034, -4.21746136,  5.65146157,  5.16660558, -6.17144655],\n",
       "        [-2.67498601, -4.40150606, -6.12788544,  8.2653305 ,  7.87456373],\n",
       "        [-0.24119789, -2.80160455,  9.6513736 ,  3.03958007, -1.50799408],\n",
       "        [-0.7404622 , -3.14212051, -4.20443755, -2.5685643 , -2.98827484],\n",
       "        [ 0.69078081,  0.9717494 ,  7.53603686,  0.75702864,  4.02435077],\n",
       "        [11.23601348, -1.49951636,  5.36859019,  6.18715991, -3.51985629],\n",
       "        [-2.30924098, -1.28992072, -7.0257952 , 10.68976315,  8.58181892],\n",
       "        [-1.13877939, -2.44424611, -4.04100269, -2.07362232, -4.81098466],\n",
       "        [10.68787023, -2.98051478,  6.17369179,  3.90152953, -3.42950217],\n",
       "        [-0.10555314, -4.87269561,  6.46544316,  4.9891418 , -2.23829826],\n",
       "        [-4.07109955, -2.73725793, -8.26453669,  8.06151695,  7.08208575],\n",
       "        [-1.0661785 , -6.21661921, -4.91400042, -1.85480588, -2.41684424],\n",
       "        [ 0.49985152,  0.5128703 , 11.25125757,  2.96881579,  4.182704  ],\n",
       "        [ 0.77693594, -5.22886625,  6.19571768,  3.9270468 , -2.30439965],\n",
       "        [ 8.47753656, -2.08279482,  4.82872698,  4.89921656, -2.81649195],\n",
       "        [-1.73779117, -4.13041915, -7.86589663,  8.1976968 ,  9.72522868],\n",
       "        [ 0.68191246,  1.10980778,  7.51501985,  0.43578138,  2.73261136],\n",
       "        [ 0.8590442 , -3.00546169,  5.82814269,  3.09076765, -0.63203979],\n",
       "        [ 0.90629701, -4.38690313,  8.32142802,  3.54736227, -2.38578977],\n",
       "        [-2.21203482, -4.58372044, -6.11991138,  8.85667891,  9.32727291],\n",
       "        [ 2.15606208, -5.70218034, -5.42413333, -2.47135552, -2.05132979],\n",
       "        [ 9.35600212, -2.22790922,  5.5231135 ,  5.07792131, -3.98967928],\n",
       "        [-3.64137825, -3.61179173, -8.19245652,  8.80438249,  7.17931875],\n",
       "        [-0.73786418, -6.07543499, -6.61528318, -0.7276087 , -2.41406757],\n",
       "        [ 0.31786023,  1.6919473 ,  9.89863692,  0.38843309,  2.24995231],\n",
       "        [ 0.80733212, -5.53353871, -6.46693978, -0.36078011, -4.10874687],\n",
       "        [ 1.42324056,  0.44183601, 10.74518932,  1.19647422,  5.49942453],\n",
       "        [ 9.85572792, -3.6318092 ,  5.82741404,  4.60679317, -3.58501694],\n",
       "        [-0.23897962, -4.72503465, -4.00001152, -3.60284788, -3.29116622],\n",
       "        [ 0.64711955, -1.77338604,  8.98902728,  1.69621779,  3.66816616],\n",
       "        [-0.84629374, -4.65091364, -5.1659284 , -1.65241684, -2.36824663],\n",
       "        [ 8.94272807, -0.99100307,  6.64205558,  6.62742784, -3.70367004],\n",
       "        [ 0.07735504, -4.58954671, -5.29176263, -2.45923326, -2.95683448],\n",
       "        [ 0.09857116, -0.4480648 ,  7.4691311 ,  2.58797426,  2.93902915],\n",
       "        [ 1.91069961,  0.2052923 , 10.39756543,  2.99125281,  4.38749609],\n",
       "        [-3.90385775, -2.16359369, -7.06026513,  9.23195662,  8.80955702],\n",
       "        [-3.25199711, -3.59281883, -7.51022836,  9.78186293,  7.97234828],\n",
       "        [ 2.18414698, -2.98924487,  6.83273829,  4.06242182, -1.25853501],\n",
       "        [ 0.98762201, -3.17524256,  7.21533867,  1.96326826, -2.68316109],\n",
       "        [ 8.83797695, -3.40063482,  5.63361848,  2.57999686, -5.52384679],\n",
       "        [ 9.60895043, -2.52544029,  5.49550095,  4.91419661, -2.09087194],\n",
       "        [-0.962057  , -0.3439683 ,  9.23595863,  0.55110356,  3.82701853],\n",
       "        [ 9.13524302, -1.9443271 ,  3.71492025,  3.2811383 , -2.91185214],\n",
       "        [-4.23576174, -1.14128354, -6.680713  ,  9.73149998,  8.42416556],\n",
       "        [ 2.7806146 , -5.05263619,  7.66187983,  2.79485024, -0.99161022],\n",
       "        [ 9.13571625, -2.14191765,  5.92050503,  4.20224382, -3.58420596],\n",
       "        [-0.92331641, -6.24525996, -6.62118662, -0.88868668, -1.89932786],\n",
       "        [-0.41507532,  0.47915746,  8.07186265,  1.47675417,  3.18738225],\n",
       "        [ 0.59292198, -6.50667842, -4.64482543, -1.76035309, -1.64856431],\n",
       "        [ 0.88083726,  2.20038676,  9.22155277,  0.8170256 ,  3.30465051],\n",
       "        [ 0.46852718, -5.38762406, -4.09098732,  0.43914658, -1.62812888],\n",
       "        [-0.87995984, -1.28227482,  7.60852314,  1.17288951,  3.78784686],\n",
       "        [ 1.57157322, -2.69654104,  7.99959704,  3.43224736, -2.21193407],\n",
       "        [-1.29201211,  1.34842392,  8.05416785,  2.19852041,  2.91402675],\n",
       "        [ 1.55260709,  1.06534378,  8.28501838,  1.05079471,  3.14868306],\n",
       "        [ 8.36988271, -2.27683295,  5.60339586,  4.69980378, -4.55139421],\n",
       "        [ 0.45372952, -4.67758006, -5.2167557 , -0.94584123, -2.07168401],\n",
       "        [ 9.32082501, -2.62970773,  6.05947253,  4.83606083, -4.79539742],\n",
       "        [ 1.11498628, -4.20687354,  7.24736061,  2.37790692, -0.81956842],\n",
       "        [-0.73754437, -5.71392254, -2.78077208, -2.13092301, -3.45754788],\n",
       "        [-2.39157253, -3.41210164, -8.016416  ,  8.53162996,  8.11081088],\n",
       "        [ 0.42122835,  2.01499349,  7.74478607,  1.14918195,  4.32833208],\n",
       "        [-0.01428807, -3.53170467,  8.26781398,  0.75941132,  0.04506817],\n",
       "        [-0.64637499, -4.31915918,  6.23624011,  3.05017099, -2.39563614],\n",
       "        [-0.17496885, -3.75986183, -5.74787106, -0.95982514, -0.76339773],\n",
       "        [-0.2536369 , -5.81547087, -3.89420045, -1.15670032, -1.69819312],\n",
       "        [ 0.91626534, -3.83015345,  9.17091393,  5.38099868, -2.22269916],\n",
       "        [ 1.36571562, -3.0133242 ,  6.66820083,  2.82871358, -1.51409432],\n",
       "        [-1.5434782 , -4.16100213, -5.00207322, -2.92759374, -2.99839747],\n",
       "        [ 0.96607626, -3.39803058,  7.07819506,  2.4883143 , -1.51944577],\n",
       "        [-2.52823232, -3.50462667, -6.36832727,  8.5863306 ,  7.39180349],\n",
       "        [-0.29061067, -5.20619516, -4.47037659, -2.58406757, -3.40193695],\n",
       "        [-1.81762353, -3.13469376, -7.9261027 ,  9.69143988,  9.01920361],\n",
       "        [ 9.73691781, -1.21670346,  3.4407385 ,  4.47460433, -3.24037845],\n",
       "        [-3.79256446, -2.19561605, -6.63772079,  8.09853008,  7.65616418],\n",
       "        [10.50469913, -3.83855971,  6.16442295,  5.62132156, -3.12205326],\n",
       "        [ 2.17091164, -2.96373525,  9.51923349,  3.37514823, -2.63155028],\n",
       "        [ 8.46380011, -3.19527608,  4.53382994,  4.68613353, -3.77436081],\n",
       "        [-4.19213789, -1.95975501, -6.03371727,  9.14376827,  8.69385774],\n",
       "        [-3.34680427, -1.6309511 , -5.8176341 ,  7.46339891,  7.05498223],\n",
       "        [ 2.17550789, -4.03227473,  8.80155962,  2.82839255, -1.97309025],\n",
       "        [-0.7783108 , -0.87717557,  8.12325901,  1.03894981,  2.54411458],\n",
       "        [ 1.4848086 , -6.96910431, -4.03196931, -3.4507889 , -0.55636548],\n",
       "        [ 8.91465651, -1.83256334,  4.99333351,  6.85504031, -2.64235474],\n",
       "        [ 9.4375192 ,  0.06132107,  5.33520376,  4.075555  , -4.32859812],\n",
       "        [-4.02965872, -3.42963074, -6.49972947,  7.6950069 , 10.18489317],\n",
       "        [ 0.55381397,  1.34254421,  7.68662721,  2.00752621,  4.47752614],\n",
       "        [ 2.81954013, -2.55170912,  7.69511231,  2.82816089, -2.16649043],\n",
       "        [-2.47609358, -2.8507553 , -5.83745916,  9.80081183,  8.26904156],\n",
       "        [ 0.65576664,  0.20856975,  8.04914747,  2.28156146,  4.28223178],\n",
       "        [ 9.63607152,  0.59398553,  5.19542693,  4.98000537, -2.9555087 ],\n",
       "        [ 0.30471666, -3.94223153,  6.18445919,  4.23500601, -3.26312388],\n",
       "        [-2.40194204, -2.39212019, -7.86312624,  8.73374112, 10.18771924],\n",
       "        [-0.98579929,  3.12104737,  6.69712033,  1.97040537,  2.8488478 ],\n",
       "        [10.4034422 , -1.92727586,  3.83250503,  5.22492983, -1.17441285],\n",
       "        [-1.79331332, -1.63749157, -5.79618959, 10.15832674,  9.15730915],\n",
       "        [-3.46989428, -2.20414957, -7.83779945,  9.46302191,  8.30262903],\n",
       "        [ 0.06962347, -3.65143382,  7.48817125,  3.63979349, -2.0302832 ],\n",
       "        [ 0.01410238,  0.82976036,  8.50141016,  0.93881023,  2.88214756],\n",
       "        [-1.22898175, -4.54152574, -4.23990766, -3.83552319, -1.11471646]]),\n",
       " array([1, 2, 3, 0, 4, 1, 2, 0, 1, 3, 2, 0, 4, 3, 1, 2, 4, 3, 3, 2, 0, 1,\n",
       "        2, 0, 4, 0, 4, 1, 0, 4, 0, 1, 0, 4, 4, 2, 2, 3, 3, 1, 1, 4, 1, 2,\n",
       "        3, 1, 0, 4, 0, 4, 0, 4, 3, 4, 4, 1, 0, 1, 3, 0, 2, 4, 3, 3, 0, 0,\n",
       "        3, 3, 0, 3, 2, 0, 2, 1, 2, 1, 3, 1, 2, 2, 3, 4, 0, 1, 1, 2, 4, 3,\n",
       "        2, 4, 1, 3, 2, 4, 1, 2, 2, 3, 4, 0]))"
      ]
     },
     "execution_count": 83,
     "metadata": {},
     "output_type": "execute_result"
    }
   ],
   "source": [
    "ds1"
   ]
  },
  {
   "cell_type": "code",
   "execution_count": 84,
   "metadata": {},
   "outputs": [
    {
     "data": {
      "text/plain": [
       "(100,)"
      ]
     },
     "execution_count": 84,
     "metadata": {},
     "output_type": "execute_result"
    }
   ],
   "source": [
    "ds1[1].shape"
   ]
  },
  {
   "cell_type": "code",
   "execution_count": 85,
   "metadata": {},
   "outputs": [
    {
     "data": {
      "text/plain": [
       "numpy.ndarray"
      ]
     },
     "execution_count": 85,
     "metadata": {},
     "output_type": "execute_result"
    }
   ],
   "source": [
    "type(ds1[0])"
   ]
  },
  {
   "cell_type": "code",
   "execution_count": 86,
   "metadata": {},
   "outputs": [
    {
     "data": {
      "text/plain": [
       "(100, 5)"
      ]
     },
     "execution_count": 86,
     "metadata": {},
     "output_type": "execute_result"
    }
   ],
   "source": [
    "ds1[0].shape"
   ]
  },
  {
   "cell_type": "code",
   "execution_count": 87,
   "metadata": {},
   "outputs": [
    {
     "data": {
      "text/plain": [
       "array([1, 2, 3, 0, 4, 1, 2, 0, 1, 3, 2, 0, 4, 3, 1, 2, 4, 3, 3, 2, 0, 1,\n",
       "       2, 0, 4, 0, 4, 1, 0, 4, 0, 1, 0, 4, 4, 2, 2, 3, 3, 1, 1, 4, 1, 2,\n",
       "       3, 1, 0, 4, 0, 4, 0, 4, 3, 4, 4, 1, 0, 1, 3, 0, 2, 4, 3, 3, 0, 0,\n",
       "       3, 3, 0, 3, 2, 0, 2, 1, 2, 1, 3, 1, 2, 2, 3, 4, 0, 1, 1, 2, 4, 3,\n",
       "       2, 4, 1, 3, 2, 4, 1, 2, 2, 3, 4, 0])"
      ]
     },
     "execution_count": 87,
     "metadata": {},
     "output_type": "execute_result"
    }
   ],
   "source": [
    "ds1[1]"
   ]
  },
  {
   "cell_type": "code",
   "execution_count": 88,
   "metadata": {},
   "outputs": [
    {
     "data": {
      "text/plain": [
       "numpy.ndarray"
      ]
     },
     "execution_count": 88,
     "metadata": {},
     "output_type": "execute_result"
    }
   ],
   "source": [
    "type(ds1[1])"
   ]
  },
  {
   "cell_type": "code",
   "execution_count": 89,
   "metadata": {},
   "outputs": [
    {
     "data": {
      "text/html": [
       "<div>\n",
       "<style scoped>\n",
       "    .dataframe tbody tr th:only-of-type {\n",
       "        vertical-align: middle;\n",
       "    }\n",
       "\n",
       "    .dataframe tbody tr th {\n",
       "        vertical-align: top;\n",
       "    }\n",
       "\n",
       "    .dataframe thead th {\n",
       "        text-align: right;\n",
       "    }\n",
       "</style>\n",
       "<table border=\"1\" class=\"dataframe\">\n",
       "  <thead>\n",
       "    <tr style=\"text-align: right;\">\n",
       "      <th></th>\n",
       "      <th>0</th>\n",
       "      <th>1</th>\n",
       "      <th>2</th>\n",
       "      <th>3</th>\n",
       "      <th>4</th>\n",
       "      <th>cluster</th>\n",
       "    </tr>\n",
       "  </thead>\n",
       "  <tbody>\n",
       "    <tr>\n",
       "      <th>0</th>\n",
       "      <td>-4.373871</td>\n",
       "      <td>-4.109214</td>\n",
       "      <td>-8.389220</td>\n",
       "      <td>10.950974</td>\n",
       "      <td>8.123522</td>\n",
       "      <td>2</td>\n",
       "    </tr>\n",
       "    <tr>\n",
       "      <th>1</th>\n",
       "      <td>0.453730</td>\n",
       "      <td>-4.677580</td>\n",
       "      <td>-5.216756</td>\n",
       "      <td>-0.945841</td>\n",
       "      <td>-2.071684</td>\n",
       "      <td>0</td>\n",
       "    </tr>\n",
       "    <tr>\n",
       "      <th>2</th>\n",
       "      <td>8.764899</td>\n",
       "      <td>-0.012636</td>\n",
       "      <td>5.847830</td>\n",
       "      <td>5.488940</td>\n",
       "      <td>-3.559216</td>\n",
       "      <td>1</td>\n",
       "    </tr>\n",
       "    <tr>\n",
       "      <th>3</th>\n",
       "      <td>-1.138779</td>\n",
       "      <td>-2.444246</td>\n",
       "      <td>-4.041003</td>\n",
       "      <td>-2.073622</td>\n",
       "      <td>-4.810985</td>\n",
       "      <td>0</td>\n",
       "    </tr>\n",
       "    <tr>\n",
       "      <th>4</th>\n",
       "      <td>9.037059</td>\n",
       "      <td>-2.050102</td>\n",
       "      <td>3.858338</td>\n",
       "      <td>5.954278</td>\n",
       "      <td>-4.884686</td>\n",
       "      <td>1</td>\n",
       "    </tr>\n",
       "    <tr>\n",
       "      <th>...</th>\n",
       "      <td>...</td>\n",
       "      <td>...</td>\n",
       "      <td>...</td>\n",
       "      <td>...</td>\n",
       "      <td>...</td>\n",
       "      <td>...</td>\n",
       "    </tr>\n",
       "    <tr>\n",
       "      <th>95</th>\n",
       "      <td>-0.238980</td>\n",
       "      <td>-4.725035</td>\n",
       "      <td>-4.000012</td>\n",
       "      <td>-3.602848</td>\n",
       "      <td>-3.291166</td>\n",
       "      <td>0</td>\n",
       "    </tr>\n",
       "    <tr>\n",
       "      <th>96</th>\n",
       "      <td>8.085968</td>\n",
       "      <td>-2.427030</td>\n",
       "      <td>3.910119</td>\n",
       "      <td>4.769443</td>\n",
       "      <td>-4.017198</td>\n",
       "      <td>1</td>\n",
       "    </tr>\n",
       "    <tr>\n",
       "      <th>97</th>\n",
       "      <td>-1.096724</td>\n",
       "      <td>-4.593285</td>\n",
       "      <td>-3.686346</td>\n",
       "      <td>-0.656708</td>\n",
       "      <td>-2.357555</td>\n",
       "      <td>0</td>\n",
       "    </tr>\n",
       "    <tr>\n",
       "      <th>98</th>\n",
       "      <td>-1.951390</td>\n",
       "      <td>-4.845415</td>\n",
       "      <td>-4.561390</td>\n",
       "      <td>-1.341509</td>\n",
       "      <td>-2.291302</td>\n",
       "      <td>0</td>\n",
       "    </tr>\n",
       "    <tr>\n",
       "      <th>99</th>\n",
       "      <td>11.236013</td>\n",
       "      <td>-1.499516</td>\n",
       "      <td>5.368590</td>\n",
       "      <td>6.187160</td>\n",
       "      <td>-3.519856</td>\n",
       "      <td>1</td>\n",
       "    </tr>\n",
       "  </tbody>\n",
       "</table>\n",
       "<p>100 rows × 6 columns</p>\n",
       "</div>"
      ],
      "text/plain": [
       "            0         1         2          3         4  cluster\n",
       "0   -4.373871 -4.109214 -8.389220  10.950974  8.123522        2\n",
       "1    0.453730 -4.677580 -5.216756  -0.945841 -2.071684        0\n",
       "2    8.764899 -0.012636  5.847830   5.488940 -3.559216        1\n",
       "3   -1.138779 -2.444246 -4.041003  -2.073622 -4.810985        0\n",
       "4    9.037059 -2.050102  3.858338   5.954278 -4.884686        1\n",
       "..        ...       ...       ...        ...       ...      ...\n",
       "95  -0.238980 -4.725035 -4.000012  -3.602848 -3.291166        0\n",
       "96   8.085968 -2.427030  3.910119   4.769443 -4.017198        1\n",
       "97  -1.096724 -4.593285 -3.686346  -0.656708 -2.357555        0\n",
       "98  -1.951390 -4.845415 -4.561390  -1.341509 -2.291302        0\n",
       "99  11.236013 -1.499516  5.368590   6.187160 -3.519856        1\n",
       "\n",
       "[100 rows x 6 columns]"
      ]
     },
     "execution_count": 89,
     "metadata": {},
     "output_type": "execute_result"
    }
   ],
   "source": [
    "dfmb1"
   ]
  },
  {
   "cell_type": "code",
   "execution_count": 90,
   "metadata": {},
   "outputs": [],
   "source": [
    "idx = np.arange(0, 100)"
   ]
  },
  {
   "cell_type": "code",
   "execution_count": 91,
   "metadata": {},
   "outputs": [],
   "source": [
    "dfmb1.set_index(idx, inplace=True)"
   ]
  },
  {
   "cell_type": "code",
   "execution_count": 92,
   "metadata": {},
   "outputs": [],
   "source": [
    "dfmb1['cluster'] = ds1[1]"
   ]
  },
  {
   "cell_type": "code",
   "execution_count": 93,
   "metadata": {},
   "outputs": [],
   "source": [
    "km1 = KMeans(n_clusters=5)"
   ]
  },
  {
   "cell_type": "code",
   "execution_count": 94,
   "metadata": {
    "scrolled": true
   },
   "outputs": [
    {
     "data": {
      "text/plain": [
       "KMeans(algorithm='auto', copy_x=True, init='k-means++', max_iter=300,\n",
       "       n_clusters=5, n_init=10, n_jobs=None, precompute_distances='auto',\n",
       "       random_state=None, tol=0.0001, verbose=0)"
      ]
     },
     "execution_count": 94,
     "metadata": {},
     "output_type": "execute_result"
    }
   ],
   "source": [
    "km1.fit(ds1[0])"
   ]
  },
  {
   "cell_type": "code",
   "execution_count": 115,
   "metadata": {},
   "outputs": [],
   "source": [
    "ds2 = make_blobs(n_samples=10, n_features=2)"
   ]
  },
  {
   "cell_type": "code",
   "execution_count": 105,
   "metadata": {},
   "outputs": [
    {
     "data": {
      "text/plain": [
       "10"
      ]
     },
     "execution_count": 105,
     "metadata": {},
     "output_type": "execute_result"
    }
   ],
   "source": [
    "len(ds2[0])"
   ]
  },
  {
   "cell_type": "code",
   "execution_count": 116,
   "metadata": {
    "scrolled": true
   },
   "outputs": [
    {
     "data": {
      "text/plain": [
       "10"
      ]
     },
     "execution_count": 116,
     "metadata": {},
     "output_type": "execute_result"
    }
   ],
   "source": [
    "len(ds2[1])"
   ]
  },
  {
   "cell_type": "code",
   "execution_count": 117,
   "metadata": {},
   "outputs": [
    {
     "data": {
      "text/plain": [
       "array([[ -7.82705376,  -1.92834486],\n",
       "       [  8.99738407,   5.28088876],\n",
       "       [ -8.51302746,   1.19852311],\n",
       "       [-10.53849981,   2.75294346],\n",
       "       [ -9.79552729,   2.59562469],\n",
       "       [ -5.86478702,   0.79729405],\n",
       "       [  7.84745893,   4.96642061],\n",
       "       [ -6.5580979 ,  -1.08269753],\n",
       "       [  6.802395  ,   5.79544667],\n",
       "       [  7.90973802,   4.83376988]])"
      ]
     },
     "execution_count": 117,
     "metadata": {},
     "output_type": "execute_result"
    }
   ],
   "source": [
    "ds2[0]"
   ]
  },
  {
   "cell_type": "code",
   "execution_count": 145,
   "metadata": {},
   "outputs": [
    {
     "data": {
      "text/plain": [
       "(10, 2)"
      ]
     },
     "execution_count": 145,
     "metadata": {},
     "output_type": "execute_result"
    }
   ],
   "source": [
    "ds2[0].shape"
   ]
  },
  {
   "cell_type": "code",
   "execution_count": 125,
   "metadata": {},
   "outputs": [
    {
     "data": {
      "text/plain": [
       "<matplotlib.collections.PathCollection at 0x2115e854250>"
      ]
     },
     "execution_count": 125,
     "metadata": {},
     "output_type": "execute_result"
    },
    {
     "data": {
      "image/png": "[encoded data removed]",
      "text/plain": [
       "<Figure size 432x288 with 1 Axes>"
      ]
     },
     "metadata": {
      "needs_background": "light"
     },
     "output_type": "display_data"
    }
   ],
   "source": [
    "plt.scatter(ds2[0][:, 0], ds2[0][:, 1])"
   ]
  },
  {
   "cell_type": "code",
   "execution_count": 118,
   "metadata": {},
   "outputs": [
    {
     "data": {
      "text/plain": [
       "array([1, 0, 2, 2, 2, 1, 0, 1, 0, 0])"
      ]
     },
     "execution_count": 118,
     "metadata": {},
     "output_type": "execute_result"
    }
   ],
   "source": [
    "ds2[1]"
   ]
  },
  {
   "cell_type": "code",
   "execution_count": 107,
   "metadata": {},
   "outputs": [
    {
     "data": {
      "text/plain": [
       "(10, 2)"
      ]
     },
     "execution_count": 107,
     "metadata": {},
     "output_type": "execute_result"
    }
   ],
   "source": [
    "ds2[0].shape"
   ]
  },
  {
   "cell_type": "code",
   "execution_count": 108,
   "metadata": {},
   "outputs": [],
   "source": [
    "km2 = KMeans(n_clusters = 4)"
   ]
  },
  {
   "cell_type": "code",
   "execution_count": 119,
   "metadata": {},
   "outputs": [
    {
     "data": {
      "text/plain": [
       "KMeans(algorithm='auto', copy_x=True, init='k-means++', max_iter=300,\n",
       "       n_clusters=4, n_init=10, n_jobs=None, precompute_distances='auto',\n",
       "       random_state=None, tol=0.0001, verbose=0)"
      ]
     },
     "execution_count": 119,
     "metadata": {},
     "output_type": "execute_result"
    }
   ],
   "source": [
    "km2.fit(ds2[0])"
   ]
  },
  {
   "cell_type": "code",
   "execution_count": 120,
   "metadata": {},
   "outputs": [
    {
     "data": {
      "text/plain": [
       "KMeans(algorithm='auto', copy_x=True, init='k-means++', max_iter=300,\n",
       "       n_clusters=4, n_init=10, n_jobs=None, precompute_distances='auto',\n",
       "       random_state=None, tol=0.0001, verbose=0)"
      ]
     },
     "execution_count": 120,
     "metadata": {},
     "output_type": "execute_result"
    }
   ],
   "source": [
    "km2"
   ]
  },
  {
   "cell_type": "code",
   "execution_count": 121,
   "metadata": {},
   "outputs": [
    {
     "data": {
      "text/plain": [
       "sklearn.cluster._kmeans.KMeans"
      ]
     },
     "execution_count": 121,
     "metadata": {},
     "output_type": "execute_result"
    }
   ],
   "source": [
    "type(km2)"
   ]
  },
  {
   "cell_type": "code",
   "execution_count": 124,
   "metadata": {},
   "outputs": [
    {
     "data": {
      "text/plain": [
       "<matplotlib.collections.PathCollection at 0x2115e8111c0>"
      ]
     },
     "execution_count": 124,
     "metadata": {},
     "output_type": "execute_result"
    },
    {
     "data": {
      "image/png": "[encoded data removed]",
      "text/plain": [
       "<Figure size 432x288 with 1 Axes>"
      ]
     },
     "metadata": {
      "needs_background": "light"
     },
     "output_type": "display_data"
    }
   ],
   "source": [
    "plt.scatter(ds2[0][:, 0], ds2[0][:, 1])"
   ]
  },
  {
   "cell_type": "code",
   "execution_count": 144,
   "metadata": {},
   "outputs": [
    {
     "data": {
      "text/plain": [
       "array([ -7.82705376,   8.99738407,  -8.51302746, -10.53849981,\n",
       "        -9.79552729,  -5.86478702,   7.84745893,  -6.5580979 ,\n",
       "         6.802395  ,   7.90973802])"
      ]
     },
     "execution_count": 144,
     "metadata": {},
     "output_type": "execute_result"
    }
   ],
   "source": [
    "ds2[0][:, 0]"
   ]
  },
  {
   "cell_type": "code",
   "execution_count": 126,
   "metadata": {},
   "outputs": [],
   "source": [
    "km2cc = km2.cluster_centers_"
   ]
  },
  {
   "cell_type": "code",
   "execution_count": 127,
   "metadata": {},
   "outputs": [
    {
     "data": {
      "text/plain": [
       "array([[-9.61568485,  2.18236375],\n",
       "       [ 7.889244  ,  5.21913148],\n",
       "       [-7.19257583, -1.5055212 ],\n",
       "       [-5.86478702,  0.79729405]])"
      ]
     },
     "execution_count": 127,
     "metadata": {},
     "output_type": "execute_result"
    }
   ],
   "source": [
    "km2cc"
   ]
  },
  {
   "cell_type": "code",
   "execution_count": 128,
   "metadata": {},
   "outputs": [
    {
     "data": {
      "text/plain": [
       "numpy.ndarray"
      ]
     },
     "execution_count": 128,
     "metadata": {},
     "output_type": "execute_result"
    }
   ],
   "source": [
    "type(km2cc)"
   ]
  },
  {
   "cell_type": "code",
   "execution_count": 129,
   "metadata": {},
   "outputs": [
    {
     "data": {
      "text/plain": [
       "(4, 2)"
      ]
     },
     "execution_count": 129,
     "metadata": {},
     "output_type": "execute_result"
    }
   ],
   "source": [
    "km2cc.shape"
   ]
  },
  {
   "cell_type": "code",
   "execution_count": 130,
   "metadata": {},
   "outputs": [
    {
     "data": {
      "text/plain": [
       "4"
      ]
     },
     "execution_count": 130,
     "metadata": {},
     "output_type": "execute_result"
    }
   ],
   "source": [
    "len(km2cc)"
   ]
  },
  {
   "cell_type": "code",
   "execution_count": 134,
   "metadata": {},
   "outputs": [
    {
     "data": {
      "text/plain": [
       "-9.615684853939465"
      ]
     },
     "execution_count": 134,
     "metadata": {},
     "output_type": "execute_result"
    }
   ],
   "source": [
    "km2cc[0][0]"
   ]
  },
  {
   "cell_type": "code",
   "execution_count": 135,
   "metadata": {},
   "outputs": [
    {
     "data": {
      "text/plain": [
       "7.889244004497239"
      ]
     },
     "execution_count": 135,
     "metadata": {},
     "output_type": "execute_result"
    }
   ],
   "source": [
    "km2cc[1][0]"
   ]
  },
  {
   "cell_type": "code",
   "execution_count": 133,
   "metadata": {},
   "outputs": [
    {
     "data": {
      "text/plain": [
       "5.2191314807985085"
      ]
     },
     "execution_count": 133,
     "metadata": {},
     "output_type": "execute_result"
    }
   ],
   "source": [
    "km2cc[1][1]"
   ]
  },
  {
   "cell_type": "code",
   "execution_count": 136,
   "metadata": {
    "scrolled": true
   },
   "outputs": [
    {
     "data": {
      "text/plain": [
       "array([[-9.61568485,  2.18236375],\n",
       "       [ 7.889244  ,  5.21913148],\n",
       "       [-7.19257583, -1.5055212 ],\n",
       "       [-5.86478702,  0.79729405]])"
      ]
     },
     "execution_count": 136,
     "metadata": {},
     "output_type": "execute_result"
    }
   ],
   "source": [
    "km2cc"
   ]
  },
  {
   "cell_type": "code",
   "execution_count": null,
   "metadata": {},
   "outputs": [],
   "source": []
  }
 ],
 "metadata": {
  "kernelspec": {
   "display_name": "Python 3",
   "language": "python",
   "name": "python3"
  },
  "language_info": {
   "codemirror_mode": {
    "name": "ipython",
    "version": 3
   },
   "file_extension": ".py",
   "mimetype": "text/x-python",
   "name": "python",
   "nbconvert_exporter": "python",
   "pygments_lexer": "ipython3",
   "version": "3.8.1"
  }
 },
 "nbformat": 4,
 "nbformat_minor": 4
}
