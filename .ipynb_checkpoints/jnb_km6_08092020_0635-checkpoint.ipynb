{
 "cells": [
  {
   "cell_type": "code",
   "execution_count": 1,
   "metadata": {},
   "outputs": [],
   "source": [
    "import numpy as np\n",
    "import pandas as pd\n",
    "from sklearn.datasets import make_blobs\n",
    "from sklearn.cluster import KMeans\n",
    "import matplotlib.pyplot as plt\n",
    "%matplotlib inline"
   ]
  },
  {
   "cell_type": "code",
   "execution_count": 2,
   "metadata": {},
   "outputs": [],
   "source": [
    "ds6 = make_blobs(n_samples = 50, n_features = 2)"
   ]
  },
  {
   "cell_type": "code",
   "execution_count": 3,
   "metadata": {},
   "outputs": [
    {
     "data": {
      "text/plain": [
       "(array([[-4.24867584,  1.58834587],\n",
       "        [ 9.73208454,  2.53856448],\n",
       "        [ 8.92555152,  1.80133287],\n",
       "        [ 8.05929507,  2.04813171],\n",
       "        [ 9.51652468,  2.52679969],\n",
       "        [-6.46724933,  4.76107184],\n",
       "        [-5.53492578,  6.00937828],\n",
       "        [10.16299105,  3.09439399],\n",
       "        [ 9.2200333 ,  2.78660475],\n",
       "        [-6.02196543,  5.82886451],\n",
       "        [-2.24924809,  4.48528117],\n",
       "        [ 9.20061939,  3.83039073],\n",
       "        [-3.2373221 ,  4.65676204],\n",
       "        [-5.41584342,  6.48657347],\n",
       "        [-3.65272423,  4.61018464],\n",
       "        [-5.28917348,  6.15939916],\n",
       "        [-3.60719295,  2.88179243],\n",
       "        [ 8.79268627,  3.57331443],\n",
       "        [-2.47332079,  3.43348681],\n",
       "        [-6.58735417,  5.40032832],\n",
       "        [-6.85315558,  5.95371406],\n",
       "        [-5.63692034,  3.82944909],\n",
       "        [ 7.93452663,  0.30684346],\n",
       "        [ 9.59818855,  3.86567405],\n",
       "        [-3.36980334,  3.88071841],\n",
       "        [-2.79210457,  2.90535714],\n",
       "        [-5.72401303,  6.80082175],\n",
       "        [ 9.6123858 ,  4.6997556 ],\n",
       "        [ 9.57616507,  2.68449279],\n",
       "        [ 6.33191473,  3.22983127],\n",
       "        [ 9.79085705,  3.08820063],\n",
       "        [-2.05769892,  5.38343392],\n",
       "        [-3.77181689,  3.74765333],\n",
       "        [ 8.51387862,  3.02694181],\n",
       "        [-3.95717518,  4.33903617],\n",
       "        [-4.00125051,  3.80420564],\n",
       "        [-7.69435691,  6.6776753 ],\n",
       "        [-5.40561851,  6.64171067],\n",
       "        [ 8.45342079,  4.14000284],\n",
       "        [ 8.56853328,  2.80072372],\n",
       "        [-6.08078757,  6.90282792],\n",
       "        [-4.76892717,  6.01256705],\n",
       "        [-3.59840943,  2.40882021],\n",
       "        [-3.56821083,  2.54577985],\n",
       "        [-7.60778693,  5.93062392],\n",
       "        [-4.42376519,  3.32094389],\n",
       "        [-3.61816293,  3.9968367 ],\n",
       "        [-6.29463285,  6.89537149],\n",
       "        [-3.19020058,  4.74199657],\n",
       "        [-7.84455648,  5.75195344]]),\n",
       " array([1, 0, 0, 0, 0, 2, 2, 0, 0, 2, 1, 0, 1, 2, 1, 2, 1, 0, 1, 2, 2, 2,\n",
       "        0, 0, 1, 1, 2, 0, 0, 0, 0, 1, 1, 0, 1, 1, 2, 2, 0, 0, 2, 2, 1, 1,\n",
       "        2, 1, 1, 2, 1, 2]))"
      ]
     },
     "execution_count": 3,
     "metadata": {},
     "output_type": "execute_result"
    }
   ],
   "source": [
    "ds6"
   ]
  },
  {
   "cell_type": "code",
   "execution_count": 36,
   "metadata": {},
   "outputs": [],
   "source": [
    "pt6 = ds6[0]"
   ]
  },
  {
   "cell_type": "code",
   "execution_count": 5,
   "metadata": {},
   "outputs": [
    {
     "data": {
      "text/plain": [
       "(50,)"
      ]
     },
     "execution_count": 5,
     "metadata": {},
     "output_type": "execute_result"
    }
   ],
   "source": [
    "ds6[1].shape"
   ]
  },
  {
   "cell_type": "code",
   "execution_count": 6,
   "metadata": {},
   "outputs": [
    {
     "data": {
      "text/plain": [
       "<matplotlib.collections.PathCollection at 0x152e6afa5b0>"
      ]
     },
     "execution_count": 6,
     "metadata": {},
     "output_type": "execute_result"
    },
    {
     "data": {
      "image/png": "[encoded data removed]",
      "text/plain": [
       "<Figure size 432x288 with 1 Axes>"
      ]
     },
     "metadata": {
      "needs_background": "light"
     },
     "output_type": "display_data"
    }
   ],
   "source": [
    "plt.scatter(ds6[0][:, 0], ds6[0][:,1])"
   ]
  },
  {
   "cell_type": "code",
   "execution_count": 7,
   "metadata": {},
   "outputs": [],
   "source": [
    "km6 = KMeans(n_clusters=3)"
   ]
  },
  {
   "cell_type": "code",
   "execution_count": 11,
   "metadata": {},
   "outputs": [
    {
     "data": {
      "text/plain": [
       "KMeans(algorithm='auto', copy_x=True, init='k-means++', max_iter=300,\n",
       "       n_clusters=3, n_init=10, n_jobs=None, precompute_distances='auto',\n",
       "       random_state=None, tol=0.0001, verbose=0)"
      ]
     },
     "execution_count": 11,
     "metadata": {},
     "output_type": "execute_result"
    }
   ],
   "source": [
    "km6.fit(ds6[0])"
   ]
  },
  {
   "cell_type": "code",
   "execution_count": 15,
   "metadata": {},
   "outputs": [],
   "source": [
    "km6cc = km6.cluster_centers_"
   ]
  },
  {
   "cell_type": "code",
   "execution_count": 16,
   "metadata": {},
   "outputs": [
    {
     "data": {
      "text/plain": [
       "array([[-3.52522237,  3.69778244],\n",
       "       [ 8.94056802,  2.94364699],\n",
       "       [-6.23935644,  6.14752541]])"
      ]
     },
     "execution_count": 16,
     "metadata": {},
     "output_type": "execute_result"
    }
   ],
   "source": [
    "km6cc"
   ]
  },
  {
   "cell_type": "code",
   "execution_count": 18,
   "metadata": {
    "scrolled": true
   },
   "outputs": [
    {
     "data": {
      "text/plain": [
       "(3, 2)"
      ]
     },
     "execution_count": 18,
     "metadata": {},
     "output_type": "execute_result"
    }
   ],
   "source": [
    "km6cc.shape"
   ]
  },
  {
   "cell_type": "code",
   "execution_count": 47,
   "metadata": {},
   "outputs": [
    {
     "data": {
      "text/plain": [
       "array([1, 1, 0, 2, 0, 1, 1, 0, 1, 2, 2, 2, 2, 0, 2, 2, 2, 0, 0, 1, 0, 0,\n",
       "       1, 1, 2, 0, 2, 2, 1, 1, 0, 2, 1, 0, 2, 0, 2, 0, 1, 2, 0, 2, 1, 0,\n",
       "       1, 1, 0, 1, 0, 2])"
      ]
     },
     "execution_count": 47,
     "metadata": {},
     "output_type": "execute_result"
    }
   ],
   "source": [
    "km6.predict(ds6[0])"
   ]
  },
  {
   "cell_type": "code",
   "execution_count": null,
   "metadata": {},
   "outputs": [],
   "source": []
  },
  {
   "cell_type": "code",
   "execution_count": null,
   "metadata": {},
   "outputs": [],
   "source": []
  },
  {
   "cell_type": "code",
   "execution_count": null,
   "metadata": {},
   "outputs": [],
   "source": []
  },
  {
   "cell_type": "code",
   "execution_count": 31,
   "metadata": {},
   "outputs": [],
   "source": [
    "y1km6 = km6.fit_predict(ds6[0])"
   ]
  },
  {
   "cell_type": "code",
   "execution_count": 33,
   "metadata": {
    "scrolled": true
   },
   "outputs": [
    {
     "data": {
      "text/plain": [
       "array([1, 1, 0, 2, 0, 1, 1, 0, 1, 2, 2, 2, 2, 0, 2, 2, 2, 0, 0, 1, 0, 0,\n",
       "       1, 1, 2, 0, 2, 2, 1, 1, 0, 2, 1, 0, 2, 0, 2, 0, 1, 2, 0, 2, 1, 0,\n",
       "       1, 1, 0, 1, 0, 2])"
      ]
     },
     "execution_count": 33,
     "metadata": {},
     "output_type": "execute_result"
    }
   ],
   "source": [
    "y1km6"
   ]
  },
  {
   "cell_type": "code",
   "execution_count": 37,
   "metadata": {},
   "outputs": [
    {
     "data": {
      "text/plain": [
       "array([1, 1, 0, 2, 0, 1, 1, 0, 1, 2, 2, 2, 2, 0, 2, 2, 2, 0, 0, 1, 0, 0,\n",
       "       1, 1, 2, 0, 2, 2, 1, 1, 0, 2, 1, 0, 2, 0, 2, 0, 1, 2, 0, 2, 1, 0,\n",
       "       1, 1, 0, 1, 0, 2])"
      ]
     },
     "execution_count": 37,
     "metadata": {},
     "output_type": "execute_result"
    }
   ],
   "source": [
    "km6.predict(ds6[0])"
   ]
  },
  {
   "cell_type": "code",
   "execution_count": 38,
   "metadata": {},
   "outputs": [
    {
     "data": {
      "text/plain": [
       "numpy.ndarray"
      ]
     },
     "execution_count": 38,
     "metadata": {},
     "output_type": "execute_result"
    }
   ],
   "source": [
    "type(y1km6)"
   ]
  },
  {
   "cell_type": "code",
   "execution_count": 39,
   "metadata": {},
   "outputs": [
    {
     "data": {
      "text/plain": [
       "(50,)"
      ]
     },
     "execution_count": 39,
     "metadata": {},
     "output_type": "execute_result"
    }
   ],
   "source": [
    "y1km6.shape"
   ]
  },
  {
   "cell_type": "code",
   "execution_count": 50,
   "metadata": {},
   "outputs": [
    {
     "data": {
      "text/plain": [
       "(array([False, False,  True, False,  True, False, False,  True, False,\n",
       "        False, False, False, False,  True, False, False, False,  True,\n",
       "         True, False,  True,  True, False, False, False,  True, False,\n",
       "        False, False, False,  True, False, False,  True, False,  True,\n",
       "        False,  True, False, False,  True, False, False,  True, False,\n",
       "        False,  True, False,  True, False]),\n",
       " 0)"
      ]
     },
     "execution_count": 50,
     "metadata": {},
     "output_type": "execute_result"
    }
   ],
   "source": [
    "y1km6 == 0,0"
   ]
  },
  {
   "cell_type": "code",
   "execution_count": 45,
   "metadata": {},
   "outputs": [
    {
     "data": {
      "text/plain": [
       "array([[-0.20832655, -7.76585314],\n",
       "       [-0.20832655, -7.76585314],\n",
       "       [ 0.38502956, -4.59308937],\n",
       "       [-6.63177575,  2.60009284],\n",
       "       [ 0.38502956, -4.59308937],\n",
       "       [-0.20832655, -7.76585314],\n",
       "       [-0.20832655, -7.76585314],\n",
       "       [ 0.38502956, -4.59308937],\n",
       "       [-0.20832655, -7.76585314],\n",
       "       [-6.63177575,  2.60009284],\n",
       "       [-6.63177575,  2.60009284],\n",
       "       [-6.63177575,  2.60009284],\n",
       "       [-6.63177575,  2.60009284],\n",
       "       [ 0.38502956, -4.59308937],\n",
       "       [-6.63177575,  2.60009284],\n",
       "       [-6.63177575,  2.60009284],\n",
       "       [-6.63177575,  2.60009284],\n",
       "       [ 0.38502956, -4.59308937],\n",
       "       [ 0.38502956, -4.59308937],\n",
       "       [-0.20832655, -7.76585314],\n",
       "       [ 0.38502956, -4.59308937],\n",
       "       [ 0.38502956, -4.59308937],\n",
       "       [-0.20832655, -7.76585314],\n",
       "       [-0.20832655, -7.76585314],\n",
       "       [-6.63177575,  2.60009284],\n",
       "       [ 0.38502956, -4.59308937],\n",
       "       [-6.63177575,  2.60009284],\n",
       "       [-6.63177575,  2.60009284],\n",
       "       [-0.20832655, -7.76585314],\n",
       "       [-0.20832655, -7.76585314],\n",
       "       [ 0.38502956, -4.59308937],\n",
       "       [-6.63177575,  2.60009284],\n",
       "       [-0.20832655, -7.76585314],\n",
       "       [ 0.38502956, -4.59308937],\n",
       "       [-6.63177575,  2.60009284],\n",
       "       [ 0.38502956, -4.59308937],\n",
       "       [-6.63177575,  2.60009284],\n",
       "       [ 0.38502956, -4.59308937],\n",
       "       [-0.20832655, -7.76585314],\n",
       "       [-6.63177575,  2.60009284],\n",
       "       [ 0.38502956, -4.59308937],\n",
       "       [-6.63177575,  2.60009284],\n",
       "       [-0.20832655, -7.76585314],\n",
       "       [ 0.38502956, -4.59308937],\n",
       "       [-0.20832655, -7.76585314],\n",
       "       [-0.20832655, -7.76585314],\n",
       "       [ 0.38502956, -4.59308937],\n",
       "       [-0.20832655, -7.76585314],\n",
       "       [ 0.38502956, -4.59308937],\n",
       "       [-6.63177575,  2.60009284]])"
      ]
     },
     "execution_count": 45,
     "metadata": {},
     "output_type": "execute_result"
    }
   ],
   "source": [
    "ds6[0][y1km6]"
   ]
  },
  {
   "cell_type": "code",
   "execution_count": 46,
   "metadata": {},
   "outputs": [
    {
     "data": {
      "text/plain": [
       "50"
      ]
     },
     "execution_count": 46,
     "metadata": {},
     "output_type": "execute_result"
    }
   ],
   "source": [
    "len(ds6[0][y1km6])"
   ]
  },
  {
   "cell_type": "code",
   "execution_count": 51,
   "metadata": {},
   "outputs": [],
   "source": [
    "c1 = [5, 7, 3, 9, 4, 9, 4, 3, 9, 9]"
   ]
  },
  {
   "cell_type": "code",
   "execution_count": 55,
   "metadata": {},
   "outputs": [
    {
     "data": {
      "text/plain": [
       "False"
      ]
     },
     "execution_count": 55,
     "metadata": {},
     "output_type": "execute_result"
    }
   ],
   "source": [
    "c1 == 9"
   ]
  },
  {
   "cell_type": "code",
   "execution_count": 56,
   "metadata": {},
   "outputs": [
    {
     "data": {
      "text/plain": [
       "[5, 7, 3, 9, 4, 9, 4, 3, 9, 9]"
      ]
     },
     "execution_count": 56,
     "metadata": {},
     "output_type": "execute_result"
    }
   ],
   "source": [
    "c1"
   ]
  },
  {
   "cell_type": "code",
   "execution_count": null,
   "metadata": {},
   "outputs": [],
   "source": []
  }
 ],
 "metadata": {
  "kernelspec": {
   "display_name": "Python 3",
   "language": "python",
   "name": "python3"
  },
  "language_info": {
   "codemirror_mode": {
    "name": "ipython",
    "version": 3
   },
   "file_extension": ".py",
   "mimetype": "text/x-python",
   "name": "python",
   "nbconvert_exporter": "python",
   "pygments_lexer": "ipython3",
   "version": "3.8.1"
  }
 },
 "nbformat": 4,
 "nbformat_minor": 4
}
