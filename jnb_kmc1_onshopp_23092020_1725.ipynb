{
 "cells": [
  {
   "cell_type": "code",
   "execution_count": 1,
   "metadata": {},
   "outputs": [],
   "source": [
    "import pandas as pd\n",
    "import numpy as np\n",
    "import matplotlib.pyplot as plt\n",
    "from sklearn.cluster import KMeans\n",
    "from sklearn.preprocessing import LabelEncoder\n",
    "from sklearn.preprocessing import StandardScaler\n",
    "from sklearn.preprocessing import MinMaxScaler"
   ]
  },
  {
   "cell_type": "code",
   "execution_count": 2,
   "metadata": {},
   "outputs": [],
   "source": [
    "dfos1 = pd.read_csv('E:/KrishM/PythonPrjs/PyDatasets/onlshopprex/online_shoppers_intention.csv')"
   ]
  },
  {
   "cell_type": "code",
   "execution_count": 199,
   "metadata": {},
   "outputs": [
    {
     "data": {
      "text/html": [
       "<div>\n",
       "<style scoped>\n",
       "    .dataframe tbody tr th:only-of-type {\n",
       "        vertical-align: middle;\n",
       "    }\n",
       "\n",
       "    .dataframe tbody tr th {\n",
       "        vertical-align: top;\n",
       "    }\n",
       "\n",
       "    .dataframe thead th {\n",
       "        text-align: right;\n",
       "    }\n",
       "</style>\n",
       "<table border=\"1\" class=\"dataframe\">\n",
       "  <thead>\n",
       "    <tr style=\"text-align: right;\">\n",
       "      <th></th>\n",
       "      <th>Administrative</th>\n",
       "      <th>Administrative_Duration</th>\n",
       "      <th>Informational</th>\n",
       "      <th>Informational_Duration</th>\n",
       "      <th>ProductRelated</th>\n",
       "      <th>ProductRelated_Duration</th>\n",
       "      <th>BounceRates</th>\n",
       "      <th>ExitRates</th>\n",
       "      <th>PageValues</th>\n",
       "      <th>SpecialDay</th>\n",
       "      <th>Month</th>\n",
       "      <th>OperatingSystems</th>\n",
       "      <th>Browser</th>\n",
       "      <th>Region</th>\n",
       "      <th>TrafficType</th>\n",
       "      <th>VisitorType</th>\n",
       "      <th>Weekend</th>\n",
       "      <th>Revenue</th>\n",
       "    </tr>\n",
       "  </thead>\n",
       "  <tbody>\n",
       "    <tr>\n",
       "      <th>0</th>\n",
       "      <td>0.0</td>\n",
       "      <td>0.0</td>\n",
       "      <td>0.0</td>\n",
       "      <td>0.0</td>\n",
       "      <td>1.0</td>\n",
       "      <td>0.000000</td>\n",
       "      <td>0.200000</td>\n",
       "      <td>0.200000</td>\n",
       "      <td>0.000000</td>\n",
       "      <td>0.0</td>\n",
       "      <td>2</td>\n",
       "      <td>1</td>\n",
       "      <td>1</td>\n",
       "      <td>1</td>\n",
       "      <td>1</td>\n",
       "      <td>2</td>\n",
       "      <td>0</td>\n",
       "      <td>0</td>\n",
       "    </tr>\n",
       "    <tr>\n",
       "      <th>1</th>\n",
       "      <td>0.0</td>\n",
       "      <td>0.0</td>\n",
       "      <td>0.0</td>\n",
       "      <td>0.0</td>\n",
       "      <td>2.0</td>\n",
       "      <td>64.000000</td>\n",
       "      <td>0.000000</td>\n",
       "      <td>0.100000</td>\n",
       "      <td>0.000000</td>\n",
       "      <td>0.0</td>\n",
       "      <td>2</td>\n",
       "      <td>2</td>\n",
       "      <td>2</td>\n",
       "      <td>1</td>\n",
       "      <td>2</td>\n",
       "      <td>2</td>\n",
       "      <td>0</td>\n",
       "      <td>0</td>\n",
       "    </tr>\n",
       "    <tr>\n",
       "      <th>2</th>\n",
       "      <td>0.0</td>\n",
       "      <td>-1.0</td>\n",
       "      <td>0.0</td>\n",
       "      <td>-1.0</td>\n",
       "      <td>1.0</td>\n",
       "      <td>-1.000000</td>\n",
       "      <td>0.200000</td>\n",
       "      <td>0.200000</td>\n",
       "      <td>0.000000</td>\n",
       "      <td>0.0</td>\n",
       "      <td>2</td>\n",
       "      <td>4</td>\n",
       "      <td>1</td>\n",
       "      <td>9</td>\n",
       "      <td>3</td>\n",
       "      <td>2</td>\n",
       "      <td>0</td>\n",
       "      <td>0</td>\n",
       "    </tr>\n",
       "    <tr>\n",
       "      <th>3</th>\n",
       "      <td>0.0</td>\n",
       "      <td>0.0</td>\n",
       "      <td>0.0</td>\n",
       "      <td>0.0</td>\n",
       "      <td>2.0</td>\n",
       "      <td>2.666667</td>\n",
       "      <td>0.050000</td>\n",
       "      <td>0.140000</td>\n",
       "      <td>0.000000</td>\n",
       "      <td>0.0</td>\n",
       "      <td>2</td>\n",
       "      <td>3</td>\n",
       "      <td>2</td>\n",
       "      <td>2</td>\n",
       "      <td>4</td>\n",
       "      <td>2</td>\n",
       "      <td>0</td>\n",
       "      <td>0</td>\n",
       "    </tr>\n",
       "    <tr>\n",
       "      <th>4</th>\n",
       "      <td>0.0</td>\n",
       "      <td>0.0</td>\n",
       "      <td>0.0</td>\n",
       "      <td>0.0</td>\n",
       "      <td>10.0</td>\n",
       "      <td>627.500000</td>\n",
       "      <td>0.020000</td>\n",
       "      <td>0.050000</td>\n",
       "      <td>0.000000</td>\n",
       "      <td>0.0</td>\n",
       "      <td>2</td>\n",
       "      <td>3</td>\n",
       "      <td>3</td>\n",
       "      <td>1</td>\n",
       "      <td>4</td>\n",
       "      <td>2</td>\n",
       "      <td>1</td>\n",
       "      <td>0</td>\n",
       "    </tr>\n",
       "    <tr>\n",
       "      <th>...</th>\n",
       "      <td>...</td>\n",
       "      <td>...</td>\n",
       "      <td>...</td>\n",
       "      <td>...</td>\n",
       "      <td>...</td>\n",
       "      <td>...</td>\n",
       "      <td>...</td>\n",
       "      <td>...</td>\n",
       "      <td>...</td>\n",
       "      <td>...</td>\n",
       "      <td>...</td>\n",
       "      <td>...</td>\n",
       "      <td>...</td>\n",
       "      <td>...</td>\n",
       "      <td>...</td>\n",
       "      <td>...</td>\n",
       "      <td>...</td>\n",
       "      <td>...</td>\n",
       "    </tr>\n",
       "    <tr>\n",
       "      <th>12325</th>\n",
       "      <td>3.0</td>\n",
       "      <td>145.0</td>\n",
       "      <td>0.0</td>\n",
       "      <td>0.0</td>\n",
       "      <td>53.0</td>\n",
       "      <td>1783.791667</td>\n",
       "      <td>0.007143</td>\n",
       "      <td>0.029031</td>\n",
       "      <td>12.241717</td>\n",
       "      <td>0.0</td>\n",
       "      <td>1</td>\n",
       "      <td>4</td>\n",
       "      <td>6</td>\n",
       "      <td>1</td>\n",
       "      <td>1</td>\n",
       "      <td>2</td>\n",
       "      <td>1</td>\n",
       "      <td>0</td>\n",
       "    </tr>\n",
       "    <tr>\n",
       "      <th>12326</th>\n",
       "      <td>0.0</td>\n",
       "      <td>0.0</td>\n",
       "      <td>0.0</td>\n",
       "      <td>0.0</td>\n",
       "      <td>5.0</td>\n",
       "      <td>465.750000</td>\n",
       "      <td>0.000000</td>\n",
       "      <td>0.021333</td>\n",
       "      <td>0.000000</td>\n",
       "      <td>0.0</td>\n",
       "      <td>7</td>\n",
       "      <td>3</td>\n",
       "      <td>2</td>\n",
       "      <td>1</td>\n",
       "      <td>8</td>\n",
       "      <td>2</td>\n",
       "      <td>1</td>\n",
       "      <td>0</td>\n",
       "    </tr>\n",
       "    <tr>\n",
       "      <th>12327</th>\n",
       "      <td>0.0</td>\n",
       "      <td>0.0</td>\n",
       "      <td>0.0</td>\n",
       "      <td>0.0</td>\n",
       "      <td>6.0</td>\n",
       "      <td>184.250000</td>\n",
       "      <td>0.083333</td>\n",
       "      <td>0.086667</td>\n",
       "      <td>0.000000</td>\n",
       "      <td>0.0</td>\n",
       "      <td>7</td>\n",
       "      <td>3</td>\n",
       "      <td>2</td>\n",
       "      <td>1</td>\n",
       "      <td>13</td>\n",
       "      <td>2</td>\n",
       "      <td>1</td>\n",
       "      <td>0</td>\n",
       "    </tr>\n",
       "    <tr>\n",
       "      <th>12328</th>\n",
       "      <td>4.0</td>\n",
       "      <td>75.0</td>\n",
       "      <td>0.0</td>\n",
       "      <td>0.0</td>\n",
       "      <td>15.0</td>\n",
       "      <td>346.000000</td>\n",
       "      <td>0.000000</td>\n",
       "      <td>0.021053</td>\n",
       "      <td>0.000000</td>\n",
       "      <td>0.0</td>\n",
       "      <td>7</td>\n",
       "      <td>2</td>\n",
       "      <td>2</td>\n",
       "      <td>3</td>\n",
       "      <td>11</td>\n",
       "      <td>2</td>\n",
       "      <td>0</td>\n",
       "      <td>0</td>\n",
       "    </tr>\n",
       "    <tr>\n",
       "      <th>12329</th>\n",
       "      <td>0.0</td>\n",
       "      <td>0.0</td>\n",
       "      <td>0.0</td>\n",
       "      <td>0.0</td>\n",
       "      <td>3.0</td>\n",
       "      <td>21.250000</td>\n",
       "      <td>0.000000</td>\n",
       "      <td>0.066667</td>\n",
       "      <td>0.000000</td>\n",
       "      <td>0.0</td>\n",
       "      <td>7</td>\n",
       "      <td>3</td>\n",
       "      <td>2</td>\n",
       "      <td>1</td>\n",
       "      <td>2</td>\n",
       "      <td>0</td>\n",
       "      <td>1</td>\n",
       "      <td>0</td>\n",
       "    </tr>\n",
       "  </tbody>\n",
       "</table>\n",
       "<p>12330 rows × 18 columns</p>\n",
       "</div>"
      ],
      "text/plain": [
       "       Administrative  Administrative_Duration  Informational  \\\n",
       "0                 0.0                      0.0            0.0   \n",
       "1                 0.0                      0.0            0.0   \n",
       "2                 0.0                     -1.0            0.0   \n",
       "3                 0.0                      0.0            0.0   \n",
       "4                 0.0                      0.0            0.0   \n",
       "...               ...                      ...            ...   \n",
       "12325             3.0                    145.0            0.0   \n",
       "12326             0.0                      0.0            0.0   \n",
       "12327             0.0                      0.0            0.0   \n",
       "12328             4.0                     75.0            0.0   \n",
       "12329             0.0                      0.0            0.0   \n",
       "\n",
       "       Informational_Duration  ProductRelated  ProductRelated_Duration  \\\n",
       "0                         0.0             1.0                 0.000000   \n",
       "1                         0.0             2.0                64.000000   \n",
       "2                        -1.0             1.0                -1.000000   \n",
       "3                         0.0             2.0                 2.666667   \n",
       "4                         0.0            10.0               627.500000   \n",
       "...                       ...             ...                      ...   \n",
       "12325                     0.0            53.0              1783.791667   \n",
       "12326                     0.0             5.0               465.750000   \n",
       "12327                     0.0             6.0               184.250000   \n",
       "12328                     0.0            15.0               346.000000   \n",
       "12329                     0.0             3.0                21.250000   \n",
       "\n",
       "       BounceRates  ExitRates  PageValues  SpecialDay  Month  \\\n",
       "0         0.200000   0.200000    0.000000         0.0      2   \n",
       "1         0.000000   0.100000    0.000000         0.0      2   \n",
       "2         0.200000   0.200000    0.000000         0.0      2   \n",
       "3         0.050000   0.140000    0.000000         0.0      2   \n",
       "4         0.020000   0.050000    0.000000         0.0      2   \n",
       "...            ...        ...         ...         ...    ...   \n",
       "12325     0.007143   0.029031   12.241717         0.0      1   \n",
       "12326     0.000000   0.021333    0.000000         0.0      7   \n",
       "12327     0.083333   0.086667    0.000000         0.0      7   \n",
       "12328     0.000000   0.021053    0.000000         0.0      7   \n",
       "12329     0.000000   0.066667    0.000000         0.0      7   \n",
       "\n",
       "       OperatingSystems  Browser  Region  TrafficType  VisitorType  Weekend  \\\n",
       "0                     1        1       1            1            2        0   \n",
       "1                     2        2       1            2            2        0   \n",
       "2                     4        1       9            3            2        0   \n",
       "3                     3        2       2            4            2        0   \n",
       "4                     3        3       1            4            2        1   \n",
       "...                 ...      ...     ...          ...          ...      ...   \n",
       "12325                 4        6       1            1            2        1   \n",
       "12326                 3        2       1            8            2        1   \n",
       "12327                 3        2       1           13            2        1   \n",
       "12328                 2        2       3           11            2        0   \n",
       "12329                 3        2       1            2            0        1   \n",
       "\n",
       "       Revenue  \n",
       "0            0  \n",
       "1            0  \n",
       "2            0  \n",
       "3            0  \n",
       "4            0  \n",
       "...        ...  \n",
       "12325        0  \n",
       "12326        0  \n",
       "12327        0  \n",
       "12328        0  \n",
       "12329        0  \n",
       "\n",
       "[12330 rows x 18 columns]"
      ]
     },
     "execution_count": 199,
     "metadata": {},
     "output_type": "execute_result"
    }
   ],
   "source": [
    "dfos1"
   ]
  },
  {
   "cell_type": "code",
   "execution_count": 215,
   "metadata": {},
   "outputs": [],
   "source": [
    "mmsn1 = MinMaxScaler()"
   ]
  },
  {
   "cell_type": "code",
   "execution_count": 218,
   "metadata": {},
   "outputs": [],
   "source": [
    "dfos1scaled = mmsn1.fit_transform(dfos1)"
   ]
  },
  {
   "cell_type": "code",
   "execution_count": 219,
   "metadata": {},
   "outputs": [
    {
     "data": {
      "text/plain": [
       "array([[0.00000000e+00, 2.94139275e-04, 0.00000000e+00, ...,\n",
       "        1.00000000e+00, 0.00000000e+00, 0.00000000e+00],\n",
       "       [0.00000000e+00, 2.94139275e-04, 0.00000000e+00, ...,\n",
       "        1.00000000e+00, 0.00000000e+00, 0.00000000e+00],\n",
       "       [0.00000000e+00, 0.00000000e+00, 0.00000000e+00, ...,\n",
       "        1.00000000e+00, 0.00000000e+00, 0.00000000e+00],\n",
       "       ...,\n",
       "       [0.00000000e+00, 2.94139275e-04, 0.00000000e+00, ...,\n",
       "        1.00000000e+00, 1.00000000e+00, 0.00000000e+00],\n",
       "       [1.48148148e-01, 2.23545849e-02, 0.00000000e+00, ...,\n",
       "        1.00000000e+00, 0.00000000e+00, 0.00000000e+00],\n",
       "       [0.00000000e+00, 2.94139275e-04, 0.00000000e+00, ...,\n",
       "        0.00000000e+00, 1.00000000e+00, 0.00000000e+00]])"
      ]
     },
     "execution_count": 219,
     "metadata": {},
     "output_type": "execute_result"
    }
   ],
   "source": [
    "dfos1scaled"
   ]
  },
  {
   "cell_type": "code",
   "execution_count": 220,
   "metadata": {},
   "outputs": [],
   "source": [
    "dfosnorm1 = pd.DataFrame(dfos1scaled)"
   ]
  },
  {
   "cell_type": "code",
   "execution_count": 222,
   "metadata": {},
   "outputs": [],
   "source": [
    "dfosnorm1.columns = dfos1.columns"
   ]
  },
  {
   "cell_type": "code",
   "execution_count": 223,
   "metadata": {},
   "outputs": [
    {
     "data": {
      "text/html": [
       "<div>\n",
       "<style scoped>\n",
       "    .dataframe tbody tr th:only-of-type {\n",
       "        vertical-align: middle;\n",
       "    }\n",
       "\n",
       "    .dataframe tbody tr th {\n",
       "        vertical-align: top;\n",
       "    }\n",
       "\n",
       "    .dataframe thead th {\n",
       "        text-align: right;\n",
       "    }\n",
       "</style>\n",
       "<table border=\"1\" class=\"dataframe\">\n",
       "  <thead>\n",
       "    <tr style=\"text-align: right;\">\n",
       "      <th></th>\n",
       "      <th>Administrative</th>\n",
       "      <th>Administrative_Duration</th>\n",
       "      <th>Informational</th>\n",
       "      <th>Informational_Duration</th>\n",
       "      <th>ProductRelated</th>\n",
       "      <th>ProductRelated_Duration</th>\n",
       "      <th>BounceRates</th>\n",
       "      <th>ExitRates</th>\n",
       "      <th>PageValues</th>\n",
       "      <th>SpecialDay</th>\n",
       "      <th>Month</th>\n",
       "      <th>OperatingSystems</th>\n",
       "      <th>Browser</th>\n",
       "      <th>Region</th>\n",
       "      <th>TrafficType</th>\n",
       "      <th>VisitorType</th>\n",
       "      <th>Weekend</th>\n",
       "      <th>Revenue</th>\n",
       "    </tr>\n",
       "  </thead>\n",
       "  <tbody>\n",
       "    <tr>\n",
       "      <th>0</th>\n",
       "      <td>0.000000</td>\n",
       "      <td>0.000294</td>\n",
       "      <td>0.0</td>\n",
       "      <td>0.000392</td>\n",
       "      <td>0.001418</td>\n",
       "      <td>0.000016</td>\n",
       "      <td>1.000000</td>\n",
       "      <td>1.000000</td>\n",
       "      <td>0.000000</td>\n",
       "      <td>0.0</td>\n",
       "      <td>0.222222</td>\n",
       "      <td>0.000000</td>\n",
       "      <td>0.000000</td>\n",
       "      <td>0.000</td>\n",
       "      <td>0.000000</td>\n",
       "      <td>1.0</td>\n",
       "      <td>0.0</td>\n",
       "      <td>0.0</td>\n",
       "    </tr>\n",
       "    <tr>\n",
       "      <th>1</th>\n",
       "      <td>0.000000</td>\n",
       "      <td>0.000294</td>\n",
       "      <td>0.0</td>\n",
       "      <td>0.000392</td>\n",
       "      <td>0.002837</td>\n",
       "      <td>0.001016</td>\n",
       "      <td>0.000000</td>\n",
       "      <td>0.500000</td>\n",
       "      <td>0.000000</td>\n",
       "      <td>0.0</td>\n",
       "      <td>0.222222</td>\n",
       "      <td>0.142857</td>\n",
       "      <td>0.083333</td>\n",
       "      <td>0.000</td>\n",
       "      <td>0.052632</td>\n",
       "      <td>1.0</td>\n",
       "      <td>0.0</td>\n",
       "      <td>0.0</td>\n",
       "    </tr>\n",
       "    <tr>\n",
       "      <th>2</th>\n",
       "      <td>0.000000</td>\n",
       "      <td>0.000000</td>\n",
       "      <td>0.0</td>\n",
       "      <td>0.000000</td>\n",
       "      <td>0.001418</td>\n",
       "      <td>0.000000</td>\n",
       "      <td>1.000000</td>\n",
       "      <td>1.000000</td>\n",
       "      <td>0.000000</td>\n",
       "      <td>0.0</td>\n",
       "      <td>0.222222</td>\n",
       "      <td>0.428571</td>\n",
       "      <td>0.000000</td>\n",
       "      <td>1.000</td>\n",
       "      <td>0.105263</td>\n",
       "      <td>1.0</td>\n",
       "      <td>0.0</td>\n",
       "      <td>0.0</td>\n",
       "    </tr>\n",
       "    <tr>\n",
       "      <th>3</th>\n",
       "      <td>0.000000</td>\n",
       "      <td>0.000294</td>\n",
       "      <td>0.0</td>\n",
       "      <td>0.000392</td>\n",
       "      <td>0.002837</td>\n",
       "      <td>0.000057</td>\n",
       "      <td>0.250000</td>\n",
       "      <td>0.700000</td>\n",
       "      <td>0.000000</td>\n",
       "      <td>0.0</td>\n",
       "      <td>0.222222</td>\n",
       "      <td>0.285714</td>\n",
       "      <td>0.083333</td>\n",
       "      <td>0.125</td>\n",
       "      <td>0.157895</td>\n",
       "      <td>1.0</td>\n",
       "      <td>0.0</td>\n",
       "      <td>0.0</td>\n",
       "    </tr>\n",
       "    <tr>\n",
       "      <th>4</th>\n",
       "      <td>0.000000</td>\n",
       "      <td>0.000294</td>\n",
       "      <td>0.0</td>\n",
       "      <td>0.000392</td>\n",
       "      <td>0.014184</td>\n",
       "      <td>0.009824</td>\n",
       "      <td>0.100000</td>\n",
       "      <td>0.250000</td>\n",
       "      <td>0.000000</td>\n",
       "      <td>0.0</td>\n",
       "      <td>0.222222</td>\n",
       "      <td>0.285714</td>\n",
       "      <td>0.166667</td>\n",
       "      <td>0.000</td>\n",
       "      <td>0.157895</td>\n",
       "      <td>1.0</td>\n",
       "      <td>1.0</td>\n",
       "      <td>0.0</td>\n",
       "    </tr>\n",
       "    <tr>\n",
       "      <th>...</th>\n",
       "      <td>...</td>\n",
       "      <td>...</td>\n",
       "      <td>...</td>\n",
       "      <td>...</td>\n",
       "      <td>...</td>\n",
       "      <td>...</td>\n",
       "      <td>...</td>\n",
       "      <td>...</td>\n",
       "      <td>...</td>\n",
       "      <td>...</td>\n",
       "      <td>...</td>\n",
       "      <td>...</td>\n",
       "      <td>...</td>\n",
       "      <td>...</td>\n",
       "      <td>...</td>\n",
       "      <td>...</td>\n",
       "      <td>...</td>\n",
       "      <td>...</td>\n",
       "    </tr>\n",
       "    <tr>\n",
       "      <th>12325</th>\n",
       "      <td>0.111111</td>\n",
       "      <td>0.042944</td>\n",
       "      <td>0.0</td>\n",
       "      <td>0.000392</td>\n",
       "      <td>0.075177</td>\n",
       "      <td>0.027898</td>\n",
       "      <td>0.035714</td>\n",
       "      <td>0.145153</td>\n",
       "      <td>0.033839</td>\n",
       "      <td>0.0</td>\n",
       "      <td>0.111111</td>\n",
       "      <td>0.428571</td>\n",
       "      <td>0.416667</td>\n",
       "      <td>0.000</td>\n",
       "      <td>0.000000</td>\n",
       "      <td>1.0</td>\n",
       "      <td>1.0</td>\n",
       "      <td>0.0</td>\n",
       "    </tr>\n",
       "    <tr>\n",
       "      <th>12326</th>\n",
       "      <td>0.000000</td>\n",
       "      <td>0.000294</td>\n",
       "      <td>0.0</td>\n",
       "      <td>0.000392</td>\n",
       "      <td>0.007092</td>\n",
       "      <td>0.007296</td>\n",
       "      <td>0.000000</td>\n",
       "      <td>0.106667</td>\n",
       "      <td>0.000000</td>\n",
       "      <td>0.0</td>\n",
       "      <td>0.777778</td>\n",
       "      <td>0.285714</td>\n",
       "      <td>0.083333</td>\n",
       "      <td>0.000</td>\n",
       "      <td>0.368421</td>\n",
       "      <td>1.0</td>\n",
       "      <td>1.0</td>\n",
       "      <td>0.0</td>\n",
       "    </tr>\n",
       "    <tr>\n",
       "      <th>12327</th>\n",
       "      <td>0.000000</td>\n",
       "      <td>0.000294</td>\n",
       "      <td>0.0</td>\n",
       "      <td>0.000392</td>\n",
       "      <td>0.008511</td>\n",
       "      <td>0.002896</td>\n",
       "      <td>0.416667</td>\n",
       "      <td>0.433333</td>\n",
       "      <td>0.000000</td>\n",
       "      <td>0.0</td>\n",
       "      <td>0.777778</td>\n",
       "      <td>0.285714</td>\n",
       "      <td>0.083333</td>\n",
       "      <td>0.000</td>\n",
       "      <td>0.631579</td>\n",
       "      <td>1.0</td>\n",
       "      <td>1.0</td>\n",
       "      <td>0.0</td>\n",
       "    </tr>\n",
       "    <tr>\n",
       "      <th>12328</th>\n",
       "      <td>0.148148</td>\n",
       "      <td>0.022355</td>\n",
       "      <td>0.0</td>\n",
       "      <td>0.000392</td>\n",
       "      <td>0.021277</td>\n",
       "      <td>0.005424</td>\n",
       "      <td>0.000000</td>\n",
       "      <td>0.105263</td>\n",
       "      <td>0.000000</td>\n",
       "      <td>0.0</td>\n",
       "      <td>0.777778</td>\n",
       "      <td>0.142857</td>\n",
       "      <td>0.083333</td>\n",
       "      <td>0.250</td>\n",
       "      <td>0.526316</td>\n",
       "      <td>1.0</td>\n",
       "      <td>0.0</td>\n",
       "      <td>0.0</td>\n",
       "    </tr>\n",
       "    <tr>\n",
       "      <th>12329</th>\n",
       "      <td>0.000000</td>\n",
       "      <td>0.000294</td>\n",
       "      <td>0.0</td>\n",
       "      <td>0.000392</td>\n",
       "      <td>0.004255</td>\n",
       "      <td>0.000348</td>\n",
       "      <td>0.000000</td>\n",
       "      <td>0.333333</td>\n",
       "      <td>0.000000</td>\n",
       "      <td>0.0</td>\n",
       "      <td>0.777778</td>\n",
       "      <td>0.285714</td>\n",
       "      <td>0.083333</td>\n",
       "      <td>0.000</td>\n",
       "      <td>0.052632</td>\n",
       "      <td>0.0</td>\n",
       "      <td>1.0</td>\n",
       "      <td>0.0</td>\n",
       "    </tr>\n",
       "  </tbody>\n",
       "</table>\n",
       "<p>12330 rows × 18 columns</p>\n",
       "</div>"
      ],
      "text/plain": [
       "       Administrative  Administrative_Duration  Informational  \\\n",
       "0            0.000000                 0.000294            0.0   \n",
       "1            0.000000                 0.000294            0.0   \n",
       "2            0.000000                 0.000000            0.0   \n",
       "3            0.000000                 0.000294            0.0   \n",
       "4            0.000000                 0.000294            0.0   \n",
       "...               ...                      ...            ...   \n",
       "12325        0.111111                 0.042944            0.0   \n",
       "12326        0.000000                 0.000294            0.0   \n",
       "12327        0.000000                 0.000294            0.0   \n",
       "12328        0.148148                 0.022355            0.0   \n",
       "12329        0.000000                 0.000294            0.0   \n",
       "\n",
       "       Informational_Duration  ProductRelated  ProductRelated_Duration  \\\n",
       "0                    0.000392        0.001418                 0.000016   \n",
       "1                    0.000392        0.002837                 0.001016   \n",
       "2                    0.000000        0.001418                 0.000000   \n",
       "3                    0.000392        0.002837                 0.000057   \n",
       "4                    0.000392        0.014184                 0.009824   \n",
       "...                       ...             ...                      ...   \n",
       "12325                0.000392        0.075177                 0.027898   \n",
       "12326                0.000392        0.007092                 0.007296   \n",
       "12327                0.000392        0.008511                 0.002896   \n",
       "12328                0.000392        0.021277                 0.005424   \n",
       "12329                0.000392        0.004255                 0.000348   \n",
       "\n",
       "       BounceRates  ExitRates  PageValues  SpecialDay     Month  \\\n",
       "0         1.000000   1.000000    0.000000         0.0  0.222222   \n",
       "1         0.000000   0.500000    0.000000         0.0  0.222222   \n",
       "2         1.000000   1.000000    0.000000         0.0  0.222222   \n",
       "3         0.250000   0.700000    0.000000         0.0  0.222222   \n",
       "4         0.100000   0.250000    0.000000         0.0  0.222222   \n",
       "...            ...        ...         ...         ...       ...   \n",
       "12325     0.035714   0.145153    0.033839         0.0  0.111111   \n",
       "12326     0.000000   0.106667    0.000000         0.0  0.777778   \n",
       "12327     0.416667   0.433333    0.000000         0.0  0.777778   \n",
       "12328     0.000000   0.105263    0.000000         0.0  0.777778   \n",
       "12329     0.000000   0.333333    0.000000         0.0  0.777778   \n",
       "\n",
       "       OperatingSystems   Browser  Region  TrafficType  VisitorType  Weekend  \\\n",
       "0              0.000000  0.000000   0.000     0.000000          1.0      0.0   \n",
       "1              0.142857  0.083333   0.000     0.052632          1.0      0.0   \n",
       "2              0.428571  0.000000   1.000     0.105263          1.0      0.0   \n",
       "3              0.285714  0.083333   0.125     0.157895          1.0      0.0   \n",
       "4              0.285714  0.166667   0.000     0.157895          1.0      1.0   \n",
       "...                 ...       ...     ...          ...          ...      ...   \n",
       "12325          0.428571  0.416667   0.000     0.000000          1.0      1.0   \n",
       "12326          0.285714  0.083333   0.000     0.368421          1.0      1.0   \n",
       "12327          0.285714  0.083333   0.000     0.631579          1.0      1.0   \n",
       "12328          0.142857  0.083333   0.250     0.526316          1.0      0.0   \n",
       "12329          0.285714  0.083333   0.000     0.052632          0.0      1.0   \n",
       "\n",
       "       Revenue  \n",
       "0          0.0  \n",
       "1          0.0  \n",
       "2          0.0  \n",
       "3          0.0  \n",
       "4          0.0  \n",
       "...        ...  \n",
       "12325      0.0  \n",
       "12326      0.0  \n",
       "12327      0.0  \n",
       "12328      0.0  \n",
       "12329      0.0  \n",
       "\n",
       "[12330 rows x 18 columns]"
      ]
     },
     "execution_count": 223,
     "metadata": {},
     "output_type": "execute_result"
    }
   ],
   "source": [
    "dfosnorm1"
   ]
  },
  {
   "cell_type": "code",
   "execution_count": 224,
   "metadata": {
    "scrolled": true
   },
   "outputs": [
    {
     "data": {
      "text/plain": [
       "0        0.0\n",
       "1        0.0\n",
       "2        0.0\n",
       "3        0.0\n",
       "4        0.0\n",
       "        ... \n",
       "12325    0.0\n",
       "12326    0.0\n",
       "12327    0.0\n",
       "12328    0.0\n",
       "12329    0.0\n",
       "Name: Revenue, Length: 12330, dtype: float64"
      ]
     },
     "execution_count": 224,
     "metadata": {},
     "output_type": "execute_result"
    }
   ],
   "source": [
    "dfosnorm1['Revenue']"
   ]
  },
  {
   "cell_type": "code",
   "execution_count": 225,
   "metadata": {},
   "outputs": [
    {
     "data": {
      "text/plain": [
       "0        0.0\n",
       "1        0.0\n",
       "2        0.0\n",
       "3        0.0\n",
       "4        1.0\n",
       "        ... \n",
       "12325    1.0\n",
       "12326    1.0\n",
       "12327    1.0\n",
       "12328    0.0\n",
       "12329    1.0\n",
       "Name: Weekend, Length: 12330, dtype: float64"
      ]
     },
     "execution_count": 225,
     "metadata": {},
     "output_type": "execute_result"
    }
   ],
   "source": [
    "dfosnorm1['Weekend']"
   ]
  },
  {
   "cell_type": "code",
   "execution_count": 226,
   "metadata": {},
   "outputs": [
    {
     "data": {
      "text/plain": [
       "0.0    10422\n",
       "1.0     1908\n",
       "Name: Revenue, dtype: int64"
      ]
     },
     "execution_count": 226,
     "metadata": {},
     "output_type": "execute_result"
    }
   ],
   "source": [
    "dfosnorm1['Revenue'].value_counts()"
   ]
  },
  {
   "cell_type": "code",
   "execution_count": 227,
   "metadata": {},
   "outputs": [
    {
     "data": {
      "text/plain": [
       "0.0    9462\n",
       "1.0    2868\n",
       "Name: Weekend, dtype: int64"
      ]
     },
     "execution_count": 227,
     "metadata": {},
     "output_type": "execute_result"
    }
   ],
   "source": [
    "dfosnorm1['Weekend'].value_counts()"
   ]
  },
  {
   "cell_type": "code",
   "execution_count": null,
   "metadata": {},
   "outputs": [],
   "source": [
    "km1 = KMeans()"
   ]
  },
  {
   "cell_type": "code",
   "execution_count": 234,
   "metadata": {},
   "outputs": [
    {
     "data": {
      "text/plain": [
       "True"
      ]
     },
     "execution_count": 234,
     "metadata": {},
     "output_type": "execute_result"
    }
   ],
   "source": [
    "np.any(np.isnan(dfosnorm1))"
   ]
  },
  {
   "cell_type": "code",
   "execution_count": 235,
   "metadata": {},
   "outputs": [
    {
     "data": {
      "text/plain": [
       "Administrative             True\n",
       "Administrative_Duration    True\n",
       "Informational              True\n",
       "Informational_Duration     True\n",
       "ProductRelated             True\n",
       "ProductRelated_Duration    True\n",
       "BounceRates                True\n",
       "ExitRates                  True\n",
       "PageValues                 True\n",
       "SpecialDay                 True\n",
       "Month                      True\n",
       "OperatingSystems           True\n",
       "Browser                    True\n",
       "Region                     True\n",
       "TrafficType                True\n",
       "VisitorType                True\n",
       "Weekend                    True\n",
       "Revenue                    True\n",
       "dtype: bool"
      ]
     },
     "execution_count": 235,
     "metadata": {},
     "output_type": "execute_result"
    }
   ],
   "source": [
    "np.isfinite(dfosnorm1.all())"
   ]
  },
  {
   "cell_type": "code",
   "execution_count": 197,
   "metadata": {
    "scrolled": true
   },
   "outputs": [
    {
     "data": {
      "text/plain": [
       "Administrative             14\n",
       "Administrative_Duration    14\n",
       "Informational              14\n",
       "Informational_Duration     14\n",
       "ProductRelated             14\n",
       "ProductRelated_Duration    14\n",
       "BounceRates                14\n",
       "ExitRates                  14\n",
       "PageValues                  0\n",
       "SpecialDay                  0\n",
       "Month                       0\n",
       "OperatingSystems            0\n",
       "Browser                     0\n",
       "Region                      0\n",
       "TrafficType                 0\n",
       "VisitorType                 0\n",
       "Weekend                     0\n",
       "Revenue                     0\n",
       "dtype: int64"
      ]
     },
     "execution_count": 197,
     "metadata": {},
     "output_type": "execute_result"
    }
   ],
   "source": [
    "dfos1.isna().sum()"
   ]
  },
  {
   "cell_type": "code",
   "execution_count": 200,
   "metadata": {},
   "outputs": [],
   "source": [
    "from sklearn.datasets import make_blobs"
   ]
  },
  {
   "cell_type": "code",
   "execution_count": 236,
   "metadata": {},
   "outputs": [
    {
     "data": {
      "text/plain": [
       "(array([[  1.35337248,  -5.15783397,  -5.0162266 ,   5.37742451],\n",
       "        [ -9.71370511,   0.09878073,   6.41632349,   3.08003382],\n",
       "        [ -6.18159797,  -8.2711216 ,   2.70248001,   9.65932001],\n",
       "        [  4.46091394,  -1.9615122 ,   9.23985005,   2.90469313],\n",
       "        [  7.82111653,  -8.66750208,   2.56069223,   4.6138972 ],\n",
       "        [ -8.94096055,  -2.15172675,   5.39489672,   1.88624325],\n",
       "        [ -0.60297312,  -6.82451464,  -4.80253738,   7.67593933],\n",
       "        [ -7.0235128 ,  -7.45142853,   4.06067398,   8.86058744],\n",
       "        [  4.62452619,  -4.11770395,   9.15016772,   3.79837493],\n",
       "        [  1.31006656,  -5.47475738,  -4.05335696,   6.65777984],\n",
       "        [  5.36450084, -10.33885397,   3.38492372,   5.8943468 ],\n",
       "        [ -8.81989847,   0.61596781,   5.36895825,   3.40857291],\n",
       "        [ -7.60190736,   0.55251294,   7.14498326,   2.26154403],\n",
       "        [  5.19423061, -10.08668991,   3.80174985,   4.27826762],\n",
       "        [ -0.46888599,  -5.36296292,  -5.76569338,   3.5920435 ],\n",
       "        [ -0.17422652,  -5.90420544,  -6.33472656,   6.05882285],\n",
       "        [ -8.63550192,  -7.692663  ,   2.26489748,   7.45901656],\n",
       "        [-11.12468817,   0.45368441,   5.36123231,   1.46783359],\n",
       "        [  6.08664442,  -9.9358329 ,   1.73353134,   4.48674043],\n",
       "        [  3.40449814,  -5.5201762 ,   8.08898059,   4.12022287],\n",
       "        [ -7.69748065,  -8.35627355,   3.31621418,  10.32304066],\n",
       "        [ -7.74825856, -10.1745034 ,   4.69379418,   9.09609429],\n",
       "        [  0.6769707 ,  -6.29133602,  -5.74580198,   4.73980699],\n",
       "        [  3.8208015 ,  -3.32539686,   7.73186344,   3.92832947],\n",
       "        [  4.83183234,  -4.7385955 ,   9.84370084,   4.43176253],\n",
       "        [ -9.16573472,   1.12333096,   6.01246293,   1.55546469],\n",
       "        [  3.54365495,  -4.73937198,   8.28053358,   3.76973922],\n",
       "        [-10.39243476,   0.59332168,   7.86387653,   2.4898606 ],\n",
       "        [  5.82662285,  -9.92259335,   3.92943696,   4.24410815],\n",
       "        [  1.230705  ,  -2.69976764,   7.88857983,   4.11249597],\n",
       "        [ -0.66982236,  -5.19023657,  -7.26457869,   4.98882111],\n",
       "        [ -7.57131569,  -7.64516312,   3.77599784,  10.47993123],\n",
       "        [  4.62182172,  -9.79765865,   2.33382445,   5.28824759],\n",
       "        [ -6.0693552 ,  -7.63000467,   4.71405751,   8.77344092],\n",
       "        [ -8.90705004,  -0.72635256,   7.46960079,   2.43316872],\n",
       "        [ -5.67065719,  -9.25551441,   4.87436474,   8.49589011],\n",
       "        [  1.31468967,  -5.01055177,  -6.27574689,   5.26789939],\n",
       "        [  1.62685687,  -4.83617748,  -6.26868935,   4.08106305],\n",
       "        [  4.88653379,  -8.87680099,   3.51518944,   5.17965845],\n",
       "        [  5.36056502, -11.71667312,   2.62413419,   5.36941887],\n",
       "        [  4.8104119 ,  -4.24639388,   8.5816088 ,   4.17563494],\n",
       "        [  2.37446585,  -6.24342383,  -6.35157146,   4.86173233],\n",
       "        [ -9.41710777,   0.43217648,   7.33764631,   2.6074604 ],\n",
       "        [  5.21062297,  -8.59588856,   2.98771848,   7.44372871],\n",
       "        [ -8.01873063,   0.52345066,   6.87267373,   1.18195363],\n",
       "        [  5.70479763,  -2.76514066,   8.88970741,   4.29561771],\n",
       "        [ -6.46882257,  -7.91809255,   3.1322787 ,   8.70769579],\n",
       "        [  3.17351661,  -4.3817389 ,   8.55275467,   4.03623521],\n",
       "        [  2.80016221,  -3.72754136,   9.75330184,   4.41618244],\n",
       "        [ -0.51195289,  -5.41447948,  -5.21174408,   3.25610212],\n",
       "        [  3.44868458, -11.32833331,   2.93903486,   7.36104498],\n",
       "        [  0.08761591,  -7.41152398,  -6.96165197,   5.68036568],\n",
       "        [  5.59179528,  -3.55319637,   8.03228122,   4.95566127],\n",
       "        [  5.06391368,  -9.7068667 ,   2.99232112,   5.43698055],\n",
       "        [ -7.18128894,  -7.37837496,   4.39510109,   7.53479821],\n",
       "        [  5.99156553,  -9.73238127,   2.64705936,   5.26517185],\n",
       "        [ -8.16508866,  -6.88839721,   4.21038555,  10.26221753],\n",
       "        [  6.55010412,  -7.9123388 ,   2.77211391,   6.37407403],\n",
       "        [ -2.32496308,  -6.6999964 ,  -6.37184387,   4.41922347],\n",
       "        [  5.08876866,  -6.33908727,   8.97443137,   4.76874997],\n",
       "        [  4.28981065,  -9.44982413,   4.1575017 ,   3.89627276],\n",
       "        [ -9.16441282,  -0.48555395,   7.46720188,   3.2588043 ],\n",
       "        [-10.08510996,  -0.904967  ,   5.41691073,   2.46097206],\n",
       "        [ -6.3899659 ,  -7.98402506,   3.8029596 ,   9.51688865],\n",
       "        [-10.60725029,   0.79178919,   6.2160367 ,   1.40350508],\n",
       "        [  4.20002412,  -5.42330644,   6.66351452,   4.90796659],\n",
       "        [ -7.44015087,  -9.81975548,   3.30572355,  10.41004621],\n",
       "        [ -7.62435183,  -8.49073734,   4.43770381,   7.36946543],\n",
       "        [ -6.21531418,  -8.60596513,   3.03517293,   9.17367901],\n",
       "        [  5.19457768,  -4.19640564,   8.18908176,   4.56108809],\n",
       "        [  4.50838936,  -2.98874622,  10.21843412,   2.30787917],\n",
       "        [ -8.03866378,  -8.91215049,   4.24108118,   9.81184133],\n",
       "        [  0.34789333,  -3.88965912,  -7.16184674,   4.8218863 ],\n",
       "        [  1.1882891 ,  -5.56058781,  -5.57785425,   5.87298826],\n",
       "        [ -9.43603205,  -1.41475944,   8.93232954,   1.14699921],\n",
       "        [ -8.841304  ,  -0.21899562,   4.73734355,   1.7118028 ],\n",
       "        [  7.41149746,  -7.84014686,   0.81677922,   4.75330395],\n",
       "        [  5.6234231 ,  -4.40822402,   6.71989583,   4.53631376],\n",
       "        [ -6.90378528,  -9.09596202,   2.96537153,  10.17344206],\n",
       "        [  0.3024902 ,  -4.36909392,  -5.52802829,   5.62491189],\n",
       "        [  5.15516488,  -8.97175683,   2.40564751,   4.42676864],\n",
       "        [  1.07026962,  -4.93971456,  -6.75154214,   4.94975477],\n",
       "        [  4.8974919 ,  -5.38233417,   8.54805529,   4.72696606],\n",
       "        [ -6.48464577,  -7.03045984,   2.6824434 ,   9.22826609],\n",
       "        [  0.24431303,  -6.01897701,  -7.7498139 ,   5.82291156],\n",
       "        [ -4.39273363,  -8.1160223 ,   3.95181089,   8.8905681 ],\n",
       "        [-10.64365541,   0.32798482,   5.66796408,   2.85254361],\n",
       "        [ -0.31748917,  -6.86337766,  -6.08678403,   4.7298269 ],\n",
       "        [  3.91809138,  -8.96436035,   1.62783216,   4.17806883],\n",
       "        [ -8.10325206,  -0.31220207,   7.21013047,   3.06574202],\n",
       "        [ -4.94370772,  -7.06948002,   3.57462277,   8.77762112],\n",
       "        [  4.46120288,  -5.13218431,   7.37175433,   4.70404838],\n",
       "        [  5.34529068, -10.11425709,   3.71914756,   3.55752162],\n",
       "        [ -9.48266943,  -0.53849793,   6.44535522,   2.25454625],\n",
       "        [ -9.85671527,   0.0774399 ,   5.31170946,   2.19692683],\n",
       "        [  5.55912116, -10.06110303,   3.98143778,   5.17109093],\n",
       "        [  5.64367801, -11.57935478,   3.78067293,   5.22062163],\n",
       "        [-11.19085427,   0.5672352 ,   7.13819409,   2.51491603],\n",
       "        [  4.84670876,  -3.8746682 ,   8.85975393,   5.09578303],\n",
       "        [ -0.7369312 ,  -4.95740225,  -5.0962423 ,   2.23101747]]),\n",
       " array([1, 3, 2, 4, 0, 3, 1, 2, 4, 1, 0, 3, 3, 0, 1, 1, 2, 3, 0, 4, 2, 2,\n",
       "        1, 4, 4, 3, 4, 3, 0, 4, 1, 2, 0, 2, 3, 2, 1, 1, 0, 0, 4, 1, 3, 0,\n",
       "        3, 4, 2, 4, 4, 1, 0, 1, 4, 0, 2, 0, 2, 0, 1, 4, 0, 3, 3, 2, 3, 4,\n",
       "        2, 2, 2, 4, 4, 2, 1, 1, 3, 3, 0, 4, 2, 1, 0, 1, 4, 2, 1, 2, 3, 1,\n",
       "        0, 3, 2, 4, 0, 3, 3, 0, 0, 3, 4, 1]))"
      ]
     },
     "execution_count": 236,
     "metadata": {},
     "output_type": "execute_result"
    }
   ],
   "source": [
    "x1, y1 = make_blobs(n_samples = 100, centers = 5, random_state = 10, n_features = 4)\n",
    "x1, y1"
   ]
  },
  {
   "cell_type": "code",
   "execution_count": 237,
   "metadata": {},
   "outputs": [
    {
     "data": {
      "text/plain": [
       "array([ 1.35337248, -5.15783397, -5.0162266 ,  5.37742451])"
      ]
     },
     "execution_count": 237,
     "metadata": {},
     "output_type": "execute_result"
    }
   ],
   "source": [
    "x1[0]"
   ]
  },
  {
   "cell_type": "code",
   "execution_count": 238,
   "metadata": {},
   "outputs": [
    {
     "data": {
      "text/plain": [
       "array([-9.71370511,  0.09878073,  6.41632349,  3.08003382])"
      ]
     },
     "execution_count": 238,
     "metadata": {},
     "output_type": "execute_result"
    }
   ],
   "source": [
    "x1[1]"
   ]
  },
  {
   "cell_type": "code",
   "execution_count": 239,
   "metadata": {},
   "outputs": [
    {
     "data": {
      "text/plain": [
       "array([1, 3, 2, 4, 0, 3, 1, 2, 4, 1, 0, 3, 3, 0, 1, 1, 2, 3, 0, 4, 2, 2,\n",
       "       1, 4, 4, 3, 4, 3, 0, 4, 1, 2, 0, 2, 3, 2, 1, 1, 0, 0, 4, 1, 3, 0,\n",
       "       3, 4, 2, 4, 4, 1, 0, 1, 4, 0, 2, 0, 2, 0, 1, 4, 0, 3, 3, 2, 3, 4,\n",
       "       2, 2, 2, 4, 4, 2, 1, 1, 3, 3, 0, 4, 2, 1, 0, 1, 4, 2, 1, 2, 3, 1,\n",
       "       0, 3, 2, 4, 0, 3, 3, 0, 0, 3, 4, 1])"
      ]
     },
     "execution_count": 239,
     "metadata": {},
     "output_type": "execute_result"
    }
   ],
   "source": [
    "y1"
   ]
  },
  {
   "cell_type": "code",
   "execution_count": 240,
   "metadata": {},
   "outputs": [
    {
     "data": {
      "text/plain": [
       "1"
      ]
     },
     "execution_count": 240,
     "metadata": {},
     "output_type": "execute_result"
    }
   ],
   "source": [
    "y1[0]"
   ]
  },
  {
   "cell_type": "code",
   "execution_count": 241,
   "metadata": {},
   "outputs": [
    {
     "data": {
      "text/plain": [
       "3"
      ]
     },
     "execution_count": 241,
     "metadata": {},
     "output_type": "execute_result"
    }
   ],
   "source": [
    "y1[1]"
   ]
  },
  {
   "cell_type": "code",
   "execution_count": 256,
   "metadata": {},
   "outputs": [],
   "source": [
    "x2, y2 = make_blobs(n_samples = 100, centers = 4, random_state = 10, n_features = 2)"
   ]
  },
  {
   "cell_type": "code",
   "execution_count": 257,
   "metadata": {},
   "outputs": [
    {
     "data": {
      "text/plain": [
       "array([[ -5.57785425,   5.87298826],\n",
       "       [  1.62783216,   4.17806883],\n",
       "       [ -6.37184387,   4.41922347],\n",
       "       [  1.75005543,   5.44582908],\n",
       "       [  6.55010412,  -7.9123388 ],\n",
       "       [ -0.66982236,  -5.19023657],\n",
       "       [  0.48085466,  -5.08976945],\n",
       "       [ -7.45962322,   4.53166747],\n",
       "       [  5.55912116, -10.06110303],\n",
       "       [ -1.25569573,  -5.72586023],\n",
       "       [ -5.03188157,   4.91618824],\n",
       "       [  1.31006656,  -5.47475738],\n",
       "       [  6.68288513, -10.31693051],\n",
       "       [  0.6769707 ,  -6.29133602],\n",
       "       [  5.69192445,  -9.47641249],\n",
       "       [ -0.07790108,  -5.98485443],\n",
       "       [  6.2686376 ,  -9.38138022],\n",
       "       [  2.61105267,   4.22218469],\n",
       "       [  6.91094987, -10.6647659 ],\n",
       "       [ -1.15296379,  -5.89279504],\n",
       "       [ -0.31748917,  -6.86337766],\n",
       "       [  1.20634557,  -3.03874201],\n",
       "       [  2.44078244,   4.47434875],\n",
       "       [ -7.06349567,   5.37101341],\n",
       "       [  0.34789333,  -3.88965912],\n",
       "       [  0.99265635,  -5.33725682],\n",
       "       [  0.26308097,  -5.97487434],\n",
       "       [  5.15516488,  -8.97175683],\n",
       "       [ -7.7498139 ,   5.82291156],\n",
       "       [  2.60711685,   2.84436554],\n",
       "       [  1.35337248,  -5.15783397],\n",
       "       [  2.37446585,  -6.24342383],\n",
       "       [  5.4307043 ,  -9.75956122],\n",
       "       [ -0.32584361,  -4.65585848],\n",
       "       [  0.3024902 ,  -4.36909392],\n",
       "       [  6.08664442,  -9.9358329 ],\n",
       "       [ -5.09161663,   4.18830355],\n",
       "       [  2.62413419,   5.36941887],\n",
       "       [ -5.79412818,   5.03331542],\n",
       "       [  2.98771848,   7.44372871],\n",
       "       [  3.78067293,   5.22062163],\n",
       "       [  3.38492372,   5.8943468 ],\n",
       "       [  2.79044036,   3.06862076],\n",
       "       [  4.46134719,  -8.55668693],\n",
       "       [ -5.68526509,   5.00333476],\n",
       "       [ -5.49031464,   5.81381329],\n",
       "       [ -0.2598064 ,  -6.63361828],\n",
       "       [  6.73488595,  -9.38994773],\n",
       "       [  5.40050753,  -9.29586681],\n",
       "       [  5.655043  ,  -9.1398234 ],\n",
       "       [  4.88653379,  -8.87680099],\n",
       "       [  3.44868458, -11.32833331],\n",
       "       [  1.62685687,  -4.83617748],\n",
       "       [ -4.87157434,   4.63863743],\n",
       "       [  5.69248303,  -7.19999368],\n",
       "       [  5.52556208,  -8.18696464],\n",
       "       [ -0.60297312,  -6.82451464],\n",
       "       [  2.56069223,   4.6138972 ],\n",
       "       [  2.89022984,   2.98168388],\n",
       "       [ -7.16921799,   3.26931456],\n",
       "       [  4.48697951, -10.07429823],\n",
       "       [  2.99232112,   5.43698055],\n",
       "       [  1.16464321,   5.59667831],\n",
       "       [ -0.34268851,  -5.85294901],\n",
       "       [  1.31468967,  -5.01055177],\n",
       "       [  5.06766836,   5.89353659],\n",
       "       [  4.62182172,  -9.79765865],\n",
       "       [  2.59184251,   4.44678157],\n",
       "       [  4.28981065,  -9.44982413],\n",
       "       [ -5.76456992,   4.69570432],\n",
       "       [ -4.93861333,   5.77496677],\n",
       "       [ -0.26686394,  -5.44678194],\n",
       "       [  0.81677922,   4.75330395],\n",
       "       [  5.82662285,  -9.92259335],\n",
       "       [ -0.46888599,  -5.36296292],\n",
       "       [  0.24318957,  -7.12263784],\n",
       "       [ -6.42972489,   6.46578798],\n",
       "       [  4.65804929,   6.7208918 ],\n",
       "       [  1.95552599,  -4.05690149],\n",
       "       [ -4.82059385,   5.15409352],\n",
       "       [  5.15909568, -10.13427003],\n",
       "       [  5.85943906,  -8.38192364],\n",
       "       [  2.45717481,   5.96515011],\n",
       "       [  2.52859794,   4.5759393 ],\n",
       "       [  5.08727262,  -9.27279108],\n",
       "       [ -3.81369307,   5.32779566],\n",
       "       [  2.19087156,   5.06566526],\n",
       "       [ -5.5048579 ,   5.95458865],\n",
       "       [  3.49996332,   3.02156553],\n",
       "       [ -6.44447223,   5.99238943],\n",
       "       [  5.99156553,  -9.73238127],\n",
       "       [ -6.75154214,   4.94975477],\n",
       "       [ -8.33384603,   4.01468493],\n",
       "       [  3.80174985,   4.27826762],\n",
       "       [  2.31046552,   4.85417196],\n",
       "       [  3.71914756,   3.55752162],\n",
       "       [ -7.11844009,   5.08754442],\n",
       "       [ -6.74581415,   5.75727908],\n",
       "       [ -5.0962423 ,   2.23101747],\n",
       "       [ -5.90560521,   6.41335812]])"
      ]
     },
     "execution_count": 257,
     "metadata": {},
     "output_type": "execute_result"
    }
   ],
   "source": [
    "x2"
   ]
  },
  {
   "cell_type": "code",
   "execution_count": 258,
   "metadata": {},
   "outputs": [
    {
     "data": {
      "text/plain": [
       "array([3, 1, 3, 1, 0, 2, 2, 3, 0, 2, 3, 2, 0, 2, 0, 2, 0, 1, 0, 2, 2, 2,\n",
       "       1, 3, 2, 2, 2, 0, 3, 1, 2, 2, 0, 2, 2, 0, 3, 1, 3, 1, 1, 1, 1, 0,\n",
       "       3, 3, 2, 0, 0, 0, 0, 0, 2, 3, 0, 0, 2, 1, 1, 3, 0, 1, 1, 2, 2, 1,\n",
       "       0, 1, 0, 3, 3, 2, 1, 0, 2, 2, 3, 1, 2, 3, 0, 0, 1, 1, 0, 3, 1, 3,\n",
       "       1, 3, 0, 3, 3, 1, 1, 1, 3, 3, 3, 3])"
      ]
     },
     "execution_count": 258,
     "metadata": {},
     "output_type": "execute_result"
    }
   ],
   "source": [
    "y2"
   ]
  },
  {
   "cell_type": "code",
   "execution_count": 259,
   "metadata": {},
   "outputs": [
    {
     "data": {
      "text/plain": [
       "array([-5.57785425,  5.87298826])"
      ]
     },
     "execution_count": 259,
     "metadata": {},
     "output_type": "execute_result"
    }
   ],
   "source": [
    "x2[0]"
   ]
  },
  {
   "cell_type": "code",
   "execution_count": 260,
   "metadata": {},
   "outputs": [
    {
     "data": {
      "text/plain": [
       "array([1.62783216, 4.17806883])"
      ]
     },
     "execution_count": 260,
     "metadata": {},
     "output_type": "execute_result"
    }
   ],
   "source": [
    "x2[1]"
   ]
  },
  {
   "cell_type": "code",
   "execution_count": 261,
   "metadata": {},
   "outputs": [
    {
     "data": {
      "text/plain": [
       "<matplotlib.collections.PathCollection at 0x1f63686d610>"
      ]
     },
     "execution_count": 261,
     "metadata": {},
     "output_type": "execute_result"
    },
    {
     "data": {
      "image/png": "[encoded data removed]",
      "text/plain": [
       "<Figure size 432x288 with 1 Axes>"
      ]
     },
     "metadata": {
      "needs_background": "light"
     },
     "output_type": "display_data"
    }
   ],
   "source": [
    "plt.scatter(x2[:, 0], x2[:, 1], s=50)"
   ]
  },
  {
   "cell_type": "code",
   "execution_count": 273,
   "metadata": {},
   "outputs": [],
   "source": [
    "kmc1 = KMeans(n_clusters=4)\n",
    "y_pred = kmc1.fit(x2)"
   ]
  },
  {
   "cell_type": "code",
   "execution_count": 274,
   "metadata": {},
   "outputs": [
    {
     "name": "stdout",
     "output_type": "stream",
     "text": [
      "KMeans(algorithm='auto', copy_x=True, init='k-means++', max_iter=300,\n",
      "       n_clusters=4, n_init=10, n_jobs=None, precompute_distances='auto',\n",
      "       random_state=None, tol=0.0001, verbose=0)\n"
     ]
    }
   ],
   "source": [
    "print(y_pred)"
   ]
  },
  {
   "cell_type": "code",
   "execution_count": 275,
   "metadata": {
    "scrolled": true
   },
   "outputs": [
    {
     "data": {
      "text/plain": [
       "KMeans(algorithm='auto', copy_x=True, init='k-means++', max_iter=300,\n",
       "       n_clusters=4, n_init=10, n_jobs=None, precompute_distances='auto',\n",
       "       random_state=None, tol=0.0001, verbose=0)"
      ]
     },
     "execution_count": 275,
     "metadata": {},
     "output_type": "execute_result"
    }
   ],
   "source": [
    "kmc1"
   ]
  },
  {
   "cell_type": "code",
   "execution_count": null,
   "metadata": {},
   "outputs": [],
   "source": []
  }
 ],
 "metadata": {
  "kernelspec": {
   "display_name": "Python 3",
   "language": "python",
   "name": "python3"
  },
  "language_info": {
   "codemirror_mode": {
    "name": "ipython",
    "version": 3
   },
   "file_extension": ".py",
   "mimetype": "text/x-python",
   "name": "python",
   "nbconvert_exporter": "python",
   "pygments_lexer": "ipython3",
   "version": "3.8.1"
  }
 },
 "nbformat": 4,
 "nbformat_minor": 4
}
