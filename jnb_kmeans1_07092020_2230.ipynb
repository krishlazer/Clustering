{
 "cells": [
  {
   "cell_type": "code",
   "execution_count": 16,
   "metadata": {},
   "outputs": [],
   "source": [
    "import pandas as pd\n",
    "import numpy as np\n",
    "from sklearn.cluster import KMeans\n",
    "from sklearn.datasets import make_blobs\n",
    "import matplotlib.pyplot as plt\n",
    "%matplotlib inline\n",
    "import seaborn as sb"
   ]
  },
  {
   "cell_type": "code",
   "execution_count": 2,
   "metadata": {},
   "outputs": [],
   "source": [
    "ds4 = make_blobs(n_samples = 50, n_features = 3)"
   ]
  },
  {
   "cell_type": "code",
   "execution_count": 3,
   "metadata": {},
   "outputs": [
    {
     "data": {
      "text/plain": [
       "(array([[  8.91545266,   6.55895142,   8.69846914],\n",
       "        [ -9.25593246,   4.61067412,   7.51310464],\n",
       "        [ -4.23843703,   4.59671729,   8.63013129],\n",
       "        [ -8.80069835,   3.91593845,   8.92376326],\n",
       "        [-10.85096942,   3.54899501,   9.66102284],\n",
       "        [ -9.61751188,   5.58327772,   9.23787633],\n",
       "        [  8.47669676,   6.54930839,   9.48088839],\n",
       "        [ -3.92022991,   4.65420512,   8.97759544],\n",
       "        [  8.91370297,   7.99986184,  10.43189647],\n",
       "        [ 12.18388182,   8.43858244,   8.59658624],\n",
       "        [ 10.2289686 ,   7.05356169,  11.21446187],\n",
       "        [  8.65490353,   6.57878247,   9.65183417],\n",
       "        [ -3.75068491,   6.07174115,  10.22986836],\n",
       "        [ -3.25757101,   4.77871113,  10.83866684],\n",
       "        [ -9.90271734,   5.25089355,   9.34554724],\n",
       "        [  9.42937753,   5.24169521,   9.63979512],\n",
       "        [  9.17325026,   7.47717742,   9.7388876 ],\n",
       "        [ -2.58998931,   5.36398466,   7.58905914],\n",
       "        [  9.21693812,   7.24130982,  11.07055311],\n",
       "        [  9.66144763,   5.41982069,   8.11123587],\n",
       "        [ -8.12482177,   4.62362127,   9.80384133],\n",
       "        [ -8.27667329,   2.56280788,   8.75421663],\n",
       "        [ -2.2268487 ,   5.11885619,  10.54415042],\n",
       "        [ -4.14277321,   5.9113865 ,  10.07920882],\n",
       "        [  8.5469753 ,   7.49669699,   9.76642734],\n",
       "        [  9.22174906,   6.59631681,  11.80044101],\n",
       "        [ -8.58404846,   3.44647969,   7.69622746],\n",
       "        [ -3.30744354,   5.8144684 ,   9.11228374],\n",
       "        [ -3.34018674,   8.73118214,   7.57469115],\n",
       "        [ -9.12940544,   3.84661204,   8.80467774],\n",
       "        [ -9.29047883,   4.1857708 ,   7.94691807],\n",
       "        [ -3.48966275,   5.8442238 ,   9.18672606],\n",
       "        [ 10.30168713,   6.09830047,   6.87879939],\n",
       "        [ 10.06842656,   7.4607978 ,   8.52114924],\n",
       "        [ -3.39851295,   4.76493752,   8.6797545 ],\n",
       "        [-10.26762836,   3.32358879,   9.65429122],\n",
       "        [ -5.34909871,   6.33246614,   8.55352382],\n",
       "        [-10.7526001 ,   4.55693326,   7.51224643],\n",
       "        [ -9.83075664,   4.71431272,   7.8776558 ],\n",
       "        [ -4.29954469,   6.59809312,   9.63135067],\n",
       "        [ -4.0591145 ,   5.77834919,   9.41944732],\n",
       "        [ -4.37538703,   6.12913394,   9.6745537 ],\n",
       "        [  7.58816579,   6.59636859,   8.68195407],\n",
       "        [-10.17447094,   4.97434645,   8.42280634],\n",
       "        [ -9.84232626,   2.55807328,   8.37601403],\n",
       "        [ -8.58312407,   4.99209176,   8.32460099],\n",
       "        [-10.13318224,   3.74733935,   9.27866595],\n",
       "        [ -2.20911171,   5.04157462,  10.38601833],\n",
       "        [  9.73224233,   5.91868916,  10.32525191],\n",
       "        [  9.14315948,   6.9174161 ,   7.14118255]]),\n",
       " array([1, 0, 2, 0, 0, 0, 1, 2, 1, 1, 1, 1, 2, 2, 0, 1, 1, 2, 1, 1, 0, 0,\n",
       "        2, 2, 1, 1, 0, 2, 2, 0, 0, 2, 1, 1, 2, 0, 2, 0, 0, 2, 2, 2, 1, 0,\n",
       "        0, 0, 0, 2, 1, 1]))"
      ]
     },
     "execution_count": 3,
     "metadata": {},
     "output_type": "execute_result"
    }
   ],
   "source": [
    "ds4"
   ]
  },
  {
   "cell_type": "code",
   "execution_count": 5,
   "metadata": {},
   "outputs": [
    {
     "data": {
      "text/plain": [
       "array([[  8.91545266,   6.55895142,   8.69846914],\n",
       "       [ -9.25593246,   4.61067412,   7.51310464],\n",
       "       [ -4.23843703,   4.59671729,   8.63013129],\n",
       "       [ -8.80069835,   3.91593845,   8.92376326],\n",
       "       [-10.85096942,   3.54899501,   9.66102284],\n",
       "       [ -9.61751188,   5.58327772,   9.23787633],\n",
       "       [  8.47669676,   6.54930839,   9.48088839],\n",
       "       [ -3.92022991,   4.65420512,   8.97759544],\n",
       "       [  8.91370297,   7.99986184,  10.43189647],\n",
       "       [ 12.18388182,   8.43858244,   8.59658624],\n",
       "       [ 10.2289686 ,   7.05356169,  11.21446187],\n",
       "       [  8.65490353,   6.57878247,   9.65183417],\n",
       "       [ -3.75068491,   6.07174115,  10.22986836],\n",
       "       [ -3.25757101,   4.77871113,  10.83866684],\n",
       "       [ -9.90271734,   5.25089355,   9.34554724],\n",
       "       [  9.42937753,   5.24169521,   9.63979512],\n",
       "       [  9.17325026,   7.47717742,   9.7388876 ],\n",
       "       [ -2.58998931,   5.36398466,   7.58905914],\n",
       "       [  9.21693812,   7.24130982,  11.07055311],\n",
       "       [  9.66144763,   5.41982069,   8.11123587],\n",
       "       [ -8.12482177,   4.62362127,   9.80384133],\n",
       "       [ -8.27667329,   2.56280788,   8.75421663],\n",
       "       [ -2.2268487 ,   5.11885619,  10.54415042],\n",
       "       [ -4.14277321,   5.9113865 ,  10.07920882],\n",
       "       [  8.5469753 ,   7.49669699,   9.76642734],\n",
       "       [  9.22174906,   6.59631681,  11.80044101],\n",
       "       [ -8.58404846,   3.44647969,   7.69622746],\n",
       "       [ -3.30744354,   5.8144684 ,   9.11228374],\n",
       "       [ -3.34018674,   8.73118214,   7.57469115],\n",
       "       [ -9.12940544,   3.84661204,   8.80467774],\n",
       "       [ -9.29047883,   4.1857708 ,   7.94691807],\n",
       "       [ -3.48966275,   5.8442238 ,   9.18672606],\n",
       "       [ 10.30168713,   6.09830047,   6.87879939],\n",
       "       [ 10.06842656,   7.4607978 ,   8.52114924],\n",
       "       [ -3.39851295,   4.76493752,   8.6797545 ],\n",
       "       [-10.26762836,   3.32358879,   9.65429122],\n",
       "       [ -5.34909871,   6.33246614,   8.55352382],\n",
       "       [-10.7526001 ,   4.55693326,   7.51224643],\n",
       "       [ -9.83075664,   4.71431272,   7.8776558 ],\n",
       "       [ -4.29954469,   6.59809312,   9.63135067],\n",
       "       [ -4.0591145 ,   5.77834919,   9.41944732],\n",
       "       [ -4.37538703,   6.12913394,   9.6745537 ],\n",
       "       [  7.58816579,   6.59636859,   8.68195407],\n",
       "       [-10.17447094,   4.97434645,   8.42280634],\n",
       "       [ -9.84232626,   2.55807328,   8.37601403],\n",
       "       [ -8.58312407,   4.99209176,   8.32460099],\n",
       "       [-10.13318224,   3.74733935,   9.27866595],\n",
       "       [ -2.20911171,   5.04157462,  10.38601833],\n",
       "       [  9.73224233,   5.91868916,  10.32525191],\n",
       "       [  9.14315948,   6.9174161 ,   7.14118255]])"
      ]
     },
     "execution_count": 5,
     "metadata": {},
     "output_type": "execute_result"
    }
   ],
   "source": [
    "ds4[0]"
   ]
  },
  {
   "cell_type": "code",
   "execution_count": 8,
   "metadata": {},
   "outputs": [
    {
     "data": {
      "text/plain": [
       "array([1, 0, 2, 0, 0, 0, 1, 2, 1, 1, 1, 1, 2, 2, 0, 1, 1, 2, 1, 1, 0, 0,\n",
       "       2, 2, 1, 1, 0, 2, 2, 0, 0, 2, 1, 1, 2, 0, 2, 0, 0, 2, 2, 2, 1, 0,\n",
       "       0, 0, 0, 2, 1, 1])"
      ]
     },
     "execution_count": 8,
     "metadata": {},
     "output_type": "execute_result"
    }
   ],
   "source": [
    "ds4[1]"
   ]
  },
  {
   "cell_type": "code",
   "execution_count": 9,
   "metadata": {},
   "outputs": [
    {
     "data": {
      "text/plain": [
       "numpy.ndarray"
      ]
     },
     "execution_count": 9,
     "metadata": {},
     "output_type": "execute_result"
    }
   ],
   "source": [
    "type(ds4[0])"
   ]
  },
  {
   "cell_type": "code",
   "execution_count": 10,
   "metadata": {},
   "outputs": [
    {
     "data": {
      "text/plain": [
       "numpy.ndarray"
      ]
     },
     "execution_count": 10,
     "metadata": {},
     "output_type": "execute_result"
    }
   ],
   "source": [
    "type(ds4[1])"
   ]
  },
  {
   "cell_type": "code",
   "execution_count": 11,
   "metadata": {},
   "outputs": [
    {
     "data": {
      "text/plain": [
       "array([1, 0, 2, 0, 0, 0, 1, 2, 1, 1, 1, 1, 2, 2, 0, 1, 1, 2, 1, 1, 0, 0,\n",
       "       2, 2, 1, 1, 0, 2, 2, 0, 0, 2, 1, 1, 2, 0, 2, 0, 0, 2, 2, 2, 1, 0,\n",
       "       0, 0, 0, 2, 1, 1])"
      ]
     },
     "execution_count": 11,
     "metadata": {},
     "output_type": "execute_result"
    }
   ],
   "source": [
    "ds4[1]"
   ]
  },
  {
   "cell_type": "code",
   "execution_count": 12,
   "metadata": {},
   "outputs": [
    {
     "data": {
      "text/plain": [
       "(50, 3)"
      ]
     },
     "execution_count": 12,
     "metadata": {},
     "output_type": "execute_result"
    }
   ],
   "source": [
    "ds4[0].shape"
   ]
  },
  {
   "cell_type": "code",
   "execution_count": 13,
   "metadata": {},
   "outputs": [
    {
     "data": {
      "text/plain": [
       "(50,)"
      ]
     },
     "execution_count": 13,
     "metadata": {},
     "output_type": "execute_result"
    }
   ],
   "source": [
    "ds4[1].shape"
   ]
  },
  {
   "cell_type": "code",
   "execution_count": 15,
   "metadata": {},
   "outputs": [
    {
     "data": {
      "text/plain": [
       "<matplotlib.collections.PathCollection at 0x1be1fddf910>"
      ]
     },
     "execution_count": 15,
     "metadata": {},
     "output_type": "execute_result"
    },
    {
     "data": {
      "image/png": "[encoded data removed]",
      "text/plain": [
       "<Figure size 432x288 with 1 Axes>"
      ]
     },
     "metadata": {
      "needs_background": "light"
     },
     "output_type": "display_data"
    }
   ],
   "source": [
    "plt.scatter(ds4[0][:, 0], ds4[0][:, 1], ds4[0][:, 2])"
   ]
  },
  {
   "cell_type": "code",
   "execution_count": 21,
   "metadata": {},
   "outputs": [
    {
     "data": {
      "text/plain": [
       "<matplotlib.collections.PathCollection at 0x1be20067be0>"
      ]
     },
     "execution_count": 21,
     "metadata": {},
     "output_type": "execute_result"
    },
    {
     "data": {
      "image/png": "[encoded data removed]",
      "text/plain": [
       "<Figure size 432x288 with 1 Axes>"
      ]
     },
     "metadata": {
      "needs_background": "light"
     },
     "output_type": "display_data"
    }
   ],
   "source": [
    "plt.scatter(ds4[0][:, 0], ds4[0][:, 1], ds4[0][:, 2])"
   ]
  },
  {
   "cell_type": "code",
   "execution_count": 22,
   "metadata": {},
   "outputs": [],
   "source": [
    "km4 = KMeans(n_clusters = 5)"
   ]
  },
  {
   "cell_type": "code",
   "execution_count": 24,
   "metadata": {},
   "outputs": [
    {
     "data": {
      "text/plain": [
       "KMeans(algorithm='auto', copy_x=True, init='k-means++', max_iter=300,\n",
       "       n_clusters=5, n_init=10, n_jobs=None, precompute_distances='auto',\n",
       "       random_state=None, tol=0.0001, verbose=0)"
      ]
     },
     "execution_count": 24,
     "metadata": {},
     "output_type": "execute_result"
    }
   ],
   "source": [
    "km4.fit(ds4[0])"
   ]
  },
  {
   "cell_type": "code",
   "execution_count": 25,
   "metadata": {},
   "outputs": [
    {
     "data": {
      "text/plain": [
       "array([[ 9.00820191,  6.77572665, 10.04173835],\n",
       "       [-4.34464272,  7.53182414,  8.06410749],\n",
       "       [-9.49513799,  4.14363271,  8.65491037],\n",
       "       [-3.5189508 ,  5.46188447,  9.49848676],\n",
       "       [10.27172052,  6.8669835 ,  7.84979066]])"
      ]
     },
     "execution_count": 25,
     "metadata": {},
     "output_type": "execute_result"
    }
   ],
   "source": [
    "km4.cluster_centers_"
   ]
  },
  {
   "cell_type": "code",
   "execution_count": 27,
   "metadata": {},
   "outputs": [],
   "source": [
    "ds5 = make_blobs(n_samples = 100, n_features = 10)"
   ]
  },
  {
   "cell_type": "code",
   "execution_count": 28,
   "metadata": {},
   "outputs": [
    {
     "data": {
      "text/plain": [
       "(array([[ -8.73174552,   2.77602006,  -2.74392927,  -4.37398479,\n",
       "         -11.50185112,   9.07780219,  -0.28901436,  -5.57065883,\n",
       "           2.60018621,   4.80417432],\n",
       "        [ -9.02591073,   6.67832471,  -9.10071728,  11.06412819,\n",
       "          -5.84156451,  -9.73920837,  -7.26094265,   8.35165983,\n",
       "          -8.87470492,  -3.38523725],\n",
       "        [ -7.94809998,   3.13021077,  -1.41402804,  -4.30597898,\n",
       "          -9.08980751,  10.93349641,  -1.06506769,  -4.51836984,\n",
       "           3.47828261,   3.54752515],\n",
       "        [ -6.37769326,   5.09076095,  -7.55937175,   9.71333925,\n",
       "          -6.26245666,  -9.38931656,  -6.5501624 ,   7.81388358,\n",
       "          -9.81660827,  -5.47985263],\n",
       "        [  7.29266687,   6.8578632 ,   3.0365577 ,  -2.31761256,\n",
       "           4.84190985,   7.88058737,  -2.84792121,  -3.12459134,\n",
       "          -8.69865263,  -3.03437353],\n",
       "        [ -8.51233852,   5.79912727,  -7.28618335,   9.24748863,\n",
       "          -5.69079488,  -8.52295134,  -6.44634349,   8.03450943,\n",
       "          -8.82520762,  -4.46922402],\n",
       "        [ -6.13422997,   5.35530553,  -7.03858627,   8.87547426,\n",
       "          -5.99027656,  -7.55681086,  -6.10006256,  10.08630423,\n",
       "          -9.28388427,  -3.51143832],\n",
       "        [ -9.35258464,   2.27919583,  -2.03021742,  -4.73203427,\n",
       "         -10.93497816,   8.79726669,  -1.0351322 ,  -4.80065401,\n",
       "           4.57731965,   3.40289146],\n",
       "        [ -5.41284594,   6.08420518,  -6.15082488,   8.65056346,\n",
       "          -4.51667025,  -9.55290082,  -4.96467621,   8.54271552,\n",
       "          -9.51570498,  -5.30290871],\n",
       "        [ -6.67793901,   5.20640264,  -8.49708764,  10.36935324,\n",
       "          -4.4403206 ,  -8.59553105,  -6.61405726,   8.21957975,\n",
       "          -9.98883727,  -4.03650972],\n",
       "        [ -8.71703499,   2.8607377 ,  -2.37401083,  -4.33700044,\n",
       "         -10.1676259 ,  10.39802905,   2.40995503,  -5.89616336,\n",
       "           1.77236619,   2.95748351],\n",
       "        [ -8.5451811 ,   1.74820419,  -3.01068315,  -4.70063244,\n",
       "          -9.88651257,   9.82306511,  -1.00139475,  -6.05373594,\n",
       "           3.61147595,   3.60630117],\n",
       "        [  5.0986778 ,   7.78989667,   1.4005259 ,  -2.60224443,\n",
       "           5.52442834,   8.1909925 ,  -2.96296689,  -4.57654689,\n",
       "          -4.0888958 ,  -0.85190834],\n",
       "        [  4.08880957,   8.06323982,   2.09691342,  -3.14111188,\n",
       "           5.86300569,   5.40224893,  -2.01284347,  -3.56259653,\n",
       "          -5.9418672 ,  -3.78376373],\n",
       "        [ -7.23375463,   1.97313229,  -0.1052492 ,  -4.73038628,\n",
       "          -9.89727733,   9.66952136,  -0.7765523 ,  -4.13837478,\n",
       "           3.40698697,   2.51638961],\n",
       "        [  6.12920009,   8.61285471,   2.0079521 ,  -2.92354251,\n",
       "           7.3168563 ,   7.4779152 ,  -2.34062588,  -3.80572548,\n",
       "          -4.58870768,  -1.58388007],\n",
       "        [ -8.28174925,   1.38070906,  -2.54389814,  -3.98735329,\n",
       "         -10.06958807,   8.66325456,  -0.85881268,  -5.85215304,\n",
       "           4.35319748,   3.13890683],\n",
       "        [  4.9722971 ,   7.41350175,   1.26978137,  -1.82597233,\n",
       "           5.77116981,   7.8502688 ,  -3.66511566,  -4.54892191,\n",
       "          -6.23432866,  -3.22741714],\n",
       "        [  5.09674842,   8.50978418,   2.35789247,  -3.5385853 ,\n",
       "           6.66113788,   8.52816467,  -3.42952136,  -1.59380318,\n",
       "          -4.59046006,  -1.94516437],\n",
       "        [ -8.59021953,   3.60656922,  -1.20554119,  -5.79222033,\n",
       "         -10.29980482,  11.15679573,  -1.08535765,  -3.35973805,\n",
       "           3.70682819,   3.22720556],\n",
       "        [ -7.73139304,   1.78477636,  -2.71735804,  -6.34907111,\n",
       "         -10.53888011,  10.99382405,  -1.35529363,  -3.0577594 ,\n",
       "           4.12092164,   2.70305392],\n",
       "        [ -6.04061204,   6.47378912,  -7.88879228,   8.34654387,\n",
       "          -5.06011355,  -9.17713413,  -5.49698096,  10.28817058,\n",
       "         -10.92346943,  -5.26586989],\n",
       "        [ -7.94538809,   2.89737498,  -0.98904823,  -5.80219028,\n",
       "          -9.8672158 ,  11.23567805,  -1.49862326,  -5.41664063,\n",
       "           3.16737384,   2.46396359],\n",
       "        [  7.25745029,   7.92179368,   1.75787542,  -1.99902593,\n",
       "           6.67227306,   5.30069803,  -2.63614679,  -3.12432505,\n",
       "          -4.74057718,  -0.92810422],\n",
       "        [ -6.70705813,   6.80679658,  -6.96359128,   8.95503126,\n",
       "          -5.18570669,  -8.60916503,  -6.2348223 ,   8.49348864,\n",
       "          -8.57420051,  -5.73911905],\n",
       "        [  5.77695707,   7.68165604,   1.27698924,  -2.57486742,\n",
       "           4.38023953,   7.52261611,  -2.62704086,  -5.65796547,\n",
       "          -6.39582269,  -3.42591749],\n",
       "        [  5.15005917,   6.271392  ,   0.99837038,  -2.91057158,\n",
       "           4.15190074,   5.56687227,  -1.32978551,  -3.05064171,\n",
       "          -6.01412388,  -2.94513127],\n",
       "        [ -7.23245967,   2.32537577,  -1.22235182,  -3.49347044,\n",
       "          -9.16997399,   9.65976062,  -1.10883732,  -6.10746394,\n",
       "           1.38306586,   2.96373839],\n",
       "        [ -6.74188722,   6.39356384,  -5.2719821 ,   9.83364736,\n",
       "          -7.29848177,  -9.56870156,  -8.35894087,  10.26367535,\n",
       "          -7.77255335,  -5.7929939 ],\n",
       "        [ -8.65127666,   8.66885954,  -7.05825241,   7.98124171,\n",
       "          -7.01397336,  -8.92620046,  -7.31824739,   8.50429843,\n",
       "          -9.8597885 ,  -5.13368479],\n",
       "        [ -8.09973214,   6.58481807,  -9.77047351,  10.64646376,\n",
       "          -5.15328855,  -9.03263717,  -5.82272303,   8.43624537,\n",
       "         -10.1665101 ,  -4.99769248],\n",
       "        [  6.34586701,   7.55784923,   0.57539807,  -2.22425974,\n",
       "           3.77807799,   9.91778844,  -3.33381407,  -3.90645741,\n",
       "          -5.84365143,  -3.08975617],\n",
       "        [ -6.96061498,   3.39019232,  -2.07519842,  -6.29781667,\n",
       "         -11.22383431,   9.76215396,  -0.38135657,  -5.48077717,\n",
       "           4.46195905,   2.71473366],\n",
       "        [ -7.136836  ,   0.65332347,  -0.7642391 ,  -6.81727595,\n",
       "         -10.79923241,  10.27233033,  -4.05348805,  -5.32292147,\n",
       "           3.39892503,   4.09188822],\n",
       "        [ -7.40816813,   6.93558077,  -8.56578894,   7.65801422,\n",
       "          -4.98544079,  -9.94652509,  -6.35221145,   7.5602029 ,\n",
       "          -9.96245452,  -3.22979291],\n",
       "        [ -6.59993877,   7.79210847,  -6.72228627,   9.10026606,\n",
       "          -5.34601233,  -8.66052506,  -6.81832864,   6.55013251,\n",
       "          -9.88749514,  -4.20328113],\n",
       "        [ -7.63945871,  -0.12283574,  -2.98862474,  -5.31017479,\n",
       "         -11.41385265,   9.41106848,  -1.45036767,  -7.42936103,\n",
       "           2.52321373,   4.78776903],\n",
       "        [  5.67322637,   6.76314938,   1.74618645,  -1.4750833 ,\n",
       "           7.40330042,   5.37812797,  -2.59774222,  -2.96290883,\n",
       "          -8.64667561,  -1.01840919],\n",
       "        [ -6.10511609,   2.8757277 ,  -2.03756179,  -4.61180982,\n",
       "         -10.01453137,   8.87116475,   0.06268391,  -4.37247516,\n",
       "           3.18167618,   3.13456226],\n",
       "        [  7.0303887 ,   7.30131216,   1.79009997,  -3.10607581,\n",
       "           5.03965436,   6.65146576,  -2.04026976,  -3.41438933,\n",
       "          -5.88152856,  -3.6735883 ],\n",
       "        [ -7.39453   ,   2.7055847 ,  -1.97160636,  -6.22678751,\n",
       "         -10.3359248 ,   9.27379653,   0.52261993,  -3.83114584,\n",
       "           3.25568503,   2.97445041],\n",
       "        [ -7.50949035,   7.10082546, -11.36527135,   8.18286807,\n",
       "          -5.93075572,  -9.01291648,  -5.48354234,   8.03553219,\n",
       "         -10.355788  ,  -2.14316533],\n",
       "        [ -6.84228916,   4.22167251,  -6.77471763,   7.60057778,\n",
       "          -7.13796735,  -8.84167829,  -6.78797353,   8.75664563,\n",
       "         -10.14205726,  -5.24300193],\n",
       "        [ -8.72366223,   2.04278697,  -0.19442143,  -6.31054636,\n",
       "          -9.60952597,   9.4385964 ,  -2.6436393 ,  -5.06793263,\n",
       "           2.43483059,   3.33783376],\n",
       "        [  6.12418375,   7.08263174,   1.55080707,  -1.93125077,\n",
       "           7.74975457,   6.50468194,  -4.42048532,  -4.54058501,\n",
       "          -6.84911273,  -1.8673721 ],\n",
       "        [  6.68105097,   7.11915725,   2.45685683,  -2.10609715,\n",
       "           7.9477433 ,   5.51097903,  -2.01376123,  -3.43453579,\n",
       "          -6.51229146,   0.33329927],\n",
       "        [  3.90603241,   9.93940271,   2.6227268 ,  -2.63626494,\n",
       "           6.70056656,   6.71457765,  -3.88126595,  -2.84932225,\n",
       "          -5.10897428,  -0.42997952],\n",
       "        [ -7.19225416,   2.22365572,  -4.02703176,  -5.1791286 ,\n",
       "         -11.5404412 ,  10.53548039,  -0.11753305,  -6.02131013,\n",
       "           4.24865327,   2.70631193],\n",
       "        [  5.21034014,   9.19299211,   1.69553485,  -2.3723087 ,\n",
       "           4.90351461,   6.56918763,  -2.91166361,  -3.01956842,\n",
       "          -8.06076094,  -2.25289422],\n",
       "        [ -8.01932958,   2.56593527,  -3.21566906,  -3.36439967,\n",
       "         -11.53494564,   9.78867304,  -1.02014143,  -3.6429938 ,\n",
       "           1.97269732,   2.68705321],\n",
       "        [ -6.40023885,   6.46667706,  -8.21090867,   8.78253185,\n",
       "          -6.53656083,  -8.7013897 ,  -4.75164133,   8.64145519,\n",
       "          -9.6916429 ,  -3.19351765],\n",
       "        [ -6.90937157,   1.63657922,  -0.56219932,  -6.09813133,\n",
       "         -10.14683586,  10.91032044,  -2.51990354,  -4.8145158 ,\n",
       "           3.48780071,   3.16823615],\n",
       "        [ -7.37391648,   6.46458549,  -7.11989841,   7.13554221,\n",
       "          -5.95486286,  -9.72429957,  -4.32284409,   8.76328554,\n",
       "          -9.76799794,  -5.27292011],\n",
       "        [  5.65378652,   6.81501775,   1.568632  ,  -2.21707704,\n",
       "           5.68605128,   7.10031024,  -4.24766855,  -3.59842604,\n",
       "          -6.01224979,  -2.19937475],\n",
       "        [  4.89361372,   8.52266356,   0.46059166,  -3.06545016,\n",
       "           5.44749338,   7.17975043,  -0.88514198,  -2.35096003,\n",
       "          -5.80076477,  -2.22912437],\n",
       "        [ -7.61356201,   1.42092398,  -2.61603802,  -5.6838919 ,\n",
       "          -8.00383209,  10.11184012,  -2.04745946,  -4.50677938,\n",
       "           3.42670825,   3.76198883],\n",
       "        [ -7.09163703,   4.96844434,  -5.15087838,   8.7879881 ,\n",
       "          -6.14895031,  -9.6366803 ,  -5.71600756,   9.03036673,\n",
       "         -11.14918975,  -5.42321878],\n",
       "        [ -6.10226893,   6.87498262,  -7.83798911,  10.12560498,\n",
       "          -6.85491418,  -9.11700005,  -4.93349147,   7.92103166,\n",
       "          -8.28559903,  -3.83376652],\n",
       "        [ -6.06146302,   5.55999266,  -8.95964559,   9.75471382,\n",
       "          -5.86656615,  -8.9352732 ,  -7.5786419 ,   8.35536657,\n",
       "          -9.57054789,  -5.68070394],\n",
       "        [ -8.9724868 ,   6.42559141,  -7.98250636,   8.53377133,\n",
       "          -6.37098292, -10.20802676,  -6.63482627,   8.56418602,\n",
       "         -10.47435397,  -4.53460616],\n",
       "        [ -7.81291186,   3.04261301,  -3.18978798,  -5.14972767,\n",
       "          -8.52847066,  10.86568873,  -1.48944781,  -5.79053151,\n",
       "           4.01417478,   4.84821807],\n",
       "        [ -7.88777493,   6.35995923,  -6.99438399,   9.98010635,\n",
       "          -6.65591672,  -7.44189358,  -6.74834174,  10.07559186,\n",
       "          -8.78114961,  -5.73167921],\n",
       "        [ -8.33736472,   7.50696407,  -7.59672369,   8.69143704,\n",
       "          -7.05316842, -11.69453994,  -7.31113424,   9.03293584,\n",
       "          -9.63640411,  -4.60989528],\n",
       "        [ -7.06082834,   6.79250815,  -9.05675802,  10.74284688,\n",
       "          -7.37936364,  -9.08304928,  -6.86144699,   8.55534064,\n",
       "          -9.98151707,  -2.59123082],\n",
       "        [  5.28845642,   7.85489535,   2.73221912,  -3.63552884,\n",
       "           6.63366879,   7.10315321,  -3.28544408,  -3.86338279,\n",
       "          -5.58360355,  -1.65845597],\n",
       "        [ -6.08962714,   8.46758232,  -8.35772451,   8.10480423,\n",
       "          -7.16476368,  -8.67997743,  -5.37777177,   8.30061047,\n",
       "          -8.85303007,  -3.95000027],\n",
       "        [  6.60150283,   5.50110861,   2.65149301,  -1.79201394,\n",
       "           4.54446826,   6.59339762,  -4.12401119,  -2.53951323,\n",
       "          -4.43071735,  -2.58487989],\n",
       "        [  7.48777092,   7.82263146,   1.27958746,  -2.48576063,\n",
       "           6.58446511,   7.03058112,  -3.41473158,  -2.81225122,\n",
       "          -7.00043408,  -1.79390948],\n",
       "        [ -6.68653142,   2.25186548,  -1.98550853,  -5.08959684,\n",
       "          -9.58946368,  10.7353378 ,   0.04256208,  -6.06884388,\n",
       "           3.91344414,   1.97570013],\n",
       "        [  5.94545689,   7.91330501,   0.49165038,  -3.39011507,\n",
       "           5.67745684,   6.95115543,  -2.80480778,  -3.64891697,\n",
       "          -5.68906587,  -1.58322079],\n",
       "        [ -8.17759262,   3.35138391,  -3.46591738,  -5.66937068,\n",
       "          -8.91217287,  10.55737834,  -0.21191177,  -5.82843609,\n",
       "           3.76558833,   4.6903159 ],\n",
       "        [  5.32104424,   6.68451621,   2.46518282,  -2.84720999,\n",
       "           4.70465043,   5.82165764,  -3.42015921,  -4.66690741,\n",
       "          -5.34319672,  -2.25087586],\n",
       "        [ -7.73523387,   6.41949822,  -6.52301201,   8.80784138,\n",
       "          -5.715978  ,  -8.46287566,  -7.29616399,   8.30841657,\n",
       "         -10.1018812 ,  -6.18449912],\n",
       "        [ -6.31455726,   1.42917355,  -2.91563861,  -6.0891699 ,\n",
       "         -12.72390301,  10.13119086,   0.37212757,  -4.93448533,\n",
       "           2.15669089,   1.72557917],\n",
       "        [ -7.41710723,   6.25550294,  -6.56837042,  10.82555131,\n",
       "          -5.61306589,  -8.2535274 ,  -5.7650113 ,   7.49232377,\n",
       "         -10.80732708,  -3.8804018 ],\n",
       "        [ -5.99405637,   6.17297095,  -8.57845917,   9.96959407,\n",
       "          -5.15743099,  -9.7424586 ,  -7.301681  ,   9.13960253,\n",
       "          -9.54380868,  -5.45787473],\n",
       "        [  4.55327137,   7.29947251,   1.2577919 ,  -1.88605826,\n",
       "           7.59790633,   6.37486371,  -3.00480682,  -2.19822515,\n",
       "          -5.05932707,  -1.77062241],\n",
       "        [ -6.95643197,   0.34000236,  -1.37649979,  -5.59336436,\n",
       "         -10.43960841,  10.5028322 ,  -0.64405755,  -5.32558908,\n",
       "           3.13123794,   3.73126214],\n",
       "        [  5.62256684,   6.98526881,   3.00851121,  -3.18774342,\n",
       "           4.73193036,   7.1510207 ,  -3.22862966,  -3.49022961,\n",
       "          -4.57498026,  -1.30660206],\n",
       "        [ -8.06348627,   0.91867137,  -2.02720881,  -4.59235873,\n",
       "         -10.24831793,   8.65914524,   0.72671819,  -5.4167912 ,\n",
       "           2.33484004,   5.14676   ],\n",
       "        [ -7.29772501,   6.16664041, -10.06125943,   9.84490559,\n",
       "          -7.53880725,  -9.65968356,  -7.76753372,   9.42183267,\n",
       "          -8.9008138 ,  -4.8848077 ],\n",
       "        [ -9.06892802,   2.55250487,  -1.57916107,  -5.18920923,\n",
       "          -9.71402952,   9.99798864,  -1.09287603,  -6.32016073,\n",
       "           3.77317407,   3.08657301],\n",
       "        [  4.40895137,   7.97135418,   1.36797449,  -3.97910136,\n",
       "           6.65935452,   5.98547106,  -1.05355772,  -4.20540027,\n",
       "          -5.39082802,  -1.29608057],\n",
       "        [ -7.65453233,   8.07499275,  -8.05460873,  10.18188801,\n",
       "          -5.36456106,  -7.92116404,  -7.824864  ,   7.99268181,\n",
       "          -9.47472259,  -4.49184263],\n",
       "        [ -6.94952903,   7.22898358,  -8.7082968 ,  10.46787509,\n",
       "          -5.59492186,  -6.38441615,  -7.21897508,   8.98722889,\n",
       "         -11.3359025 ,  -6.60616163],\n",
       "        [ -7.20789733,   0.53580927,  -1.97818628,  -5.93653696,\n",
       "         -11.7426267 ,   8.77960977,  -1.72310517,  -6.18636919,\n",
       "           2.30670859,   2.59052031],\n",
       "        [ -9.13313069,   2.57786343,  -3.12130164,  -3.77354127,\n",
       "         -10.70163766,   8.75151743,  -1.64898027,  -5.49120301,\n",
       "           4.43513402,   3.50539401],\n",
       "        [  4.199008  ,   8.38279911,   2.77973261,  -4.36547497,\n",
       "           5.86589997,   5.51918749,  -2.61202772,  -3.63441421,\n",
       "          -5.52855898,  -3.3792188 ],\n",
       "        [  4.52681202,   8.54321703,   1.54160991,  -3.55291244,\n",
       "           5.28863691,   4.58790985,  -2.19397882,  -3.5060453 ,\n",
       "          -5.23278099,  -1.94684952],\n",
       "        [ -6.54046962,   5.61488173,  -7.95525915,   8.26381213,\n",
       "          -5.95247253, -10.83506411,  -6.64277293,   9.17404577,\n",
       "          -8.68220735,  -6.16324464],\n",
       "        [  4.83703951,  10.8376211 ,   1.481144  ,  -2.1776401 ,\n",
       "           6.04715823,   7.57014341,  -3.85571782,  -3.72313852,\n",
       "          -5.04465669,  -2.51153021],\n",
       "        [  5.24982152,   7.27817704,   2.4045652 ,  -2.24962074,\n",
       "           6.79437337,   5.53328078,  -2.38409752,  -3.35376744,\n",
       "          -5.796694  ,  -2.01090979],\n",
       "        [  5.78470596,   8.53066478,   1.45691065,  -0.24604381,\n",
       "           3.52246817,   5.35863115,  -1.92614094,  -3.91662367,\n",
       "          -5.60858292,  -3.43310002],\n",
       "        [ -7.873637  ,   0.46005755,  -3.49343011,  -5.2418578 ,\n",
       "          -8.41046225,   9.68474976,  -0.20892724,  -5.14455256,\n",
       "           4.65817605,   4.12250048],\n",
       "        [ -7.86408082,   3.4191811 ,  -4.19321218,  -4.93857368,\n",
       "          -8.47528967,  11.78010551,  -1.47374414,  -4.50774395,\n",
       "           3.40508384,   2.108462  ],\n",
       "        [ -8.06085267,   8.36375543,  -8.77366167,  11.47455415,\n",
       "          -7.10711755, -10.06327627,  -7.03850244,   9.39704806,\n",
       "          -6.89268728,  -4.70361903],\n",
       "        [  3.21731619,   9.21928896,  -0.2084517 ,  -2.8095368 ,\n",
       "           6.77293727,   7.33510505,  -1.80508765,  -3.29808853,\n",
       "          -6.77876091,  -2.57483366],\n",
       "        [ -7.1760357 ,   2.21889138,  -1.38041488,  -4.38605714,\n",
       "          -8.92799946,  11.2648169 ,  -2.36873862,  -5.54201181,\n",
       "           2.49708439,   2.67209803],\n",
       "        [  4.64254542,   8.11859532,   0.40749244,  -4.23968226,\n",
       "           6.46304654,   6.7859969 ,  -2.46244649,  -4.19190408,\n",
       "          -6.92465417,  -3.0259522 ],\n",
       "        [ -7.34992803,   3.57413373,  -3.51829416,  -6.5890799 ,\n",
       "          -9.9160657 ,   9.13092654,  -0.21965008,  -3.86635034,\n",
       "           2.40819836,   3.59907107]]),\n",
       " array([0, 2, 0, 2, 1, 2, 2, 0, 2, 2, 0, 0, 1, 1, 0, 1, 0, 1, 1, 0, 0, 2,\n",
       "        0, 1, 2, 1, 1, 0, 2, 2, 2, 1, 0, 0, 2, 2, 0, 1, 0, 1, 0, 2, 2, 0,\n",
       "        1, 1, 1, 0, 1, 0, 2, 0, 2, 1, 1, 0, 2, 2, 2, 2, 0, 2, 2, 2, 1, 2,\n",
       "        1, 1, 0, 1, 0, 1, 2, 0, 2, 2, 1, 0, 1, 0, 2, 0, 1, 2, 2, 0, 0, 1,\n",
       "        1, 2, 1, 1, 1, 0, 0, 2, 1, 0, 1, 0]))"
      ]
     },
     "execution_count": 28,
     "metadata": {},
     "output_type": "execute_result"
    }
   ],
   "source": [
    "ds5"
   ]
  },
  {
   "cell_type": "code",
   "execution_count": 29,
   "metadata": {},
   "outputs": [
    {
     "data": {
      "text/plain": [
       "array([[ -8.73174552,   2.77602006,  -2.74392927,  -4.37398479,\n",
       "        -11.50185112,   9.07780219,  -0.28901436,  -5.57065883,\n",
       "          2.60018621,   4.80417432],\n",
       "       [ -9.02591073,   6.67832471,  -9.10071728,  11.06412819,\n",
       "         -5.84156451,  -9.73920837,  -7.26094265,   8.35165983,\n",
       "         -8.87470492,  -3.38523725],\n",
       "       [ -7.94809998,   3.13021077,  -1.41402804,  -4.30597898,\n",
       "         -9.08980751,  10.93349641,  -1.06506769,  -4.51836984,\n",
       "          3.47828261,   3.54752515],\n",
       "       [ -6.37769326,   5.09076095,  -7.55937175,   9.71333925,\n",
       "         -6.26245666,  -9.38931656,  -6.5501624 ,   7.81388358,\n",
       "         -9.81660827,  -5.47985263],\n",
       "       [  7.29266687,   6.8578632 ,   3.0365577 ,  -2.31761256,\n",
       "          4.84190985,   7.88058737,  -2.84792121,  -3.12459134,\n",
       "         -8.69865263,  -3.03437353],\n",
       "       [ -8.51233852,   5.79912727,  -7.28618335,   9.24748863,\n",
       "         -5.69079488,  -8.52295134,  -6.44634349,   8.03450943,\n",
       "         -8.82520762,  -4.46922402],\n",
       "       [ -6.13422997,   5.35530553,  -7.03858627,   8.87547426,\n",
       "         -5.99027656,  -7.55681086,  -6.10006256,  10.08630423,\n",
       "         -9.28388427,  -3.51143832],\n",
       "       [ -9.35258464,   2.27919583,  -2.03021742,  -4.73203427,\n",
       "        -10.93497816,   8.79726669,  -1.0351322 ,  -4.80065401,\n",
       "          4.57731965,   3.40289146],\n",
       "       [ -5.41284594,   6.08420518,  -6.15082488,   8.65056346,\n",
       "         -4.51667025,  -9.55290082,  -4.96467621,   8.54271552,\n",
       "         -9.51570498,  -5.30290871],\n",
       "       [ -6.67793901,   5.20640264,  -8.49708764,  10.36935324,\n",
       "         -4.4403206 ,  -8.59553105,  -6.61405726,   8.21957975,\n",
       "         -9.98883727,  -4.03650972],\n",
       "       [ -8.71703499,   2.8607377 ,  -2.37401083,  -4.33700044,\n",
       "        -10.1676259 ,  10.39802905,   2.40995503,  -5.89616336,\n",
       "          1.77236619,   2.95748351],\n",
       "       [ -8.5451811 ,   1.74820419,  -3.01068315,  -4.70063244,\n",
       "         -9.88651257,   9.82306511,  -1.00139475,  -6.05373594,\n",
       "          3.61147595,   3.60630117],\n",
       "       [  5.0986778 ,   7.78989667,   1.4005259 ,  -2.60224443,\n",
       "          5.52442834,   8.1909925 ,  -2.96296689,  -4.57654689,\n",
       "         -4.0888958 ,  -0.85190834],\n",
       "       [  4.08880957,   8.06323982,   2.09691342,  -3.14111188,\n",
       "          5.86300569,   5.40224893,  -2.01284347,  -3.56259653,\n",
       "         -5.9418672 ,  -3.78376373],\n",
       "       [ -7.23375463,   1.97313229,  -0.1052492 ,  -4.73038628,\n",
       "         -9.89727733,   9.66952136,  -0.7765523 ,  -4.13837478,\n",
       "          3.40698697,   2.51638961],\n",
       "       [  6.12920009,   8.61285471,   2.0079521 ,  -2.92354251,\n",
       "          7.3168563 ,   7.4779152 ,  -2.34062588,  -3.80572548,\n",
       "         -4.58870768,  -1.58388007],\n",
       "       [ -8.28174925,   1.38070906,  -2.54389814,  -3.98735329,\n",
       "        -10.06958807,   8.66325456,  -0.85881268,  -5.85215304,\n",
       "          4.35319748,   3.13890683],\n",
       "       [  4.9722971 ,   7.41350175,   1.26978137,  -1.82597233,\n",
       "          5.77116981,   7.8502688 ,  -3.66511566,  -4.54892191,\n",
       "         -6.23432866,  -3.22741714],\n",
       "       [  5.09674842,   8.50978418,   2.35789247,  -3.5385853 ,\n",
       "          6.66113788,   8.52816467,  -3.42952136,  -1.59380318,\n",
       "         -4.59046006,  -1.94516437],\n",
       "       [ -8.59021953,   3.60656922,  -1.20554119,  -5.79222033,\n",
       "        -10.29980482,  11.15679573,  -1.08535765,  -3.35973805,\n",
       "          3.70682819,   3.22720556],\n",
       "       [ -7.73139304,   1.78477636,  -2.71735804,  -6.34907111,\n",
       "        -10.53888011,  10.99382405,  -1.35529363,  -3.0577594 ,\n",
       "          4.12092164,   2.70305392],\n",
       "       [ -6.04061204,   6.47378912,  -7.88879228,   8.34654387,\n",
       "         -5.06011355,  -9.17713413,  -5.49698096,  10.28817058,\n",
       "        -10.92346943,  -5.26586989],\n",
       "       [ -7.94538809,   2.89737498,  -0.98904823,  -5.80219028,\n",
       "         -9.8672158 ,  11.23567805,  -1.49862326,  -5.41664063,\n",
       "          3.16737384,   2.46396359],\n",
       "       [  7.25745029,   7.92179368,   1.75787542,  -1.99902593,\n",
       "          6.67227306,   5.30069803,  -2.63614679,  -3.12432505,\n",
       "         -4.74057718,  -0.92810422],\n",
       "       [ -6.70705813,   6.80679658,  -6.96359128,   8.95503126,\n",
       "         -5.18570669,  -8.60916503,  -6.2348223 ,   8.49348864,\n",
       "         -8.57420051,  -5.73911905],\n",
       "       [  5.77695707,   7.68165604,   1.27698924,  -2.57486742,\n",
       "          4.38023953,   7.52261611,  -2.62704086,  -5.65796547,\n",
       "         -6.39582269,  -3.42591749],\n",
       "       [  5.15005917,   6.271392  ,   0.99837038,  -2.91057158,\n",
       "          4.15190074,   5.56687227,  -1.32978551,  -3.05064171,\n",
       "         -6.01412388,  -2.94513127],\n",
       "       [ -7.23245967,   2.32537577,  -1.22235182,  -3.49347044,\n",
       "         -9.16997399,   9.65976062,  -1.10883732,  -6.10746394,\n",
       "          1.38306586,   2.96373839],\n",
       "       [ -6.74188722,   6.39356384,  -5.2719821 ,   9.83364736,\n",
       "         -7.29848177,  -9.56870156,  -8.35894087,  10.26367535,\n",
       "         -7.77255335,  -5.7929939 ],\n",
       "       [ -8.65127666,   8.66885954,  -7.05825241,   7.98124171,\n",
       "         -7.01397336,  -8.92620046,  -7.31824739,   8.50429843,\n",
       "         -9.8597885 ,  -5.13368479],\n",
       "       [ -8.09973214,   6.58481807,  -9.77047351,  10.64646376,\n",
       "         -5.15328855,  -9.03263717,  -5.82272303,   8.43624537,\n",
       "        -10.1665101 ,  -4.99769248],\n",
       "       [  6.34586701,   7.55784923,   0.57539807,  -2.22425974,\n",
       "          3.77807799,   9.91778844,  -3.33381407,  -3.90645741,\n",
       "         -5.84365143,  -3.08975617],\n",
       "       [ -6.96061498,   3.39019232,  -2.07519842,  -6.29781667,\n",
       "        -11.22383431,   9.76215396,  -0.38135657,  -5.48077717,\n",
       "          4.46195905,   2.71473366],\n",
       "       [ -7.136836  ,   0.65332347,  -0.7642391 ,  -6.81727595,\n",
       "        -10.79923241,  10.27233033,  -4.05348805,  -5.32292147,\n",
       "          3.39892503,   4.09188822],\n",
       "       [ -7.40816813,   6.93558077,  -8.56578894,   7.65801422,\n",
       "         -4.98544079,  -9.94652509,  -6.35221145,   7.5602029 ,\n",
       "         -9.96245452,  -3.22979291],\n",
       "       [ -6.59993877,   7.79210847,  -6.72228627,   9.10026606,\n",
       "         -5.34601233,  -8.66052506,  -6.81832864,   6.55013251,\n",
       "         -9.88749514,  -4.20328113],\n",
       "       [ -7.63945871,  -0.12283574,  -2.98862474,  -5.31017479,\n",
       "        -11.41385265,   9.41106848,  -1.45036767,  -7.42936103,\n",
       "          2.52321373,   4.78776903],\n",
       "       [  5.67322637,   6.76314938,   1.74618645,  -1.4750833 ,\n",
       "          7.40330042,   5.37812797,  -2.59774222,  -2.96290883,\n",
       "         -8.64667561,  -1.01840919],\n",
       "       [ -6.10511609,   2.8757277 ,  -2.03756179,  -4.61180982,\n",
       "        -10.01453137,   8.87116475,   0.06268391,  -4.37247516,\n",
       "          3.18167618,   3.13456226],\n",
       "       [  7.0303887 ,   7.30131216,   1.79009997,  -3.10607581,\n",
       "          5.03965436,   6.65146576,  -2.04026976,  -3.41438933,\n",
       "         -5.88152856,  -3.6735883 ],\n",
       "       [ -7.39453   ,   2.7055847 ,  -1.97160636,  -6.22678751,\n",
       "        -10.3359248 ,   9.27379653,   0.52261993,  -3.83114584,\n",
       "          3.25568503,   2.97445041],\n",
       "       [ -7.50949035,   7.10082546, -11.36527135,   8.18286807,\n",
       "         -5.93075572,  -9.01291648,  -5.48354234,   8.03553219,\n",
       "        -10.355788  ,  -2.14316533],\n",
       "       [ -6.84228916,   4.22167251,  -6.77471763,   7.60057778,\n",
       "         -7.13796735,  -8.84167829,  -6.78797353,   8.75664563,\n",
       "        -10.14205726,  -5.24300193],\n",
       "       [ -8.72366223,   2.04278697,  -0.19442143,  -6.31054636,\n",
       "         -9.60952597,   9.4385964 ,  -2.6436393 ,  -5.06793263,\n",
       "          2.43483059,   3.33783376],\n",
       "       [  6.12418375,   7.08263174,   1.55080707,  -1.93125077,\n",
       "          7.74975457,   6.50468194,  -4.42048532,  -4.54058501,\n",
       "         -6.84911273,  -1.8673721 ],\n",
       "       [  6.68105097,   7.11915725,   2.45685683,  -2.10609715,\n",
       "          7.9477433 ,   5.51097903,  -2.01376123,  -3.43453579,\n",
       "         -6.51229146,   0.33329927],\n",
       "       [  3.90603241,   9.93940271,   2.6227268 ,  -2.63626494,\n",
       "          6.70056656,   6.71457765,  -3.88126595,  -2.84932225,\n",
       "         -5.10897428,  -0.42997952],\n",
       "       [ -7.19225416,   2.22365572,  -4.02703176,  -5.1791286 ,\n",
       "        -11.5404412 ,  10.53548039,  -0.11753305,  -6.02131013,\n",
       "          4.24865327,   2.70631193],\n",
       "       [  5.21034014,   9.19299211,   1.69553485,  -2.3723087 ,\n",
       "          4.90351461,   6.56918763,  -2.91166361,  -3.01956842,\n",
       "         -8.06076094,  -2.25289422],\n",
       "       [ -8.01932958,   2.56593527,  -3.21566906,  -3.36439967,\n",
       "        -11.53494564,   9.78867304,  -1.02014143,  -3.6429938 ,\n",
       "          1.97269732,   2.68705321],\n",
       "       [ -6.40023885,   6.46667706,  -8.21090867,   8.78253185,\n",
       "         -6.53656083,  -8.7013897 ,  -4.75164133,   8.64145519,\n",
       "         -9.6916429 ,  -3.19351765],\n",
       "       [ -6.90937157,   1.63657922,  -0.56219932,  -6.09813133,\n",
       "        -10.14683586,  10.91032044,  -2.51990354,  -4.8145158 ,\n",
       "          3.48780071,   3.16823615],\n",
       "       [ -7.37391648,   6.46458549,  -7.11989841,   7.13554221,\n",
       "         -5.95486286,  -9.72429957,  -4.32284409,   8.76328554,\n",
       "         -9.76799794,  -5.27292011],\n",
       "       [  5.65378652,   6.81501775,   1.568632  ,  -2.21707704,\n",
       "          5.68605128,   7.10031024,  -4.24766855,  -3.59842604,\n",
       "         -6.01224979,  -2.19937475],\n",
       "       [  4.89361372,   8.52266356,   0.46059166,  -3.06545016,\n",
       "          5.44749338,   7.17975043,  -0.88514198,  -2.35096003,\n",
       "         -5.80076477,  -2.22912437],\n",
       "       [ -7.61356201,   1.42092398,  -2.61603802,  -5.6838919 ,\n",
       "         -8.00383209,  10.11184012,  -2.04745946,  -4.50677938,\n",
       "          3.42670825,   3.76198883],\n",
       "       [ -7.09163703,   4.96844434,  -5.15087838,   8.7879881 ,\n",
       "         -6.14895031,  -9.6366803 ,  -5.71600756,   9.03036673,\n",
       "        -11.14918975,  -5.42321878],\n",
       "       [ -6.10226893,   6.87498262,  -7.83798911,  10.12560498,\n",
       "         -6.85491418,  -9.11700005,  -4.93349147,   7.92103166,\n",
       "         -8.28559903,  -3.83376652],\n",
       "       [ -6.06146302,   5.55999266,  -8.95964559,   9.75471382,\n",
       "         -5.86656615,  -8.9352732 ,  -7.5786419 ,   8.35536657,\n",
       "         -9.57054789,  -5.68070394],\n",
       "       [ -8.9724868 ,   6.42559141,  -7.98250636,   8.53377133,\n",
       "         -6.37098292, -10.20802676,  -6.63482627,   8.56418602,\n",
       "        -10.47435397,  -4.53460616],\n",
       "       [ -7.81291186,   3.04261301,  -3.18978798,  -5.14972767,\n",
       "         -8.52847066,  10.86568873,  -1.48944781,  -5.79053151,\n",
       "          4.01417478,   4.84821807],\n",
       "       [ -7.88777493,   6.35995923,  -6.99438399,   9.98010635,\n",
       "         -6.65591672,  -7.44189358,  -6.74834174,  10.07559186,\n",
       "         -8.78114961,  -5.73167921],\n",
       "       [ -8.33736472,   7.50696407,  -7.59672369,   8.69143704,\n",
       "         -7.05316842, -11.69453994,  -7.31113424,   9.03293584,\n",
       "         -9.63640411,  -4.60989528],\n",
       "       [ -7.06082834,   6.79250815,  -9.05675802,  10.74284688,\n",
       "         -7.37936364,  -9.08304928,  -6.86144699,   8.55534064,\n",
       "         -9.98151707,  -2.59123082],\n",
       "       [  5.28845642,   7.85489535,   2.73221912,  -3.63552884,\n",
       "          6.63366879,   7.10315321,  -3.28544408,  -3.86338279,\n",
       "         -5.58360355,  -1.65845597],\n",
       "       [ -6.08962714,   8.46758232,  -8.35772451,   8.10480423,\n",
       "         -7.16476368,  -8.67997743,  -5.37777177,   8.30061047,\n",
       "         -8.85303007,  -3.95000027],\n",
       "       [  6.60150283,   5.50110861,   2.65149301,  -1.79201394,\n",
       "          4.54446826,   6.59339762,  -4.12401119,  -2.53951323,\n",
       "         -4.43071735,  -2.58487989],\n",
       "       [  7.48777092,   7.82263146,   1.27958746,  -2.48576063,\n",
       "          6.58446511,   7.03058112,  -3.41473158,  -2.81225122,\n",
       "         -7.00043408,  -1.79390948],\n",
       "       [ -6.68653142,   2.25186548,  -1.98550853,  -5.08959684,\n",
       "         -9.58946368,  10.7353378 ,   0.04256208,  -6.06884388,\n",
       "          3.91344414,   1.97570013],\n",
       "       [  5.94545689,   7.91330501,   0.49165038,  -3.39011507,\n",
       "          5.67745684,   6.95115543,  -2.80480778,  -3.64891697,\n",
       "         -5.68906587,  -1.58322079],\n",
       "       [ -8.17759262,   3.35138391,  -3.46591738,  -5.66937068,\n",
       "         -8.91217287,  10.55737834,  -0.21191177,  -5.82843609,\n",
       "          3.76558833,   4.6903159 ],\n",
       "       [  5.32104424,   6.68451621,   2.46518282,  -2.84720999,\n",
       "          4.70465043,   5.82165764,  -3.42015921,  -4.66690741,\n",
       "         -5.34319672,  -2.25087586],\n",
       "       [ -7.73523387,   6.41949822,  -6.52301201,   8.80784138,\n",
       "         -5.715978  ,  -8.46287566,  -7.29616399,   8.30841657,\n",
       "        -10.1018812 ,  -6.18449912],\n",
       "       [ -6.31455726,   1.42917355,  -2.91563861,  -6.0891699 ,\n",
       "        -12.72390301,  10.13119086,   0.37212757,  -4.93448533,\n",
       "          2.15669089,   1.72557917],\n",
       "       [ -7.41710723,   6.25550294,  -6.56837042,  10.82555131,\n",
       "         -5.61306589,  -8.2535274 ,  -5.7650113 ,   7.49232377,\n",
       "        -10.80732708,  -3.8804018 ],\n",
       "       [ -5.99405637,   6.17297095,  -8.57845917,   9.96959407,\n",
       "         -5.15743099,  -9.7424586 ,  -7.301681  ,   9.13960253,\n",
       "         -9.54380868,  -5.45787473],\n",
       "       [  4.55327137,   7.29947251,   1.2577919 ,  -1.88605826,\n",
       "          7.59790633,   6.37486371,  -3.00480682,  -2.19822515,\n",
       "         -5.05932707,  -1.77062241],\n",
       "       [ -6.95643197,   0.34000236,  -1.37649979,  -5.59336436,\n",
       "        -10.43960841,  10.5028322 ,  -0.64405755,  -5.32558908,\n",
       "          3.13123794,   3.73126214],\n",
       "       [  5.62256684,   6.98526881,   3.00851121,  -3.18774342,\n",
       "          4.73193036,   7.1510207 ,  -3.22862966,  -3.49022961,\n",
       "         -4.57498026,  -1.30660206],\n",
       "       [ -8.06348627,   0.91867137,  -2.02720881,  -4.59235873,\n",
       "        -10.24831793,   8.65914524,   0.72671819,  -5.4167912 ,\n",
       "          2.33484004,   5.14676   ],\n",
       "       [ -7.29772501,   6.16664041, -10.06125943,   9.84490559,\n",
       "         -7.53880725,  -9.65968356,  -7.76753372,   9.42183267,\n",
       "         -8.9008138 ,  -4.8848077 ],\n",
       "       [ -9.06892802,   2.55250487,  -1.57916107,  -5.18920923,\n",
       "         -9.71402952,   9.99798864,  -1.09287603,  -6.32016073,\n",
       "          3.77317407,   3.08657301],\n",
       "       [  4.40895137,   7.97135418,   1.36797449,  -3.97910136,\n",
       "          6.65935452,   5.98547106,  -1.05355772,  -4.20540027,\n",
       "         -5.39082802,  -1.29608057],\n",
       "       [ -7.65453233,   8.07499275,  -8.05460873,  10.18188801,\n",
       "         -5.36456106,  -7.92116404,  -7.824864  ,   7.99268181,\n",
       "         -9.47472259,  -4.49184263],\n",
       "       [ -6.94952903,   7.22898358,  -8.7082968 ,  10.46787509,\n",
       "         -5.59492186,  -6.38441615,  -7.21897508,   8.98722889,\n",
       "        -11.3359025 ,  -6.60616163],\n",
       "       [ -7.20789733,   0.53580927,  -1.97818628,  -5.93653696,\n",
       "        -11.7426267 ,   8.77960977,  -1.72310517,  -6.18636919,\n",
       "          2.30670859,   2.59052031],\n",
       "       [ -9.13313069,   2.57786343,  -3.12130164,  -3.77354127,\n",
       "        -10.70163766,   8.75151743,  -1.64898027,  -5.49120301,\n",
       "          4.43513402,   3.50539401],\n",
       "       [  4.199008  ,   8.38279911,   2.77973261,  -4.36547497,\n",
       "          5.86589997,   5.51918749,  -2.61202772,  -3.63441421,\n",
       "         -5.52855898,  -3.3792188 ],\n",
       "       [  4.52681202,   8.54321703,   1.54160991,  -3.55291244,\n",
       "          5.28863691,   4.58790985,  -2.19397882,  -3.5060453 ,\n",
       "         -5.23278099,  -1.94684952],\n",
       "       [ -6.54046962,   5.61488173,  -7.95525915,   8.26381213,\n",
       "         -5.95247253, -10.83506411,  -6.64277293,   9.17404577,\n",
       "         -8.68220735,  -6.16324464],\n",
       "       [  4.83703951,  10.8376211 ,   1.481144  ,  -2.1776401 ,\n",
       "          6.04715823,   7.57014341,  -3.85571782,  -3.72313852,\n",
       "         -5.04465669,  -2.51153021],\n",
       "       [  5.24982152,   7.27817704,   2.4045652 ,  -2.24962074,\n",
       "          6.79437337,   5.53328078,  -2.38409752,  -3.35376744,\n",
       "         -5.796694  ,  -2.01090979],\n",
       "       [  5.78470596,   8.53066478,   1.45691065,  -0.24604381,\n",
       "          3.52246817,   5.35863115,  -1.92614094,  -3.91662367,\n",
       "         -5.60858292,  -3.43310002],\n",
       "       [ -7.873637  ,   0.46005755,  -3.49343011,  -5.2418578 ,\n",
       "         -8.41046225,   9.68474976,  -0.20892724,  -5.14455256,\n",
       "          4.65817605,   4.12250048],\n",
       "       [ -7.86408082,   3.4191811 ,  -4.19321218,  -4.93857368,\n",
       "         -8.47528967,  11.78010551,  -1.47374414,  -4.50774395,\n",
       "          3.40508384,   2.108462  ],\n",
       "       [ -8.06085267,   8.36375543,  -8.77366167,  11.47455415,\n",
       "         -7.10711755, -10.06327627,  -7.03850244,   9.39704806,\n",
       "         -6.89268728,  -4.70361903],\n",
       "       [  3.21731619,   9.21928896,  -0.2084517 ,  -2.8095368 ,\n",
       "          6.77293727,   7.33510505,  -1.80508765,  -3.29808853,\n",
       "         -6.77876091,  -2.57483366],\n",
       "       [ -7.1760357 ,   2.21889138,  -1.38041488,  -4.38605714,\n",
       "         -8.92799946,  11.2648169 ,  -2.36873862,  -5.54201181,\n",
       "          2.49708439,   2.67209803],\n",
       "       [  4.64254542,   8.11859532,   0.40749244,  -4.23968226,\n",
       "          6.46304654,   6.7859969 ,  -2.46244649,  -4.19190408,\n",
       "         -6.92465417,  -3.0259522 ],\n",
       "       [ -7.34992803,   3.57413373,  -3.51829416,  -6.5890799 ,\n",
       "         -9.9160657 ,   9.13092654,  -0.21965008,  -3.86635034,\n",
       "          2.40819836,   3.59907107]])"
      ]
     },
     "execution_count": 29,
     "metadata": {},
     "output_type": "execute_result"
    }
   ],
   "source": [
    "ds5[0]"
   ]
  },
  {
   "cell_type": "code",
   "execution_count": 30,
   "metadata": {},
   "outputs": [
    {
     "data": {
      "text/plain": [
       "array([0, 2, 0, 2, 1, 2, 2, 0, 2, 2, 0, 0, 1, 1, 0, 1, 0, 1, 1, 0, 0, 2,\n",
       "       0, 1, 2, 1, 1, 0, 2, 2, 2, 1, 0, 0, 2, 2, 0, 1, 0, 1, 0, 2, 2, 0,\n",
       "       1, 1, 1, 0, 1, 0, 2, 0, 2, 1, 1, 0, 2, 2, 2, 2, 0, 2, 2, 2, 1, 2,\n",
       "       1, 1, 0, 1, 0, 1, 2, 0, 2, 2, 1, 0, 1, 0, 2, 0, 1, 2, 2, 0, 0, 1,\n",
       "       1, 2, 1, 1, 1, 0, 0, 2, 1, 0, 1, 0])"
      ]
     },
     "execution_count": 30,
     "metadata": {},
     "output_type": "execute_result"
    }
   ],
   "source": [
    "ds5[1]"
   ]
  },
  {
   "cell_type": "code",
   "execution_count": 31,
   "metadata": {},
   "outputs": [
    {
     "data": {
      "text/plain": [
       "(100,)"
      ]
     },
     "execution_count": 31,
     "metadata": {},
     "output_type": "execute_result"
    }
   ],
   "source": [
    "ds5[1].shape"
   ]
  },
  {
   "cell_type": "code",
   "execution_count": 32,
   "metadata": {},
   "outputs": [
    {
     "data": {
      "text/plain": [
       "(100, 10)"
      ]
     },
     "execution_count": 32,
     "metadata": {},
     "output_type": "execute_result"
    }
   ],
   "source": [
    "ds5[0].shape"
   ]
  },
  {
   "cell_type": "code",
   "execution_count": 39,
   "metadata": {},
   "outputs": [
    {
     "data": {
      "text/plain": [
       "<matplotlib.collections.PathCollection at 0x1be204ebe80>"
      ]
     },
     "execution_count": 39,
     "metadata": {},
     "output_type": "execute_result"
    },
    {
     "data": {
      "image/png": "[encoded data removed]",
      "text/plain": [
       "<Figure size 432x288 with 1 Axes>"
      ]
     },
     "metadata": {
      "needs_background": "light"
     },
     "output_type": "display_data"
    }
   ],
   "source": [
    "plt.scatter(ds5[0][:, 0], ds5[0][:, 1], ds5[0][:, 2])"
   ]
  },
  {
   "cell_type": "code",
   "execution_count": 40,
   "metadata": {},
   "outputs": [
    {
     "ename": "AttributeError",
     "evalue": "'KMeans' object has no attribute 'cluster_centers_'",
     "output_type": "error",
     "traceback": [
      "\u001b[1;31m---------------------------------------------------------------------------\u001b[0m",
      "\u001b[1;31mAttributeError\u001b[0m                            Traceback (most recent call last)",
      "\u001b[1;32m<ipython-input-40-4d1207cb1379>\u001b[0m in \u001b[0;36m<module>\u001b[1;34m\u001b[0m\n\u001b[0;32m      1\u001b[0m \u001b[0mkm5\u001b[0m \u001b[1;33m=\u001b[0m \u001b[0mKMeans\u001b[0m\u001b[1;33m(\u001b[0m\u001b[0mn_clusters\u001b[0m\u001b[1;33m=\u001b[0m\u001b[1;36m5\u001b[0m\u001b[1;33m)\u001b[0m\u001b[1;33m\u001b[0m\u001b[1;33m\u001b[0m\u001b[0m\n\u001b[1;32m----> 2\u001b[1;33m \u001b[0mkm5\u001b[0m\u001b[1;33m.\u001b[0m\u001b[0mcluster_centers_\u001b[0m\u001b[1;33m\u001b[0m\u001b[1;33m\u001b[0m\u001b[0m\n\u001b[0m",
      "\u001b[1;31mAttributeError\u001b[0m: 'KMeans' object has no attribute 'cluster_centers_'"
     ]
    }
   ],
   "source": [
    "km5 = KMeans(n_clusters=5)\n",
    "km5.cluster_centers_"
   ]
  },
  {
   "cell_type": "code",
   "execution_count": 41,
   "metadata": {},
   "outputs": [
    {
     "data": {
      "text/plain": [
       "KMeans(algorithm='auto', copy_x=True, init='k-means++', max_iter=300,\n",
       "       n_clusters=5, n_init=10, n_jobs=None, precompute_distances='auto',\n",
       "       random_state=None, tol=0.0001, verbose=0)"
      ]
     },
     "execution_count": 41,
     "metadata": {},
     "output_type": "execute_result"
    }
   ],
   "source": [
    "km5.fit(ds5[0])"
   ]
  },
  {
   "cell_type": "code",
   "execution_count": 43,
   "metadata": {},
   "outputs": [
    {
     "data": {
      "text/plain": [
       "array([[ -6.65937974,   5.94769399,  -7.17584664,   9.00951003,\n",
       "         -5.89991815,  -8.92391123,  -6.48793647,   9.0719192 ,\n",
       "         -9.66407753,  -5.52369911],\n",
       "       [ -7.75557338,   2.14195091,  -2.20686667,  -5.19831557,\n",
       "        -10.12872115,   9.98897665,  -0.91919844,  -5.16720567,\n",
       "          3.27557909,   3.30879163],\n",
       "       [  5.73404942,   7.49873488,   2.07930036,  -2.4695692 ,\n",
       "          6.4533484 ,   6.64465013,  -3.21200402,  -3.33815346,\n",
       "         -5.5579311 ,  -1.4916968 ],\n",
       "       [ -7.54876813,   7.008958  ,  -8.38147619,   9.5309844 ,\n",
       "         -6.1880809 ,  -9.2121183 ,  -6.4657011 ,   8.27842258,\n",
       "         -9.49549355,  -4.01512641],\n",
       "       [  5.19546087,   8.13995973,   1.32460585,  -2.84110218,\n",
       "          5.32199555,   6.74319918,  -2.37455065,  -3.69180139,\n",
       "         -6.18055231,  -2.78898541]])"
      ]
     },
     "execution_count": 43,
     "metadata": {},
     "output_type": "execute_result"
    }
   ],
   "source": [
    "km5.cluster_centers_"
   ]
  },
  {
   "cell_type": "code",
   "execution_count": 44,
   "metadata": {},
   "outputs": [],
   "source": [
    "y_km5 = km5.fit_predict(ds5[0])"
   ]
  },
  {
   "cell_type": "code",
   "execution_count": 45,
   "metadata": {},
   "outputs": [
    {
     "data": {
      "text/plain": [
       "array([2, 4, 2, 1, 0, 1, 1, 2, 1, 4, 2, 2, 3, 3, 2, 3, 2, 0, 3, 2, 2, 1,\n",
       "       2, 3, 1, 0, 0, 2, 1, 1, 4, 0, 2, 2, 4, 4, 2, 0, 2, 0, 2, 4, 1, 2,\n",
       "       0, 3, 3, 2, 0, 2, 4, 2, 1, 0, 3, 2, 1, 4, 4, 1, 2, 1, 1, 4, 3, 4,\n",
       "       0, 0, 2, 3, 2, 0, 1, 2, 4, 4, 3, 2, 3, 2, 4, 2, 3, 4, 4, 2, 2, 3,\n",
       "       3, 1, 3, 3, 0, 2, 2, 4, 3, 2, 3, 2])"
      ]
     },
     "execution_count": 45,
     "metadata": {},
     "output_type": "execute_result"
    }
   ],
   "source": [
    "y_km5"
   ]
  },
  {
   "cell_type": "code",
   "execution_count": 47,
   "metadata": {},
   "outputs": [
    {
     "data": {
      "text/plain": [
       "(100,)"
      ]
     },
     "execution_count": 47,
     "metadata": {},
     "output_type": "execute_result"
    }
   ],
   "source": [
    "y_km5.shape"
   ]
  },
  {
   "cell_type": "code",
   "execution_count": 49,
   "metadata": {},
   "outputs": [
    {
     "ename": "ValueError",
     "evalue": "x and y must be the same size",
     "output_type": "error",
     "traceback": [
      "\u001b[1;31m---------------------------------------------------------------------------\u001b[0m",
      "\u001b[1;31mValueError\u001b[0m                                Traceback (most recent call last)",
      "\u001b[1;32m<ipython-input-49-9f8c22bb3eec>\u001b[0m in \u001b[0;36m<module>\u001b[1;34m\u001b[0m\n\u001b[0;32m      1\u001b[0m \u001b[0mplt\u001b[0m\u001b[1;33m.\u001b[0m\u001b[0mscatter\u001b[0m\u001b[1;33m(\u001b[0m\u001b[0mds5\u001b[0m\u001b[1;33m[\u001b[0m\u001b[1;36m0\u001b[0m\u001b[1;33m]\u001b[0m\u001b[1;33m[\u001b[0m\u001b[0my_km5\u001b[0m \u001b[1;33m==\u001b[0m \u001b[1;36m0\u001b[0m\u001b[1;33m,\u001b[0m\u001b[1;36m0\u001b[0m\u001b[1;33m]\u001b[0m\u001b[1;33m,\u001b[0m \u001b[0mds5\u001b[0m\u001b[1;33m[\u001b[0m\u001b[1;36m0\u001b[0m\u001b[1;33m]\u001b[0m\u001b[1;33m[\u001b[0m\u001b[0my_km5\u001b[0m \u001b[1;33m==\u001b[0m \u001b[1;36m0\u001b[0m\u001b[1;33m,\u001b[0m\u001b[1;36m1\u001b[0m\u001b[1;33m]\u001b[0m\u001b[1;33m,\u001b[0m \u001b[0mcolor\u001b[0m\u001b[1;33m=\u001b[0m\u001b[1;34m'red'\u001b[0m\u001b[1;33m)\u001b[0m\u001b[1;33m\u001b[0m\u001b[1;33m\u001b[0m\u001b[0m\n\u001b[1;32m----> 2\u001b[1;33m \u001b[0mplt\u001b[0m\u001b[1;33m.\u001b[0m\u001b[0mscatter\u001b[0m\u001b[1;33m(\u001b[0m\u001b[0mds5\u001b[0m\u001b[1;33m[\u001b[0m\u001b[1;36m0\u001b[0m\u001b[1;33m]\u001b[0m\u001b[1;33m[\u001b[0m\u001b[0my_km5\u001b[0m \u001b[1;33m==\u001b[0m \u001b[1;36m1\u001b[0m\u001b[1;33m,\u001b[0m\u001b[1;36m0\u001b[0m\u001b[1;33m]\u001b[0m\u001b[1;33m,\u001b[0m \u001b[0mds5\u001b[0m\u001b[1;33m[\u001b[0m\u001b[1;36m0\u001b[0m\u001b[1;33m]\u001b[0m\u001b[1;33m[\u001b[0m\u001b[0my_km5\u001b[0m \u001b[1;33m==\u001b[0m \u001b[1;36m0\u001b[0m\u001b[1;33m,\u001b[0m\u001b[1;36m1\u001b[0m\u001b[1;33m]\u001b[0m\u001b[1;33m,\u001b[0m \u001b[0mcolor\u001b[0m\u001b[1;33m=\u001b[0m\u001b[1;34m'grey'\u001b[0m\u001b[1;33m)\u001b[0m\u001b[1;33m\u001b[0m\u001b[1;33m\u001b[0m\u001b[0m\n\u001b[0m",
      "\u001b[1;32mc:\\users\\dell\\appdata\\local\\programs\\python\\python38\\lib\\site-packages\\matplotlib\\pyplot.py\u001b[0m in \u001b[0;36mscatter\u001b[1;34m(x, y, s, c, marker, cmap, norm, vmin, vmax, alpha, linewidths, verts, edgecolors, plotnonfinite, data, **kwargs)\u001b[0m\n\u001b[0;32m   2809\u001b[0m         \u001b[0mverts\u001b[0m\u001b[1;33m=\u001b[0m\u001b[0mcbook\u001b[0m\u001b[1;33m.\u001b[0m\u001b[0mdeprecation\u001b[0m\u001b[1;33m.\u001b[0m\u001b[0m_deprecated_parameter\u001b[0m\u001b[1;33m,\u001b[0m\u001b[1;33m\u001b[0m\u001b[1;33m\u001b[0m\u001b[0m\n\u001b[0;32m   2810\u001b[0m         edgecolors=None, *, plotnonfinite=False, data=None, **kwargs):\n\u001b[1;32m-> 2811\u001b[1;33m     __ret = gca().scatter(\n\u001b[0m\u001b[0;32m   2812\u001b[0m         \u001b[0mx\u001b[0m\u001b[1;33m,\u001b[0m \u001b[0my\u001b[0m\u001b[1;33m,\u001b[0m \u001b[0ms\u001b[0m\u001b[1;33m=\u001b[0m\u001b[0ms\u001b[0m\u001b[1;33m,\u001b[0m \u001b[0mc\u001b[0m\u001b[1;33m=\u001b[0m\u001b[0mc\u001b[0m\u001b[1;33m,\u001b[0m \u001b[0mmarker\u001b[0m\u001b[1;33m=\u001b[0m\u001b[0mmarker\u001b[0m\u001b[1;33m,\u001b[0m \u001b[0mcmap\u001b[0m\u001b[1;33m=\u001b[0m\u001b[0mcmap\u001b[0m\u001b[1;33m,\u001b[0m \u001b[0mnorm\u001b[0m\u001b[1;33m=\u001b[0m\u001b[0mnorm\u001b[0m\u001b[1;33m,\u001b[0m\u001b[1;33m\u001b[0m\u001b[1;33m\u001b[0m\u001b[0m\n\u001b[0;32m   2813\u001b[0m         \u001b[0mvmin\u001b[0m\u001b[1;33m=\u001b[0m\u001b[0mvmin\u001b[0m\u001b[1;33m,\u001b[0m \u001b[0mvmax\u001b[0m\u001b[1;33m=\u001b[0m\u001b[0mvmax\u001b[0m\u001b[1;33m,\u001b[0m \u001b[0malpha\u001b[0m\u001b[1;33m=\u001b[0m\u001b[0malpha\u001b[0m\u001b[1;33m,\u001b[0m \u001b[0mlinewidths\u001b[0m\u001b[1;33m=\u001b[0m\u001b[0mlinewidths\u001b[0m\u001b[1;33m,\u001b[0m\u001b[1;33m\u001b[0m\u001b[1;33m\u001b[0m\u001b[0m\n",
      "\u001b[1;32mc:\\users\\dell\\appdata\\local\\programs\\python\\python38\\lib\\site-packages\\matplotlib\\__init__.py\u001b[0m in \u001b[0;36minner\u001b[1;34m(ax, data, *args, **kwargs)\u001b[0m\n\u001b[0;32m   1563\u001b[0m     \u001b[1;32mdef\u001b[0m \u001b[0minner\u001b[0m\u001b[1;33m(\u001b[0m\u001b[0max\u001b[0m\u001b[1;33m,\u001b[0m \u001b[1;33m*\u001b[0m\u001b[0margs\u001b[0m\u001b[1;33m,\u001b[0m \u001b[0mdata\u001b[0m\u001b[1;33m=\u001b[0m\u001b[1;32mNone\u001b[0m\u001b[1;33m,\u001b[0m \u001b[1;33m**\u001b[0m\u001b[0mkwargs\u001b[0m\u001b[1;33m)\u001b[0m\u001b[1;33m:\u001b[0m\u001b[1;33m\u001b[0m\u001b[1;33m\u001b[0m\u001b[0m\n\u001b[0;32m   1564\u001b[0m         \u001b[1;32mif\u001b[0m \u001b[0mdata\u001b[0m \u001b[1;32mis\u001b[0m \u001b[1;32mNone\u001b[0m\u001b[1;33m:\u001b[0m\u001b[1;33m\u001b[0m\u001b[1;33m\u001b[0m\u001b[0m\n\u001b[1;32m-> 1565\u001b[1;33m             \u001b[1;32mreturn\u001b[0m \u001b[0mfunc\u001b[0m\u001b[1;33m(\u001b[0m\u001b[0max\u001b[0m\u001b[1;33m,\u001b[0m \u001b[1;33m*\u001b[0m\u001b[0mmap\u001b[0m\u001b[1;33m(\u001b[0m\u001b[0msanitize_sequence\u001b[0m\u001b[1;33m,\u001b[0m \u001b[0margs\u001b[0m\u001b[1;33m)\u001b[0m\u001b[1;33m,\u001b[0m \u001b[1;33m**\u001b[0m\u001b[0mkwargs\u001b[0m\u001b[1;33m)\u001b[0m\u001b[1;33m\u001b[0m\u001b[1;33m\u001b[0m\u001b[0m\n\u001b[0m\u001b[0;32m   1566\u001b[0m \u001b[1;33m\u001b[0m\u001b[0m\n\u001b[0;32m   1567\u001b[0m         \u001b[0mbound\u001b[0m \u001b[1;33m=\u001b[0m \u001b[0mnew_sig\u001b[0m\u001b[1;33m.\u001b[0m\u001b[0mbind\u001b[0m\u001b[1;33m(\u001b[0m\u001b[0max\u001b[0m\u001b[1;33m,\u001b[0m \u001b[1;33m*\u001b[0m\u001b[0margs\u001b[0m\u001b[1;33m,\u001b[0m \u001b[1;33m**\u001b[0m\u001b[0mkwargs\u001b[0m\u001b[1;33m)\u001b[0m\u001b[1;33m\u001b[0m\u001b[1;33m\u001b[0m\u001b[0m\n",
      "\u001b[1;32mc:\\users\\dell\\appdata\\local\\programs\\python\\python38\\lib\\site-packages\\matplotlib\\cbook\\deprecation.py\u001b[0m in \u001b[0;36mwrapper\u001b[1;34m(*args, **kwargs)\u001b[0m\n\u001b[0;32m    356\u001b[0m                 \u001b[1;34mf\"%(removal)s.  If any parameter follows {name!r}, they \"\u001b[0m\u001b[1;33m\u001b[0m\u001b[1;33m\u001b[0m\u001b[0m\n\u001b[0;32m    357\u001b[0m                 f\"should be pass as keyword, not positionally.\")\n\u001b[1;32m--> 358\u001b[1;33m         \u001b[1;32mreturn\u001b[0m \u001b[0mfunc\u001b[0m\u001b[1;33m(\u001b[0m\u001b[1;33m*\u001b[0m\u001b[0margs\u001b[0m\u001b[1;33m,\u001b[0m \u001b[1;33m**\u001b[0m\u001b[0mkwargs\u001b[0m\u001b[1;33m)\u001b[0m\u001b[1;33m\u001b[0m\u001b[1;33m\u001b[0m\u001b[0m\n\u001b[0m\u001b[0;32m    359\u001b[0m \u001b[1;33m\u001b[0m\u001b[0m\n\u001b[0;32m    360\u001b[0m     \u001b[1;32mreturn\u001b[0m \u001b[0mwrapper\u001b[0m\u001b[1;33m\u001b[0m\u001b[1;33m\u001b[0m\u001b[0m\n",
      "\u001b[1;32mc:\\users\\dell\\appdata\\local\\programs\\python\\python38\\lib\\site-packages\\matplotlib\\axes\\_axes.py\u001b[0m in \u001b[0;36mscatter\u001b[1;34m(self, x, y, s, c, marker, cmap, norm, vmin, vmax, alpha, linewidths, verts, edgecolors, plotnonfinite, **kwargs)\u001b[0m\n\u001b[0;32m   4378\u001b[0m         \u001b[0my\u001b[0m \u001b[1;33m=\u001b[0m \u001b[0mnp\u001b[0m\u001b[1;33m.\u001b[0m\u001b[0mma\u001b[0m\u001b[1;33m.\u001b[0m\u001b[0mravel\u001b[0m\u001b[1;33m(\u001b[0m\u001b[0my\u001b[0m\u001b[1;33m)\u001b[0m\u001b[1;33m\u001b[0m\u001b[1;33m\u001b[0m\u001b[0m\n\u001b[0;32m   4379\u001b[0m         \u001b[1;32mif\u001b[0m \u001b[0mx\u001b[0m\u001b[1;33m.\u001b[0m\u001b[0msize\u001b[0m \u001b[1;33m!=\u001b[0m \u001b[0my\u001b[0m\u001b[1;33m.\u001b[0m\u001b[0msize\u001b[0m\u001b[1;33m:\u001b[0m\u001b[1;33m\u001b[0m\u001b[1;33m\u001b[0m\u001b[0m\n\u001b[1;32m-> 4380\u001b[1;33m             \u001b[1;32mraise\u001b[0m \u001b[0mValueError\u001b[0m\u001b[1;33m(\u001b[0m\u001b[1;34m\"x and y must be the same size\"\u001b[0m\u001b[1;33m)\u001b[0m\u001b[1;33m\u001b[0m\u001b[1;33m\u001b[0m\u001b[0m\n\u001b[0m\u001b[0;32m   4381\u001b[0m \u001b[1;33m\u001b[0m\u001b[0m\n\u001b[0;32m   4382\u001b[0m         \u001b[1;32mif\u001b[0m \u001b[0ms\u001b[0m \u001b[1;32mis\u001b[0m \u001b[1;32mNone\u001b[0m\u001b[1;33m:\u001b[0m\u001b[1;33m\u001b[0m\u001b[1;33m\u001b[0m\u001b[0m\n",
      "\u001b[1;31mValueError\u001b[0m: x and y must be the same size"
     ]
    },
    {
     "data": {
      "image/png": "[encoded data removed]",
      "text/plain": [
       "<Figure size 432x288 with 1 Axes>"
      ]
     },
     "metadata": {
      "needs_background": "light"
     },
     "output_type": "display_data"
    }
   ],
   "source": [
    "plt.scatter(ds5[0][y_km5 == 0,0], ds5[0][y_km5 == 0,1], color='red')\n",
    "plt.scatter(ds5[0][y_km5 == 1,0], ds5[0][y_km5 == 0,1], color='grey')"
   ]
  },
  {
   "cell_type": "code",
   "execution_count": null,
   "metadata": {},
   "outputs": [],
   "source": []
  }
 ],
 "metadata": {
  "kernelspec": {
   "display_name": "Python 3",
   "language": "python",
   "name": "python3"
  },
  "language_info": {
   "codemirror_mode": {
    "name": "ipython",
    "version": 3
   },
   "file_extension": ".py",
   "mimetype": "text/x-python",
   "name": "python",
   "nbconvert_exporter": "python",
   "pygments_lexer": "ipython3",
   "version": "3.8.1"
  }
 },
 "nbformat": 4,
 "nbformat_minor": 4
}
