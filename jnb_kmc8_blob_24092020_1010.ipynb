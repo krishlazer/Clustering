{
 "cells": [
  {
   "cell_type": "code",
   "execution_count": 43,
   "metadata": {},
   "outputs": [],
   "source": [
    "import pandas as pd\n",
    "import numpy as np\n",
    "import matplotlib.pyplot as plt\n",
    "from sklearn.cluster import KMeans\n",
    "from sklearn.datasets import make_blobs\n",
    "%matplotlib inline\n",
    "import seaborn as sb"
   ]
  },
  {
   "cell_type": "code",
   "execution_count": 39,
   "metadata": {},
   "outputs": [],
   "source": [
    "x1, y1 = make_blobs(n_samples = 100, centers = 4, random_state = 0)"
   ]
  },
  {
   "cell_type": "code",
   "execution_count": 41,
   "metadata": {},
   "outputs": [
    {
     "data": {
      "text/plain": [
       "(array([[ 0.46546494,  3.12315514],\n",
       "        [-2.54111268,  8.10251088],\n",
       "        [ 1.7373078 ,  4.42546234],\n",
       "        [ 1.1312175 ,  4.68194985],\n",
       "        [ 2.20656076,  5.50616718],\n",
       "        [ 0.58894326,  4.00148458],\n",
       "        [-2.3881297 ,  4.82794721],\n",
       "        [-0.29883497,  7.92301126],\n",
       "        [-0.73000011,  6.25456272],\n",
       "        [-1.61743761,  7.59608084],\n",
       "        [-0.60812425,  6.21850397],\n",
       "        [-2.24847112,  6.29068892],\n",
       "        [-1.28753859,  6.66736652],\n",
       "        [-0.72497911,  7.66391368],\n",
       "        [-0.39142516,  7.18443442],\n",
       "        [ 3.93841822, -0.4500954 ],\n",
       "        [ 0.88214412,  2.84128485],\n",
       "        [ 0.85624076,  3.86236175],\n",
       "        [-2.20123667,  2.94971282],\n",
       "        [ 3.19466821, -0.33716216],\n",
       "        [ 3.2460247 ,  2.84942165],\n",
       "        [-2.39572443,  7.39763997],\n",
       "        [-2.29682009,  3.45713145],\n",
       "        [ 2.52092996, -0.63858003],\n",
       "        [ 0.08080352,  4.69068983],\n",
       "        [-1.62535654,  2.25440397],\n",
       "        [ 0.39603801,  4.39839705],\n",
       "        [ 0.62835793,  4.4601363 ],\n",
       "        [ 3.54351972,  2.79355284],\n",
       "        [ 3.23404709,  0.71773882],\n",
       "        [ 1.38280707,  0.5381105 ],\n",
       "        [-0.62302432,  6.23340236],\n",
       "        [ 2.23269366,  0.49588272],\n",
       "        [ 2.06576754,  2.68353415],\n",
       "        [-0.91282464,  3.84008893],\n",
       "        [ 1.28933778,  3.44969159],\n",
       "        [-1.74628823,  9.76499207],\n",
       "        [ 1.65209057,  2.12010873],\n",
       "        [ 0.91498017,  9.17198797],\n",
       "        [-2.27165884,  2.09144372],\n",
       "        [ 1.12031365,  5.75806083],\n",
       "        [-1.36023052,  3.5529137 ],\n",
       "        [-1.89187418,  5.61205686],\n",
       "        [-2.43972624,  4.03489855],\n",
       "        [-2.22147187,  2.76824772],\n",
       "        [-2.47369129,  8.67982299],\n",
       "        [ 1.18447037,  0.318814  ],\n",
       "        [-2.16275009,  3.59431556],\n",
       "        [ 0.4666179 ,  3.86571303],\n",
       "        [ 0.08848433,  2.32299086],\n",
       "        [-0.27652528,  5.08127768],\n",
       "        [ 1.74371499,  0.953829  ],\n",
       "        [-0.9503132 ,  2.70958351],\n",
       "        [-1.96205756,  4.76714599],\n",
       "        [-0.40026809,  1.83795075],\n",
       "        [-1.2725819 ,  7.09742911],\n",
       "        [-0.47646522,  8.65896417],\n",
       "        [ 2.78435808,  1.02664657],\n",
       "        [ 2.41163392,  1.60423683],\n",
       "        [-0.06022598,  8.15240263],\n",
       "        [-1.60224969,  6.46050872],\n",
       "        [ 0.9845149 ,  1.95211539],\n",
       "        [ 2.18217961,  1.29965302],\n",
       "        [ 2.50904929,  5.7731461 ],\n",
       "        [ 0.78478252,  1.86706037],\n",
       "        [-0.14859618,  8.49072375],\n",
       "        [-2.84281142,  2.45629766],\n",
       "        [-1.1308973 ,  1.82482075],\n",
       "        [ 2.2635425 ,  1.8743027 ],\n",
       "        [ 1.42013331,  4.63746165],\n",
       "        [-2.28249862,  8.51705453],\n",
       "        [ 0.89011768,  1.79849015],\n",
       "        [ 0.87305123,  4.71438583],\n",
       "        [-1.70378828,  7.85293917],\n",
       "        [ 1.0220286 ,  4.11660348],\n",
       "        [ 1.84070628,  3.56162231],\n",
       "        [ 0.34065495,  3.82392692],\n",
       "        [-1.79490738,  3.72033866],\n",
       "        [ 2.45760916,  0.21285357],\n",
       "        [ 0.42506917,  1.36044592],\n",
       "        [ 1.24212124, -0.82861894],\n",
       "        [-1.98781877,  9.37847461],\n",
       "        [-1.22866584,  4.24426816],\n",
       "        [-0.63762777,  4.09104705],\n",
       "        [ 1.42094543,  0.53492249],\n",
       "        [-0.57965205,  2.76287217],\n",
       "        [ 1.14796916,  0.94960906],\n",
       "        [ 1.64164854,  0.15020885],\n",
       "        [ 2.47034915,  4.09862906],\n",
       "        [ 1.0427873 ,  4.60625923],\n",
       "        [ 0.94808785,  4.7321192 ],\n",
       "        [-1.15047848,  1.81848147],\n",
       "        [-0.07228289,  2.88376939],\n",
       "        [-0.85460926,  3.3253441 ],\n",
       "        [-3.01816161,  3.35727396],\n",
       "        [-2.35263911,  7.88762509],\n",
       "        [-2.05166544,  7.14591024],\n",
       "        [-1.59514562,  4.63122498],\n",
       "        [-0.32739695,  8.15418767],\n",
       "        [-1.57671974,  4.95740592]]),\n",
       " array([0, 3, 0, 0, 0, 0, 2, 3, 0, 3, 3, 3, 3, 3, 3, 1, 1, 2, 2, 1, 0, 3,\n",
       "        2, 1, 0, 2, 2, 0, 1, 1, 1, 3, 1, 1, 2, 0, 3, 1, 3, 2, 0, 2, 3, 2,\n",
       "        2, 3, 1, 2, 0, 0, 0, 1, 2, 2, 2, 3, 3, 1, 1, 3, 3, 1, 1, 0, 1, 3,\n",
       "        2, 2, 1, 0, 3, 1, 0, 3, 0, 0, 2, 2, 1, 1, 1, 3, 2, 0, 1, 2, 1, 1,\n",
       "        0, 0, 0, 2, 0, 2, 2, 3, 3, 2, 3, 0]))"
      ]
     },
     "execution_count": 41,
     "metadata": {},
     "output_type": "execute_result"
    }
   ],
   "source": [
    "x1, y1"
   ]
  },
  {
   "cell_type": "code",
   "execution_count": 36,
   "metadata": {},
   "outputs": [
    {
     "data": {
      "text/plain": [
       "array([2.63185834, 0.6893649 ])"
      ]
     },
     "execution_count": 36,
     "metadata": {},
     "output_type": "execute_result"
    }
   ],
   "source": [
    "x1[0]"
   ]
  },
  {
   "cell_type": "code",
   "execution_count": 33,
   "metadata": {},
   "outputs": [
    {
     "data": {
      "text/plain": [
       "2"
      ]
     },
     "execution_count": 33,
     "metadata": {},
     "output_type": "execute_result"
    }
   ],
   "source": [
    "y1[97]"
   ]
  },
  {
   "cell_type": "code",
   "execution_count": 44,
   "metadata": {},
   "outputs": [],
   "source": [
    "sb.set()"
   ]
  },
  {
   "cell_type": "code",
   "execution_count": 47,
   "metadata": {},
   "outputs": [
    {
     "data": {
      "text/plain": [
       "<matplotlib.collections.PathCollection at 0x2691588d1c0>"
      ]
     },
     "execution_count": 47,
     "metadata": {},
     "output_type": "execute_result"
    },
    {
     "data": {
      "image/png": "[encoded data removed]",
      "text/plain": [
       "<Figure size 432x288 with 1 Axes>"
      ]
     },
     "metadata": {},
     "output_type": "display_data"
    }
   ],
   "source": [
    "plt.scatter(x1[:, 0], x1[:, 1], s=50)"
   ]
  },
  {
   "cell_type": "code",
   "execution_count": 46,
   "metadata": {},
   "outputs": [],
   "source": [
    "kmn1 = KMeans(n_clusters=4)"
   ]
  },
  {
   "cell_type": "code",
   "execution_count": 48,
   "metadata": {},
   "outputs": [
    {
     "data": {
      "text/plain": [
       "KMeans(algorithm='auto', copy_x=True, init='k-means++', max_iter=300,\n",
       "       n_clusters=4, n_init=10, n_jobs=None, precompute_distances='auto',\n",
       "       random_state=None, tol=0.0001, verbose=0)"
      ]
     },
     "execution_count": 48,
     "metadata": {},
     "output_type": "execute_result"
    }
   ],
   "source": [
    "kmn1.fit(x1)"
   ]
  },
  {
   "cell_type": "code",
   "execution_count": 56,
   "metadata": {},
   "outputs": [],
   "source": [
    "y1_vals_new = kmn1.fit_predict(x1)"
   ]
  },
  {
   "cell_type": "code",
   "execution_count": 57,
   "metadata": {},
   "outputs": [
    {
     "data": {
      "text/plain": [
       "array([3, 1, 3, 3, 3, 3, 2, 1, 1, 1, 1, 1, 1, 1, 1, 0, 3, 3, 2, 0, 0, 1,\n",
       "       2, 0, 3, 2, 3, 3, 0, 0, 0, 1, 0, 0, 2, 3, 1, 0, 1, 2, 3, 2, 1, 2,\n",
       "       2, 1, 0, 2, 3, 2, 3, 0, 2, 2, 2, 1, 1, 0, 0, 1, 1, 0, 0, 3, 0, 1,\n",
       "       2, 2, 0, 3, 1, 0, 3, 1, 3, 3, 3, 2, 0, 0, 0, 1, 2, 2, 0, 2, 0, 0,\n",
       "       3, 3, 3, 2, 2, 2, 2, 1, 1, 2, 1, 2])"
      ]
     },
     "execution_count": 57,
     "metadata": {},
     "output_type": "execute_result"
    }
   ],
   "source": [
    "kmn1.labels_"
   ]
  },
  {
   "cell_type": "code",
   "execution_count": 50,
   "metadata": {},
   "outputs": [
    {
     "data": {
      "text/plain": [
       "array([[ 1.04520307,  4.3569559 ],\n",
       "       [ 2.02302576,  1.03388323],\n",
       "       [-1.26651816,  7.6368152 ],\n",
       "       [-1.52255073,  3.2723815 ]])"
      ]
     },
     "execution_count": 50,
     "metadata": {},
     "output_type": "execute_result"
    }
   ],
   "source": [
    "kmn1.cluster_centers_"
   ]
  },
  {
   "cell_type": "code",
   "execution_count": 58,
   "metadata": {},
   "outputs": [],
   "source": [
    "y_vals = kmn1.predict(x1)"
   ]
  },
  {
   "cell_type": "code",
   "execution_count": 59,
   "metadata": {},
   "outputs": [
    {
     "data": {
      "text/plain": [
       "array([3, 1, 3, 3, 3, 3, 2, 1, 1, 1, 1, 1, 1, 1, 1, 0, 3, 3, 2, 0, 0, 1,\n",
       "       2, 0, 3, 2, 3, 3, 0, 0, 0, 1, 0, 0, 2, 3, 1, 0, 1, 2, 3, 2, 1, 2,\n",
       "       2, 1, 0, 2, 3, 2, 3, 0, 2, 2, 2, 1, 1, 0, 0, 1, 1, 0, 0, 3, 0, 1,\n",
       "       2, 2, 0, 3, 1, 0, 3, 1, 3, 3, 3, 2, 0, 0, 0, 1, 2, 2, 0, 2, 0, 0,\n",
       "       3, 3, 3, 2, 2, 2, 2, 1, 1, 2, 1, 2])"
      ]
     },
     "execution_count": 59,
     "metadata": {},
     "output_type": "execute_result"
    }
   ],
   "source": [
    "y_vals"
   ]
  },
  {
   "cell_type": "code",
   "execution_count": 61,
   "metadata": {},
   "outputs": [
    {
     "data": {
      "text/plain": [
       "array([3, 1, 3, 3, 3, 3, 2, 1, 1, 1, 1, 1, 1, 1, 1, 0, 3, 3, 2, 0, 0, 1,\n",
       "       2, 0, 3, 2, 3, 3, 0, 0, 0, 1, 0, 0, 2, 3, 1, 0, 1, 2, 3, 2, 1, 2,\n",
       "       2, 1, 0, 2, 3, 2, 3, 0, 2, 2, 2, 1, 1, 0, 0, 1, 1, 0, 0, 3, 0, 1,\n",
       "       2, 2, 0, 3, 1, 0, 3, 1, 3, 3, 3, 2, 0, 0, 0, 1, 2, 2, 0, 2, 0, 0,\n",
       "       3, 3, 3, 2, 2, 2, 2, 1, 1, 2, 1, 2])"
      ]
     },
     "execution_count": 61,
     "metadata": {},
     "output_type": "execute_result"
    }
   ],
   "source": [
    "y1_vals_new"
   ]
  },
  {
   "cell_type": "code",
   "execution_count": 53,
   "metadata": {},
   "outputs": [
    {
     "data": {
      "text/plain": [
       "array([0, 3, 0, 0, 0, 0, 2, 3, 0, 3, 3, 3, 3, 3, 3, 1, 1, 2, 2, 1, 0, 3,\n",
       "       2, 1, 0, 2, 2, 0, 1, 1, 1, 3, 1, 1, 2, 0, 3, 1, 3, 2, 0, 2, 3, 2,\n",
       "       2, 3, 1, 2, 0, 0, 0, 1, 2, 2, 2, 3, 3, 1, 1, 3, 3, 1, 1, 0, 1, 3,\n",
       "       2, 2, 1, 0, 3, 1, 0, 3, 0, 0, 2, 2, 1, 1, 1, 3, 2, 0, 1, 2, 1, 1,\n",
       "       0, 0, 0, 2, 0, 2, 2, 3, 3, 2, 3, 0])"
      ]
     },
     "execution_count": 53,
     "metadata": {},
     "output_type": "execute_result"
    }
   ],
   "source": [
    "y1"
   ]
  },
  {
   "cell_type": "code",
   "execution_count": null,
   "metadata": {},
   "outputs": [],
   "source": []
  }
 ],
 "metadata": {
  "kernelspec": {
   "display_name": "Python 3",
   "language": "python",
   "name": "python3"
  },
  "language_info": {
   "codemirror_mode": {
    "name": "ipython",
    "version": 3
   },
   "file_extension": ".py",
   "mimetype": "text/x-python",
   "name": "python",
   "nbconvert_exporter": "python",
   "pygments_lexer": "ipython3",
   "version": "3.8.1"
  }
 },
 "nbformat": 4,
 "nbformat_minor": 4
}
