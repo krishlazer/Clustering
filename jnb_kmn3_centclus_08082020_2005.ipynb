{
 "cells": [
  {
   "cell_type": "code",
   "execution_count": 55,
   "metadata": {},
   "outputs": [],
   "source": [
    "import numpy as np\n",
    "from sklearn.datasets import make_blobs\n",
    "from sklearn.cluster import KMeans\n",
    "import matplotlib.pyplot as plt\n",
    "from mpl_toolkits import mplot3d\n",
    "from mpl_toolkits.mplot3d import Axes3D\n",
    "%matplotlib inline"
   ]
  },
  {
   "cell_type": "code",
   "execution_count": 33,
   "metadata": {},
   "outputs": [],
   "source": [
    "dsn3 = make_blobs(n_samples = 200, n_features = 3, centers = 5)"
   ]
  },
  {
   "cell_type": "code",
   "execution_count": 35,
   "metadata": {},
   "outputs": [
    {
     "data": {
      "text/plain": [
       "(array([[-5.34564707, -0.48106289, -0.42351679],\n",
       "        [-3.39792222, -4.27737654, -3.99573904],\n",
       "        [-3.21567113, -0.07579631,  0.27465322],\n",
       "        [-4.19825511,  1.71866381, -1.71872688],\n",
       "        [-2.89493051, -5.10803197, -6.04087011],\n",
       "        [-6.09035042, -1.24041963, -0.15426363],\n",
       "        [-3.09003185, -5.09419089, -5.21448235],\n",
       "        [-4.83373194, -4.90856805, -5.61470444],\n",
       "        [ 4.50148705,  1.79424675, -3.16698897],\n",
       "        [-4.82829508, -0.29244635, -1.5304178 ],\n",
       "        [ 2.46961682,  0.28850973, -3.41760934],\n",
       "        [ 2.59966504, -7.62476457,  0.9532497 ],\n",
       "        [-4.36448208,  0.49798022, -0.98518131],\n",
       "        [ 3.44398435, -0.15149203, -4.46276666],\n",
       "        [-2.57333353, -6.39914635, -5.93832   ],\n",
       "        [-4.68787746, -0.59516861, -0.38585825],\n",
       "        [ 0.88082304,  0.32568353, -3.99896568],\n",
       "        [ 4.0479109 , -9.08073915,  0.42653502],\n",
       "        [-3.89274758, -4.27693372, -4.65709795],\n",
       "        [ 3.16228087, -1.15676654, -4.63257664],\n",
       "        [ 3.9419012 , -7.82486757,  0.70253961],\n",
       "        [ 3.55030932, -9.99867665,  1.67828317],\n",
       "        [-5.23942598,  1.46977875,  0.16124197],\n",
       "        [ 3.65874813, -0.02205105, -3.62157761],\n",
       "        [-5.13837407,  0.33217423,  0.15504754],\n",
       "        [-5.16301153,  1.71893462, -1.47188383],\n",
       "        [-3.7330161 ,  0.58117772, -1.46249338],\n",
       "        [ 4.18448784, -6.50163334, -0.57623815],\n",
       "        [-2.45392981, -4.8878128 , -3.20341754],\n",
       "        [-6.18971757,  0.16754658, -1.20698349],\n",
       "        [-5.98345063,  1.15872829, -1.16961817],\n",
       "        [-3.03091387,  0.80028807,  0.84248864],\n",
       "        [-2.10980981, -5.11920276, -2.28834254],\n",
       "        [ 4.57813417,  2.60226261, -3.40279601],\n",
       "        [ 4.89230332, -0.17481453, -3.12166846],\n",
       "        [ 2.40938121,  0.16378207, -4.41068599],\n",
       "        [ 3.16760895,  0.398278  , -4.87984508],\n",
       "        [ 3.38913162,  1.78767229, -5.38715372],\n",
       "        [-5.0763749 ,  0.6065436 , -2.09622379],\n",
       "        [-4.75214685,  0.91667652, -0.92183727],\n",
       "        [-2.89407776, -0.05439121, -0.95030674],\n",
       "        [-3.91930456, -0.63956015, -0.74762638],\n",
       "        [ 3.45350465, -5.93771218, -0.70749997],\n",
       "        [ 3.01205027, -7.88383883,  1.47810443],\n",
       "        [-2.53776694, -5.85899171, -3.22798952],\n",
       "        [ 3.66752248,  2.20870239, -3.46419019],\n",
       "        [-5.31867947,  0.17276707, -1.31552945],\n",
       "        [ 6.74837708,  1.0954325 , -2.77586887],\n",
       "        [ 3.68204065, -8.47697302, -0.05382511],\n",
       "        [-2.48569986, -1.02626907, -1.30928142],\n",
       "        [-5.56492516,  0.42773501, -1.51842965],\n",
       "        [-4.73344979,  2.29448478, -1.4693862 ],\n",
       "        [ 3.55168474,  0.81894776, -2.32509436],\n",
       "        [-1.6868196 , -5.32392852, -5.1812678 ],\n",
       "        [ 4.73049473, -8.39486824,  1.73443935],\n",
       "        [ 2.96115822, -8.53283385,  1.70628749],\n",
       "        [ 4.75793429,  1.14610442, -2.91595814],\n",
       "        [ 3.24628914, -7.33065313,  0.85649914],\n",
       "        [ 3.98828484, -8.17837437,  0.08840131],\n",
       "        [-4.50271596,  0.65182986, -1.111267  ],\n",
       "        [-4.17505351,  0.65987617,  0.15554866],\n",
       "        [ 4.04801525, -7.37541506,  0.25623908],\n",
       "        [ 3.49312001,  0.62289603, -4.77879284],\n",
       "        [-6.03778649,  1.29002098, -1.07550736],\n",
       "        [ 3.77722882, -6.15411026,  0.768013  ],\n",
       "        [ 4.29381592,  1.58010724, -4.51354732],\n",
       "        [-2.02280392, -5.22677806, -5.12036982],\n",
       "        [ 4.40125312,  0.28447796, -1.89351424],\n",
       "        [-2.89904013,  1.51594482, -2.97643004],\n",
       "        [-3.31976853, -5.56298203, -4.73865288],\n",
       "        [-5.93915558,  0.91650511,  0.76238554],\n",
       "        [-2.99082915, -5.07309847, -4.06239584],\n",
       "        [ 4.62846944, -8.13498022,  2.00067729],\n",
       "        [ 1.44581519, -0.32628169, -3.93357619],\n",
       "        [-3.41336251, -1.67164823, -1.42028855],\n",
       "        [ 5.07105149,  0.39331676, -4.62804981],\n",
       "        [-2.50868165, -3.5312527 , -3.54006029],\n",
       "        [-4.6129259 , -5.77737911, -5.28564553],\n",
       "        [ 3.70011082,  0.7857426 , -3.77735525],\n",
       "        [-5.87765346,  3.0628138 , -1.64654455],\n",
       "        [-5.5514749 , -0.38945715, -1.95700495],\n",
       "        [-3.75743311, -0.06385415, -0.52330665],\n",
       "        [-3.69509616, -6.16504568, -4.43408143],\n",
       "        [-4.42728321,  1.42889417, -0.20004851],\n",
       "        [-3.59575881, -0.61625327, -2.31233401],\n",
       "        [ 3.61797228,  1.0143288 , -3.62887583],\n",
       "        [-3.84244414, -5.79686248, -2.88613265],\n",
       "        [ 4.49200032,  2.99772682, -4.29938553],\n",
       "        [-3.55920387,  0.72763572, -2.2369316 ],\n",
       "        [-6.03960003,  0.17037606, -0.37369578],\n",
       "        [-2.47482531, -0.4496636 , -0.62910426],\n",
       "        [ 2.40915874, -5.5786244 ,  1.25862053],\n",
       "        [-1.61203189, -4.98661072, -5.70767444],\n",
       "        [ 4.27256616, -7.9569298 ,  1.63595641],\n",
       "        [ 2.54437206,  0.13131224, -5.43012778],\n",
       "        [-3.91024695, -3.98304002, -5.29678983],\n",
       "        [ 3.97861762, -8.31622761,  2.4560083 ],\n",
       "        [ 1.96833987,  2.13148347, -3.86137128],\n",
       "        [-3.43914874, -0.96896631,  0.04903339],\n",
       "        [ 2.88043551,  2.821359  , -3.74654324],\n",
       "        [-4.47729978, -0.38396345, -0.40132142],\n",
       "        [ 3.5543998 ,  0.54771364, -4.41926135],\n",
       "        [-4.27224015, -4.20108188, -5.28784019],\n",
       "        [ 4.14823919, -6.23199986,  1.10316341],\n",
       "        [-3.43409609,  0.81669028,  1.04631999],\n",
       "        [ 3.45992706, -6.77830934,  1.95843712],\n",
       "        [-6.6538606 , -0.61187085, -2.99582483],\n",
       "        [ 2.43770173, -8.1612364 ,  0.37493737],\n",
       "        [ 3.3260457 , -6.55992545,  1.05225152],\n",
       "        [ 3.52881587,  0.96798547, -3.31930599],\n",
       "        [-3.49738589, -0.19618534, -1.09111347],\n",
       "        [-4.45096766,  0.82425317, -0.10324034],\n",
       "        [-4.72857946, -1.55164636, -1.18944325],\n",
       "        [ 5.17975103,  2.64715785, -4.4518684 ],\n",
       "        [-4.38571531, -0.35906576, -1.28320618],\n",
       "        [-2.50896847, -6.64559596, -5.73702976],\n",
       "        [ 5.21871601,  1.35472265, -2.45015006],\n",
       "        [-5.19969349,  0.7527643 , -0.9362189 ],\n",
       "        [ 3.4272108 , -6.58141644,  0.70600331],\n",
       "        [-3.09455404, -6.05108513, -4.08115345],\n",
       "        [ 5.20158952, -7.16947339,  2.97027616],\n",
       "        [-3.92604947,  2.04910592, -1.92152284],\n",
       "        [-3.25515769, -4.77035862, -4.12959274],\n",
       "        [ 4.21955148, -6.47834763,  0.26661203],\n",
       "        [ 2.07267653, -0.36574356, -2.36178632],\n",
       "        [-2.03636541, -4.75206291, -4.0566626 ],\n",
       "        [ 2.08046792, -7.03124922,  0.19102047],\n",
       "        [-3.64049962, -0.09634024, -0.90809447],\n",
       "        [ 4.78011938, -5.18827684,  0.89212225],\n",
       "        [-4.88541464,  0.95297349, -2.24983221],\n",
       "        [-2.31587999,  1.76008737, -2.00728322],\n",
       "        [-4.8780628 ,  1.44251083, -0.25182299],\n",
       "        [ 3.10072649,  1.18128717, -2.5852478 ],\n",
       "        [-4.97485026, -1.04730127, -2.85663767],\n",
       "        [ 3.57835217, -6.75585791,  1.61281158],\n",
       "        [-2.4452339 , -1.23130489, -0.04829268],\n",
       "        [-1.10126142, -6.6890595 , -4.45180955],\n",
       "        [ 3.40642126, -0.85618306, -4.59849641],\n",
       "        [ 3.83361741, -6.9584994 ,  0.13640924],\n",
       "        [-1.28366858, -5.51139308, -5.09753647],\n",
       "        [-4.21774298,  0.25530554, -0.34357213],\n",
       "        [-4.306016  ,  0.30933962, -1.35298279],\n",
       "        [-4.98236816,  1.31015105, -0.68575939],\n",
       "        [ 4.11264515, -0.24233304, -3.13238491],\n",
       "        [ 2.78097532, -8.55200962,  0.44128792],\n",
       "        [ 3.56549659, -9.0721135 , -0.64664911],\n",
       "        [ 3.95358864,  1.45748396, -3.23380088],\n",
       "        [ 2.90026181, -6.57853203,  1.91617422],\n",
       "        [ 3.51908499, -7.81040768,  1.17902487],\n",
       "        [ 5.23437357,  1.23752884, -3.43077245],\n",
       "        [-2.67017326, -6.11999849, -4.53067049],\n",
       "        [-3.8138747 , -1.21558974,  0.5506998 ],\n",
       "        [ 3.52379459,  0.3575329 , -4.59111137],\n",
       "        [-4.76710184,  1.00862948, -0.98113706],\n",
       "        [-4.1621648 ,  0.69079604, -1.10754912],\n",
       "        [-3.6837594 , -0.0239892 , -0.64541436],\n",
       "        [-3.60815357, -0.16908894, -0.93919899],\n",
       "        [-4.84837796,  0.2820855 , -0.47691284],\n",
       "        [-3.21194003, -3.58263973, -4.1725382 ],\n",
       "        [-3.8045907 ,  1.6047488 , -0.65399062],\n",
       "        [-5.86269886,  1.68861565, -3.16046071],\n",
       "        [-3.37099206, -3.85329637, -6.17044767],\n",
       "        [ 3.10858154, -7.95356803,  2.67402838],\n",
       "        [-3.63585816,  0.57991419,  0.89918968],\n",
       "        [ 4.33529964,  0.60813249, -3.58604532],\n",
       "        [ 3.19900406, -8.86958847,  2.51929143],\n",
       "        [ 3.89831331, -0.34036073, -3.56243895],\n",
       "        [-5.97739066,  0.20202647, -1.03619009],\n",
       "        [-1.49171136, -5.43993457, -5.01729354],\n",
       "        [-4.64089103, -1.23397635, -0.59272966],\n",
       "        [-3.57058237, -4.22555795, -3.81881148],\n",
       "        [-5.06345102, -5.12254386, -6.95261743],\n",
       "        [-4.49471167,  1.56280147, -0.67479564],\n",
       "        [-4.60082565, -0.09311643, -0.50002474],\n",
       "        [-2.82336239, -4.23609437, -3.26461692],\n",
       "        [-5.81771498,  2.56343371, -0.99398063],\n",
       "        [-4.81567732, -1.09779971, -2.46482364],\n",
       "        [-4.09155484, -5.3207642 , -4.55954525],\n",
       "        [-2.05298764, -6.55797005, -5.18042382],\n",
       "        [-5.57710275,  0.58907017, -1.01938559],\n",
       "        [ 3.5511402 ,  0.57359471, -4.26981693],\n",
       "        [ 2.67788226, -7.37632109,  1.0797854 ],\n",
       "        [-5.8036542 ,  0.29117621, -4.17850098],\n",
       "        [-4.03234373, -1.26060479, -0.02803071],\n",
       "        [-1.97900079, -5.02773302, -3.45204053],\n",
       "        [-2.76715055, -1.22948933, -1.0975148 ],\n",
       "        [-4.93115191,  1.32947558, -1.41557263],\n",
       "        [ 4.12790415, -9.65224981,  1.1331826 ],\n",
       "        [-3.46139114, -5.5929495 , -5.31995041],\n",
       "        [-3.49581369, -4.49831704, -3.73540181],\n",
       "        [-3.61613456, -0.34372121, -1.0139931 ],\n",
       "        [ 4.7734745 , -8.07077111, -0.23724018],\n",
       "        [ 5.72620468, -6.50496512,  1.37432137],\n",
       "        [-4.9337388 ,  0.79276838, -0.90295115],\n",
       "        [ 4.0188963 , -6.60958259,  0.70944979],\n",
       "        [-3.03747314,  0.12950808, -1.5180684 ],\n",
       "        [-5.37821916, -4.58411663, -5.34753332],\n",
       "        [-3.76052911, -4.83474232, -4.74115292],\n",
       "        [-4.76986472,  1.32912813, -0.4344466 ],\n",
       "        [-5.6898029 , -0.88222209, -0.8935554 ]]),\n",
       " array([3, 4, 3, 3, 4, 3, 4, 4, 0, 1, 0, 2, 1, 0, 4, 1, 0, 2, 4, 0, 2, 2,\n",
       "        3, 0, 3, 3, 1, 2, 4, 1, 1, 3, 4, 0, 0, 0, 0, 0, 3, 3, 3, 1, 2, 2,\n",
       "        4, 0, 3, 0, 2, 1, 3, 3, 0, 4, 2, 2, 0, 2, 2, 3, 3, 2, 0, 3, 2, 0,\n",
       "        4, 0, 3, 4, 3, 4, 2, 0, 1, 0, 4, 4, 0, 3, 1, 1, 4, 3, 1, 0, 4, 0,\n",
       "        1, 1, 1, 2, 4, 2, 0, 4, 2, 0, 1, 0, 1, 0, 4, 2, 3, 2, 3, 2, 2, 0,\n",
       "        1, 3, 1, 0, 1, 4, 0, 3, 2, 4, 2, 1, 4, 2, 0, 4, 2, 1, 2, 1, 1, 3,\n",
       "        0, 1, 2, 1, 4, 0, 2, 4, 1, 3, 3, 0, 2, 2, 0, 2, 2, 0, 4, 1, 0, 3,\n",
       "        1, 1, 1, 1, 4, 3, 3, 4, 2, 1, 0, 2, 0, 3, 4, 3, 4, 4, 3, 3, 4, 3,\n",
       "        3, 4, 4, 3, 0, 2, 3, 1, 4, 1, 3, 2, 4, 4, 1, 2, 2, 1, 2, 1, 4, 4,\n",
       "        1, 1]))"
      ]
     },
     "execution_count": 35,
     "metadata": {},
     "output_type": "execute_result"
    }
   ],
   "source": [
    "dsn3"
   ]
  },
  {
   "cell_type": "code",
   "execution_count": 36,
   "metadata": {
    "scrolled": false
   },
   "outputs": [
    {
     "data": {
      "text/plain": [
       "array([[-5.34564707, -0.48106289, -0.42351679],\n",
       "       [-3.39792222, -4.27737654, -3.99573904],\n",
       "       [-3.21567113, -0.07579631,  0.27465322],\n",
       "       [-4.19825511,  1.71866381, -1.71872688],\n",
       "       [-2.89493051, -5.10803197, -6.04087011],\n",
       "       [-6.09035042, -1.24041963, -0.15426363],\n",
       "       [-3.09003185, -5.09419089, -5.21448235],\n",
       "       [-4.83373194, -4.90856805, -5.61470444],\n",
       "       [ 4.50148705,  1.79424675, -3.16698897],\n",
       "       [-4.82829508, -0.29244635, -1.5304178 ],\n",
       "       [ 2.46961682,  0.28850973, -3.41760934],\n",
       "       [ 2.59966504, -7.62476457,  0.9532497 ],\n",
       "       [-4.36448208,  0.49798022, -0.98518131],\n",
       "       [ 3.44398435, -0.15149203, -4.46276666],\n",
       "       [-2.57333353, -6.39914635, -5.93832   ],\n",
       "       [-4.68787746, -0.59516861, -0.38585825],\n",
       "       [ 0.88082304,  0.32568353, -3.99896568],\n",
       "       [ 4.0479109 , -9.08073915,  0.42653502],\n",
       "       [-3.89274758, -4.27693372, -4.65709795],\n",
       "       [ 3.16228087, -1.15676654, -4.63257664],\n",
       "       [ 3.9419012 , -7.82486757,  0.70253961],\n",
       "       [ 3.55030932, -9.99867665,  1.67828317],\n",
       "       [-5.23942598,  1.46977875,  0.16124197],\n",
       "       [ 3.65874813, -0.02205105, -3.62157761],\n",
       "       [-5.13837407,  0.33217423,  0.15504754],\n",
       "       [-5.16301153,  1.71893462, -1.47188383],\n",
       "       [-3.7330161 ,  0.58117772, -1.46249338],\n",
       "       [ 4.18448784, -6.50163334, -0.57623815],\n",
       "       [-2.45392981, -4.8878128 , -3.20341754],\n",
       "       [-6.18971757,  0.16754658, -1.20698349],\n",
       "       [-5.98345063,  1.15872829, -1.16961817],\n",
       "       [-3.03091387,  0.80028807,  0.84248864],\n",
       "       [-2.10980981, -5.11920276, -2.28834254],\n",
       "       [ 4.57813417,  2.60226261, -3.40279601],\n",
       "       [ 4.89230332, -0.17481453, -3.12166846],\n",
       "       [ 2.40938121,  0.16378207, -4.41068599],\n",
       "       [ 3.16760895,  0.398278  , -4.87984508],\n",
       "       [ 3.38913162,  1.78767229, -5.38715372],\n",
       "       [-5.0763749 ,  0.6065436 , -2.09622379],\n",
       "       [-4.75214685,  0.91667652, -0.92183727],\n",
       "       [-2.89407776, -0.05439121, -0.95030674],\n",
       "       [-3.91930456, -0.63956015, -0.74762638],\n",
       "       [ 3.45350465, -5.93771218, -0.70749997],\n",
       "       [ 3.01205027, -7.88383883,  1.47810443],\n",
       "       [-2.53776694, -5.85899171, -3.22798952],\n",
       "       [ 3.66752248,  2.20870239, -3.46419019],\n",
       "       [-5.31867947,  0.17276707, -1.31552945],\n",
       "       [ 6.74837708,  1.0954325 , -2.77586887],\n",
       "       [ 3.68204065, -8.47697302, -0.05382511],\n",
       "       [-2.48569986, -1.02626907, -1.30928142],\n",
       "       [-5.56492516,  0.42773501, -1.51842965],\n",
       "       [-4.73344979,  2.29448478, -1.4693862 ],\n",
       "       [ 3.55168474,  0.81894776, -2.32509436],\n",
       "       [-1.6868196 , -5.32392852, -5.1812678 ],\n",
       "       [ 4.73049473, -8.39486824,  1.73443935],\n",
       "       [ 2.96115822, -8.53283385,  1.70628749],\n",
       "       [ 4.75793429,  1.14610442, -2.91595814],\n",
       "       [ 3.24628914, -7.33065313,  0.85649914],\n",
       "       [ 3.98828484, -8.17837437,  0.08840131],\n",
       "       [-4.50271596,  0.65182986, -1.111267  ],\n",
       "       [-4.17505351,  0.65987617,  0.15554866],\n",
       "       [ 4.04801525, -7.37541506,  0.25623908],\n",
       "       [ 3.49312001,  0.62289603, -4.77879284],\n",
       "       [-6.03778649,  1.29002098, -1.07550736],\n",
       "       [ 3.77722882, -6.15411026,  0.768013  ],\n",
       "       [ 4.29381592,  1.58010724, -4.51354732],\n",
       "       [-2.02280392, -5.22677806, -5.12036982],\n",
       "       [ 4.40125312,  0.28447796, -1.89351424],\n",
       "       [-2.89904013,  1.51594482, -2.97643004],\n",
       "       [-3.31976853, -5.56298203, -4.73865288],\n",
       "       [-5.93915558,  0.91650511,  0.76238554],\n",
       "       [-2.99082915, -5.07309847, -4.06239584],\n",
       "       [ 4.62846944, -8.13498022,  2.00067729],\n",
       "       [ 1.44581519, -0.32628169, -3.93357619],\n",
       "       [-3.41336251, -1.67164823, -1.42028855],\n",
       "       [ 5.07105149,  0.39331676, -4.62804981],\n",
       "       [-2.50868165, -3.5312527 , -3.54006029],\n",
       "       [-4.6129259 , -5.77737911, -5.28564553],\n",
       "       [ 3.70011082,  0.7857426 , -3.77735525],\n",
       "       [-5.87765346,  3.0628138 , -1.64654455],\n",
       "       [-5.5514749 , -0.38945715, -1.95700495],\n",
       "       [-3.75743311, -0.06385415, -0.52330665],\n",
       "       [-3.69509616, -6.16504568, -4.43408143],\n",
       "       [-4.42728321,  1.42889417, -0.20004851],\n",
       "       [-3.59575881, -0.61625327, -2.31233401],\n",
       "       [ 3.61797228,  1.0143288 , -3.62887583],\n",
       "       [-3.84244414, -5.79686248, -2.88613265],\n",
       "       [ 4.49200032,  2.99772682, -4.29938553],\n",
       "       [-3.55920387,  0.72763572, -2.2369316 ],\n",
       "       [-6.03960003,  0.17037606, -0.37369578],\n",
       "       [-2.47482531, -0.4496636 , -0.62910426],\n",
       "       [ 2.40915874, -5.5786244 ,  1.25862053],\n",
       "       [-1.61203189, -4.98661072, -5.70767444],\n",
       "       [ 4.27256616, -7.9569298 ,  1.63595641],\n",
       "       [ 2.54437206,  0.13131224, -5.43012778],\n",
       "       [-3.91024695, -3.98304002, -5.29678983],\n",
       "       [ 3.97861762, -8.31622761,  2.4560083 ],\n",
       "       [ 1.96833987,  2.13148347, -3.86137128],\n",
       "       [-3.43914874, -0.96896631,  0.04903339],\n",
       "       [ 2.88043551,  2.821359  , -3.74654324],\n",
       "       [-4.47729978, -0.38396345, -0.40132142],\n",
       "       [ 3.5543998 ,  0.54771364, -4.41926135],\n",
       "       [-4.27224015, -4.20108188, -5.28784019],\n",
       "       [ 4.14823919, -6.23199986,  1.10316341],\n",
       "       [-3.43409609,  0.81669028,  1.04631999],\n",
       "       [ 3.45992706, -6.77830934,  1.95843712],\n",
       "       [-6.6538606 , -0.61187085, -2.99582483],\n",
       "       [ 2.43770173, -8.1612364 ,  0.37493737],\n",
       "       [ 3.3260457 , -6.55992545,  1.05225152],\n",
       "       [ 3.52881587,  0.96798547, -3.31930599],\n",
       "       [-3.49738589, -0.19618534, -1.09111347],\n",
       "       [-4.45096766,  0.82425317, -0.10324034],\n",
       "       [-4.72857946, -1.55164636, -1.18944325],\n",
       "       [ 5.17975103,  2.64715785, -4.4518684 ],\n",
       "       [-4.38571531, -0.35906576, -1.28320618],\n",
       "       [-2.50896847, -6.64559596, -5.73702976],\n",
       "       [ 5.21871601,  1.35472265, -2.45015006],\n",
       "       [-5.19969349,  0.7527643 , -0.9362189 ],\n",
       "       [ 3.4272108 , -6.58141644,  0.70600331],\n",
       "       [-3.09455404, -6.05108513, -4.08115345],\n",
       "       [ 5.20158952, -7.16947339,  2.97027616],\n",
       "       [-3.92604947,  2.04910592, -1.92152284],\n",
       "       [-3.25515769, -4.77035862, -4.12959274],\n",
       "       [ 4.21955148, -6.47834763,  0.26661203],\n",
       "       [ 2.07267653, -0.36574356, -2.36178632],\n",
       "       [-2.03636541, -4.75206291, -4.0566626 ],\n",
       "       [ 2.08046792, -7.03124922,  0.19102047],\n",
       "       [-3.64049962, -0.09634024, -0.90809447],\n",
       "       [ 4.78011938, -5.18827684,  0.89212225],\n",
       "       [-4.88541464,  0.95297349, -2.24983221],\n",
       "       [-2.31587999,  1.76008737, -2.00728322],\n",
       "       [-4.8780628 ,  1.44251083, -0.25182299],\n",
       "       [ 3.10072649,  1.18128717, -2.5852478 ],\n",
       "       [-4.97485026, -1.04730127, -2.85663767],\n",
       "       [ 3.57835217, -6.75585791,  1.61281158],\n",
       "       [-2.4452339 , -1.23130489, -0.04829268],\n",
       "       [-1.10126142, -6.6890595 , -4.45180955],\n",
       "       [ 3.40642126, -0.85618306, -4.59849641],\n",
       "       [ 3.83361741, -6.9584994 ,  0.13640924],\n",
       "       [-1.28366858, -5.51139308, -5.09753647],\n",
       "       [-4.21774298,  0.25530554, -0.34357213],\n",
       "       [-4.306016  ,  0.30933962, -1.35298279],\n",
       "       [-4.98236816,  1.31015105, -0.68575939],\n",
       "       [ 4.11264515, -0.24233304, -3.13238491],\n",
       "       [ 2.78097532, -8.55200962,  0.44128792],\n",
       "       [ 3.56549659, -9.0721135 , -0.64664911],\n",
       "       [ 3.95358864,  1.45748396, -3.23380088],\n",
       "       [ 2.90026181, -6.57853203,  1.91617422],\n",
       "       [ 3.51908499, -7.81040768,  1.17902487],\n",
       "       [ 5.23437357,  1.23752884, -3.43077245],\n",
       "       [-2.67017326, -6.11999849, -4.53067049],\n",
       "       [-3.8138747 , -1.21558974,  0.5506998 ],\n",
       "       [ 3.52379459,  0.3575329 , -4.59111137],\n",
       "       [-4.76710184,  1.00862948, -0.98113706],\n",
       "       [-4.1621648 ,  0.69079604, -1.10754912],\n",
       "       [-3.6837594 , -0.0239892 , -0.64541436],\n",
       "       [-3.60815357, -0.16908894, -0.93919899],\n",
       "       [-4.84837796,  0.2820855 , -0.47691284],\n",
       "       [-3.21194003, -3.58263973, -4.1725382 ],\n",
       "       [-3.8045907 ,  1.6047488 , -0.65399062],\n",
       "       [-5.86269886,  1.68861565, -3.16046071],\n",
       "       [-3.37099206, -3.85329637, -6.17044767],\n",
       "       [ 3.10858154, -7.95356803,  2.67402838],\n",
       "       [-3.63585816,  0.57991419,  0.89918968],\n",
       "       [ 4.33529964,  0.60813249, -3.58604532],\n",
       "       [ 3.19900406, -8.86958847,  2.51929143],\n",
       "       [ 3.89831331, -0.34036073, -3.56243895],\n",
       "       [-5.97739066,  0.20202647, -1.03619009],\n",
       "       [-1.49171136, -5.43993457, -5.01729354],\n",
       "       [-4.64089103, -1.23397635, -0.59272966],\n",
       "       [-3.57058237, -4.22555795, -3.81881148],\n",
       "       [-5.06345102, -5.12254386, -6.95261743],\n",
       "       [-4.49471167,  1.56280147, -0.67479564],\n",
       "       [-4.60082565, -0.09311643, -0.50002474],\n",
       "       [-2.82336239, -4.23609437, -3.26461692],\n",
       "       [-5.81771498,  2.56343371, -0.99398063],\n",
       "       [-4.81567732, -1.09779971, -2.46482364],\n",
       "       [-4.09155484, -5.3207642 , -4.55954525],\n",
       "       [-2.05298764, -6.55797005, -5.18042382],\n",
       "       [-5.57710275,  0.58907017, -1.01938559],\n",
       "       [ 3.5511402 ,  0.57359471, -4.26981693],\n",
       "       [ 2.67788226, -7.37632109,  1.0797854 ],\n",
       "       [-5.8036542 ,  0.29117621, -4.17850098],\n",
       "       [-4.03234373, -1.26060479, -0.02803071],\n",
       "       [-1.97900079, -5.02773302, -3.45204053],\n",
       "       [-2.76715055, -1.22948933, -1.0975148 ],\n",
       "       [-4.93115191,  1.32947558, -1.41557263],\n",
       "       [ 4.12790415, -9.65224981,  1.1331826 ],\n",
       "       [-3.46139114, -5.5929495 , -5.31995041],\n",
       "       [-3.49581369, -4.49831704, -3.73540181],\n",
       "       [-3.61613456, -0.34372121, -1.0139931 ],\n",
       "       [ 4.7734745 , -8.07077111, -0.23724018],\n",
       "       [ 5.72620468, -6.50496512,  1.37432137],\n",
       "       [-4.9337388 ,  0.79276838, -0.90295115],\n",
       "       [ 4.0188963 , -6.60958259,  0.70944979],\n",
       "       [-3.03747314,  0.12950808, -1.5180684 ],\n",
       "       [-5.37821916, -4.58411663, -5.34753332],\n",
       "       [-3.76052911, -4.83474232, -4.74115292],\n",
       "       [-4.76986472,  1.32912813, -0.4344466 ],\n",
       "       [-5.6898029 , -0.88222209, -0.8935554 ]])"
      ]
     },
     "execution_count": 36,
     "metadata": {},
     "output_type": "execute_result"
    }
   ],
   "source": [
    "dsn3[0]"
   ]
  },
  {
   "cell_type": "code",
   "execution_count": 8,
   "metadata": {},
   "outputs": [
    {
     "data": {
      "text/plain": [
       "<mpl_toolkits.mplot3d.art3d.Path3DCollection at 0x189d04470d0>"
      ]
     },
     "execution_count": 8,
     "metadata": {},
     "output_type": "execute_result"
    },
    {
     "data": {
      "image/png": "[encoded data removed]",
      "text/plain": [
       "<Figure size 432x288 with 1 Axes>"
      ]
     },
     "metadata": {
      "needs_background": "light"
     },
     "output_type": "display_data"
    }
   ],
   "source": [
    "fig3 = plt.figure()\n",
    "ax = plt.axes(projection = '3d')\n",
    "ax.scatter3D(dsn3[0][:,0], dsn3[0][:,1], dsn3[0][:, 2])"
   ]
  },
  {
   "cell_type": "code",
   "execution_count": 37,
   "metadata": {},
   "outputs": [],
   "source": [
    "kmn3 = KMeans(n_clusters = 4)"
   ]
  },
  {
   "cell_type": "code",
   "execution_count": 38,
   "metadata": {},
   "outputs": [
    {
     "data": {
      "text/plain": [
       "KMeans(algorithm='auto', copy_x=True, init='k-means++', max_iter=300,\n",
       "       n_clusters=4, n_init=10, n_jobs=None, precompute_distances='auto',\n",
       "       random_state=None, tol=0.0001, verbose=0)"
      ]
     },
     "execution_count": 38,
     "metadata": {},
     "output_type": "execute_result"
    }
   ],
   "source": [
    "kmn3.fit(dsn3[0])"
   ]
  },
  {
   "cell_type": "code",
   "execution_count": 39,
   "metadata": {},
   "outputs": [
    {
     "data": {
      "text/plain": [
       "array([2])"
      ]
     },
     "execution_count": 39,
     "metadata": {},
     "output_type": "execute_result"
    }
   ],
   "source": [
    "kmn3.predict([[-6.738929, -9.43536273, 8.19201992]])"
   ]
  },
  {
   "cell_type": "code",
   "execution_count": 40,
   "metadata": {},
   "outputs": [
    {
     "data": {
      "text/plain": [
       "array([3])"
      ]
     },
     "execution_count": 40,
     "metadata": {},
     "output_type": "execute_result"
    }
   ],
   "source": [
    "kmn3.predict([[-5.6727838, -0.87372737, -6.56336366]])"
   ]
  },
  {
   "cell_type": "code",
   "execution_count": 41,
   "metadata": {},
   "outputs": [
    {
     "data": {
      "text/plain": [
       "array([[ 3.69644917,  0.81723716, -3.7616843 ],\n",
       "       [-4.48418208,  0.33515628, -0.99698519],\n",
       "       [ 3.68506853, -7.50567308,  1.00172479],\n",
       "       [-3.04899442, -5.12436319, -4.63846756]])"
      ]
     },
     "execution_count": 41,
     "metadata": {},
     "output_type": "execute_result"
    }
   ],
   "source": [
    "kmn3.cluster_centers_"
   ]
  },
  {
   "cell_type": "code",
   "execution_count": 46,
   "metadata": {},
   "outputs": [
    {
     "data": {
      "text/plain": [
       "array([1])"
      ]
     },
     "execution_count": 46,
     "metadata": {},
     "output_type": "execute_result"
    }
   ],
   "source": [
    "kmn3.predict([[-4.93115191,  1.32947558, -1.41557263]])"
   ]
  },
  {
   "cell_type": "code",
   "execution_count": 56,
   "metadata": {},
   "outputs": [],
   "source": [
    "ax.scatter3D(3.69644917,  0.81723716, -3.7616843)\n",
    "plt.show()"
   ]
  },
  {
   "cell_type": "code",
   "execution_count": 53,
   "metadata": {},
   "outputs": [
    {
     "data": {
      "text/plain": [
       "(4, 3)"
      ]
     },
     "execution_count": 53,
     "metadata": {},
     "output_type": "execute_result"
    }
   ],
   "source": [
    "kmn3.cluster_centers_.shape"
   ]
  },
  {
   "cell_type": "code",
   "execution_count": null,
   "metadata": {},
   "outputs": [],
   "source": []
  }
 ],
 "metadata": {
  "kernelspec": {
   "display_name": "Python 3",
   "language": "python",
   "name": "python3"
  },
  "language_info": {
   "codemirror_mode": {
    "name": "ipython",
    "version": 3
   },
   "file_extension": ".py",
   "mimetype": "text/x-python",
   "name": "python",
   "nbconvert_exporter": "python",
   "pygments_lexer": "ipython3",
   "version": "3.8.1"
  }
 },
 "nbformat": 4,
 "nbformat_minor": 4
}
